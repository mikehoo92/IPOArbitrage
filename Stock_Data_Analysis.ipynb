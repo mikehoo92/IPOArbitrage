{
 "cells": [
  {
   "cell_type": "markdown",
   "metadata": {},
   "source": [
    "# IPO Arbitrage"
   ]
  },
  {
   "cell_type": "code",
   "execution_count": 6,
   "metadata": {},
   "outputs": [],
   "source": [
    "# Import libraries and dependencies\n",
    "import pandas as pd\n",
    "from pathlib import Path\n",
    "import numpy as np\n",
    "import pandas as pd\n",
    "import hvplot.pandas\n",
    "import hvplot.streamz\n",
    "from streamz.dataframe import Random\n",
    "%matplotlib inline"
   ]
  },
  {
   "cell_type": "markdown",
   "metadata": {},
   "source": [
    "## Read the Stock Data from the each of the Stock's Historical Data CSV File and create a dataframe of the necessary values."
   ]
  },
  {
   "cell_type": "code",
   "execution_count": 23,
   "metadata": {},
   "outputs": [],
   "source": [
    "# Use the Pathlib libary to set the path to the 5 Stock CSV Files and Exchange Rate CSV File.\n",
    "abnb_path = Path('Resources/ABNB-ABNB.csv')\n",
    "dash_path = Path('Resources/DASH-DASH.csv')\n",
    "prch_path = Path('Resources/PRCH-PRCH.csv')\n",
    "snow_path = Path('Resources/SNOW-SNOW.csv')\n",
    "upst_path = Path('Resources/UPST-UPST.csv')\n",
    "exchange_rate_path = Path('Resources/Exchange_Rate.csv')"
   ]
  },
  {
   "cell_type": "code",
   "execution_count": 13,
   "metadata": {},
   "outputs": [
    {
     "data": {
      "text/html": [
       "<div>\n",
       "<style scoped>\n",
       "    .dataframe tbody tr th:only-of-type {\n",
       "        vertical-align: middle;\n",
       "    }\n",
       "\n",
       "    .dataframe tbody tr th {\n",
       "        vertical-align: top;\n",
       "    }\n",
       "\n",
       "    .dataframe thead th {\n",
       "        text-align: right;\n",
       "    }\n",
       "</style>\n",
       "<table border=\"1\" class=\"dataframe\">\n",
       "  <thead>\n",
       "    <tr style=\"text-align: right;\">\n",
       "      <th></th>\n",
       "      <th>Open</th>\n",
       "      <th>High</th>\n",
       "      <th>Low</th>\n",
       "      <th>Close</th>\n",
       "      <th>Adj Close</th>\n",
       "      <th>Volume</th>\n",
       "    </tr>\n",
       "    <tr>\n",
       "      <th>Date</th>\n",
       "      <th></th>\n",
       "      <th></th>\n",
       "      <th></th>\n",
       "      <th></th>\n",
       "      <th></th>\n",
       "      <th></th>\n",
       "    </tr>\n",
       "  </thead>\n",
       "  <tbody>\n",
       "    <tr>\n",
       "      <th>2021-01-04</th>\n",
       "      <td>150.990005</td>\n",
       "      <td>151.005005</td>\n",
       "      <td>137.000000</td>\n",
       "      <td>139.149994</td>\n",
       "      <td>139.149994</td>\n",
       "      <td>6409900</td>\n",
       "    </tr>\n",
       "    <tr>\n",
       "      <th>2021-01-05</th>\n",
       "      <td>138.279999</td>\n",
       "      <td>149.000000</td>\n",
       "      <td>137.250000</td>\n",
       "      <td>148.300003</td>\n",
       "      <td>148.300003</td>\n",
       "      <td>5974200</td>\n",
       "    </tr>\n",
       "    <tr>\n",
       "      <th>2021-01-06</th>\n",
       "      <td>145.750000</td>\n",
       "      <td>148.350006</td>\n",
       "      <td>141.110001</td>\n",
       "      <td>142.770004</td>\n",
       "      <td>142.770004</td>\n",
       "      <td>4213900</td>\n",
       "    </tr>\n",
       "    <tr>\n",
       "      <th>2021-01-07</th>\n",
       "      <td>146.369995</td>\n",
       "      <td>154.419998</td>\n",
       "      <td>145.261002</td>\n",
       "      <td>151.270004</td>\n",
       "      <td>151.270004</td>\n",
       "      <td>4482800</td>\n",
       "    </tr>\n",
       "    <tr>\n",
       "      <th>2021-01-08</th>\n",
       "      <td>153.449997</td>\n",
       "      <td>155.539993</td>\n",
       "      <td>147.250000</td>\n",
       "      <td>149.770004</td>\n",
       "      <td>149.770004</td>\n",
       "      <td>4615600</td>\n",
       "    </tr>\n",
       "  </tbody>\n",
       "</table>\n",
       "</div>"
      ],
      "text/plain": [
       "                  Open        High         Low       Close   Adj Close  \\\n",
       "Date                                                                     \n",
       "2021-01-04  150.990005  151.005005  137.000000  139.149994  139.149994   \n",
       "2021-01-05  138.279999  149.000000  137.250000  148.300003  148.300003   \n",
       "2021-01-06  145.750000  148.350006  141.110001  142.770004  142.770004   \n",
       "2021-01-07  146.369995  154.419998  145.261002  151.270004  151.270004   \n",
       "2021-01-08  153.449997  155.539993  147.250000  149.770004  149.770004   \n",
       "\n",
       "             Volume  \n",
       "Date                 \n",
       "2021-01-04  6409900  \n",
       "2021-01-05  5974200  \n",
       "2021-01-06  4213900  \n",
       "2021-01-07  4482800  \n",
       "2021-01-08  4615600  "
      ]
     },
     "execution_count": 13,
     "metadata": {},
     "output_type": "execute_result"
    }
   ],
   "source": [
    "# Read in the ADNB-ABND.csv as a DataFrame\n",
    "abnb_df = pd.read_csv(abnb_path, index_col='Date', parse_dates=True, infer_datetime_format=True)\n",
    "\n",
    "# Review the DataFrame\n",
    "abnb_df.head()"
   ]
  },
  {
   "cell_type": "code",
   "execution_count": 14,
   "metadata": {},
   "outputs": [
    {
     "data": {
      "text/html": [
       "<div>\n",
       "<style scoped>\n",
       "    .dataframe tbody tr th:only-of-type {\n",
       "        vertical-align: middle;\n",
       "    }\n",
       "\n",
       "    .dataframe tbody tr th {\n",
       "        vertical-align: top;\n",
       "    }\n",
       "\n",
       "    .dataframe thead th {\n",
       "        text-align: right;\n",
       "    }\n",
       "</style>\n",
       "<table border=\"1\" class=\"dataframe\">\n",
       "  <thead>\n",
       "    <tr style=\"text-align: right;\">\n",
       "      <th></th>\n",
       "      <th>Open</th>\n",
       "      <th>Close</th>\n",
       "    </tr>\n",
       "    <tr>\n",
       "      <th>Date</th>\n",
       "      <th></th>\n",
       "      <th></th>\n",
       "    </tr>\n",
       "  </thead>\n",
       "  <tbody>\n",
       "    <tr>\n",
       "      <th>2021-01-04</th>\n",
       "      <td>150.990005</td>\n",
       "      <td>139.149994</td>\n",
       "    </tr>\n",
       "    <tr>\n",
       "      <th>2021-01-05</th>\n",
       "      <td>138.279999</td>\n",
       "      <td>148.300003</td>\n",
       "    </tr>\n",
       "    <tr>\n",
       "      <th>2021-01-06</th>\n",
       "      <td>145.750000</td>\n",
       "      <td>142.770004</td>\n",
       "    </tr>\n",
       "    <tr>\n",
       "      <th>2021-01-07</th>\n",
       "      <td>146.369995</td>\n",
       "      <td>151.270004</td>\n",
       "    </tr>\n",
       "    <tr>\n",
       "      <th>2021-01-08</th>\n",
       "      <td>153.449997</td>\n",
       "      <td>149.770004</td>\n",
       "    </tr>\n",
       "  </tbody>\n",
       "</table>\n",
       "</div>"
      ],
      "text/plain": [
       "                  Open       Close\n",
       "Date                              \n",
       "2021-01-04  150.990005  139.149994\n",
       "2021-01-05  138.279999  148.300003\n",
       "2021-01-06  145.750000  142.770004\n",
       "2021-01-07  146.369995  151.270004\n",
       "2021-01-08  153.449997  149.770004"
      ]
     },
     "execution_count": 14,
     "metadata": {},
     "output_type": "execute_result"
    }
   ],
   "source": [
    "# Drop the High, Low, Adj Close, and Volume Columns\n",
    "abnb_df.drop(columns=['High', 'Low', 'Adj Close', 'Volume'], inplace=True)\n",
    "abnb_df.head()"
   ]
  },
  {
   "cell_type": "code",
   "execution_count": 15,
   "metadata": {},
   "outputs": [
    {
     "data": {
      "text/html": [
       "<div>\n",
       "<style scoped>\n",
       "    .dataframe tbody tr th:only-of-type {\n",
       "        vertical-align: middle;\n",
       "    }\n",
       "\n",
       "    .dataframe tbody tr th {\n",
       "        vertical-align: top;\n",
       "    }\n",
       "\n",
       "    .dataframe thead th {\n",
       "        text-align: right;\n",
       "    }\n",
       "</style>\n",
       "<table border=\"1\" class=\"dataframe\">\n",
       "  <thead>\n",
       "    <tr style=\"text-align: right;\">\n",
       "      <th></th>\n",
       "      <th>Open</th>\n",
       "      <th>High</th>\n",
       "      <th>Low</th>\n",
       "      <th>Close</th>\n",
       "      <th>Adj Close</th>\n",
       "      <th>Volume</th>\n",
       "    </tr>\n",
       "    <tr>\n",
       "      <th>Date</th>\n",
       "      <th></th>\n",
       "      <th></th>\n",
       "      <th></th>\n",
       "      <th></th>\n",
       "      <th></th>\n",
       "      <th></th>\n",
       "    </tr>\n",
       "  </thead>\n",
       "  <tbody>\n",
       "    <tr>\n",
       "      <th>2021-01-04</th>\n",
       "      <td>142.500000</td>\n",
       "      <td>143.619995</td>\n",
       "      <td>137.169998</td>\n",
       "      <td>139.190002</td>\n",
       "      <td>139.190002</td>\n",
       "      <td>2026400</td>\n",
       "    </tr>\n",
       "    <tr>\n",
       "      <th>2021-01-05</th>\n",
       "      <td>138.000000</td>\n",
       "      <td>146.119995</td>\n",
       "      <td>137.835007</td>\n",
       "      <td>144.429993</td>\n",
       "      <td>144.429993</td>\n",
       "      <td>1031800</td>\n",
       "    </tr>\n",
       "    <tr>\n",
       "      <th>2021-01-06</th>\n",
       "      <td>141.270004</td>\n",
       "      <td>142.000000</td>\n",
       "      <td>138.210007</td>\n",
       "      <td>140.009995</td>\n",
       "      <td>140.009995</td>\n",
       "      <td>1931400</td>\n",
       "    </tr>\n",
       "    <tr>\n",
       "      <th>2021-01-07</th>\n",
       "      <td>140.000000</td>\n",
       "      <td>154.639999</td>\n",
       "      <td>139.434998</td>\n",
       "      <td>152.770004</td>\n",
       "      <td>152.770004</td>\n",
       "      <td>3215200</td>\n",
       "    </tr>\n",
       "    <tr>\n",
       "      <th>2021-01-08</th>\n",
       "      <td>152.000000</td>\n",
       "      <td>158.309998</td>\n",
       "      <td>147.300003</td>\n",
       "      <td>156.089996</td>\n",
       "      <td>156.089996</td>\n",
       "      <td>2548700</td>\n",
       "    </tr>\n",
       "  </tbody>\n",
       "</table>\n",
       "</div>"
      ],
      "text/plain": [
       "                  Open        High         Low       Close   Adj Close  \\\n",
       "Date                                                                     \n",
       "2021-01-04  142.500000  143.619995  137.169998  139.190002  139.190002   \n",
       "2021-01-05  138.000000  146.119995  137.835007  144.429993  144.429993   \n",
       "2021-01-06  141.270004  142.000000  138.210007  140.009995  140.009995   \n",
       "2021-01-07  140.000000  154.639999  139.434998  152.770004  152.770004   \n",
       "2021-01-08  152.000000  158.309998  147.300003  156.089996  156.089996   \n",
       "\n",
       "             Volume  \n",
       "Date                 \n",
       "2021-01-04  2026400  \n",
       "2021-01-05  1031800  \n",
       "2021-01-06  1931400  \n",
       "2021-01-07  3215200  \n",
       "2021-01-08  2548700  "
      ]
     },
     "execution_count": 15,
     "metadata": {},
     "output_type": "execute_result"
    }
   ],
   "source": [
    "# Read in the DASH-DASH.csv as a DataFrame\n",
    "dash_df = pd.read_csv(dash_path, index_col='Date', parse_dates=True, infer_datetime_format=True)\n",
    "\n",
    "# Review the DataFrame\n",
    "dash_df.head()"
   ]
  },
  {
   "cell_type": "code",
   "execution_count": 16,
   "metadata": {},
   "outputs": [
    {
     "data": {
      "text/html": [
       "<div>\n",
       "<style scoped>\n",
       "    .dataframe tbody tr th:only-of-type {\n",
       "        vertical-align: middle;\n",
       "    }\n",
       "\n",
       "    .dataframe tbody tr th {\n",
       "        vertical-align: top;\n",
       "    }\n",
       "\n",
       "    .dataframe thead th {\n",
       "        text-align: right;\n",
       "    }\n",
       "</style>\n",
       "<table border=\"1\" class=\"dataframe\">\n",
       "  <thead>\n",
       "    <tr style=\"text-align: right;\">\n",
       "      <th></th>\n",
       "      <th>Open</th>\n",
       "      <th>Close</th>\n",
       "    </tr>\n",
       "    <tr>\n",
       "      <th>Date</th>\n",
       "      <th></th>\n",
       "      <th></th>\n",
       "    </tr>\n",
       "  </thead>\n",
       "  <tbody>\n",
       "    <tr>\n",
       "      <th>2021-01-04</th>\n",
       "      <td>142.500000</td>\n",
       "      <td>139.190002</td>\n",
       "    </tr>\n",
       "    <tr>\n",
       "      <th>2021-01-05</th>\n",
       "      <td>138.000000</td>\n",
       "      <td>144.429993</td>\n",
       "    </tr>\n",
       "    <tr>\n",
       "      <th>2021-01-06</th>\n",
       "      <td>141.270004</td>\n",
       "      <td>140.009995</td>\n",
       "    </tr>\n",
       "    <tr>\n",
       "      <th>2021-01-07</th>\n",
       "      <td>140.000000</td>\n",
       "      <td>152.770004</td>\n",
       "    </tr>\n",
       "    <tr>\n",
       "      <th>2021-01-08</th>\n",
       "      <td>152.000000</td>\n",
       "      <td>156.089996</td>\n",
       "    </tr>\n",
       "  </tbody>\n",
       "</table>\n",
       "</div>"
      ],
      "text/plain": [
       "                  Open       Close\n",
       "Date                              \n",
       "2021-01-04  142.500000  139.190002\n",
       "2021-01-05  138.000000  144.429993\n",
       "2021-01-06  141.270004  140.009995\n",
       "2021-01-07  140.000000  152.770004\n",
       "2021-01-08  152.000000  156.089996"
      ]
     },
     "execution_count": 16,
     "metadata": {},
     "output_type": "execute_result"
    }
   ],
   "source": [
    "# Drop the High, Low, Adj Close, and Volume Columns\n",
    "dash_df.drop(columns=['High', 'Low', 'Adj Close', 'Volume'], inplace=True)\n",
    "dash_df.head()"
   ]
  },
  {
   "cell_type": "code",
   "execution_count": 17,
   "metadata": {},
   "outputs": [
    {
     "data": {
      "text/html": [
       "<div>\n",
       "<style scoped>\n",
       "    .dataframe tbody tr th:only-of-type {\n",
       "        vertical-align: middle;\n",
       "    }\n",
       "\n",
       "    .dataframe tbody tr th {\n",
       "        vertical-align: top;\n",
       "    }\n",
       "\n",
       "    .dataframe thead th {\n",
       "        text-align: right;\n",
       "    }\n",
       "</style>\n",
       "<table border=\"1\" class=\"dataframe\">\n",
       "  <thead>\n",
       "    <tr style=\"text-align: right;\">\n",
       "      <th></th>\n",
       "      <th>Open</th>\n",
       "      <th>High</th>\n",
       "      <th>Low</th>\n",
       "      <th>Close</th>\n",
       "      <th>Adj Close</th>\n",
       "      <th>Volume</th>\n",
       "    </tr>\n",
       "    <tr>\n",
       "      <th>Date</th>\n",
       "      <th></th>\n",
       "      <th></th>\n",
       "      <th></th>\n",
       "      <th></th>\n",
       "      <th></th>\n",
       "      <th></th>\n",
       "    </tr>\n",
       "  </thead>\n",
       "  <tbody>\n",
       "    <tr>\n",
       "      <th>2021-01-04</th>\n",
       "      <td>14.38</td>\n",
       "      <td>14.38</td>\n",
       "      <td>13.06</td>\n",
       "      <td>13.37</td>\n",
       "      <td>13.37</td>\n",
       "      <td>1096800</td>\n",
       "    </tr>\n",
       "    <tr>\n",
       "      <th>2021-01-05</th>\n",
       "      <td>13.40</td>\n",
       "      <td>13.49</td>\n",
       "      <td>12.91</td>\n",
       "      <td>13.31</td>\n",
       "      <td>13.31</td>\n",
       "      <td>1054300</td>\n",
       "    </tr>\n",
       "    <tr>\n",
       "      <th>2021-01-06</th>\n",
       "      <td>13.12</td>\n",
       "      <td>13.56</td>\n",
       "      <td>13.10</td>\n",
       "      <td>13.37</td>\n",
       "      <td>13.37</td>\n",
       "      <td>434300</td>\n",
       "    </tr>\n",
       "    <tr>\n",
       "      <th>2021-01-07</th>\n",
       "      <td>13.40</td>\n",
       "      <td>13.83</td>\n",
       "      <td>12.94</td>\n",
       "      <td>12.98</td>\n",
       "      <td>12.98</td>\n",
       "      <td>858600</td>\n",
       "    </tr>\n",
       "    <tr>\n",
       "      <th>2021-01-08</th>\n",
       "      <td>13.32</td>\n",
       "      <td>13.64</td>\n",
       "      <td>12.93</td>\n",
       "      <td>13.09</td>\n",
       "      <td>13.09</td>\n",
       "      <td>671200</td>\n",
       "    </tr>\n",
       "  </tbody>\n",
       "</table>\n",
       "</div>"
      ],
      "text/plain": [
       "             Open   High    Low  Close  Adj Close   Volume\n",
       "Date                                                      \n",
       "2021-01-04  14.38  14.38  13.06  13.37      13.37  1096800\n",
       "2021-01-05  13.40  13.49  12.91  13.31      13.31  1054300\n",
       "2021-01-06  13.12  13.56  13.10  13.37      13.37   434300\n",
       "2021-01-07  13.40  13.83  12.94  12.98      12.98   858600\n",
       "2021-01-08  13.32  13.64  12.93  13.09      13.09   671200"
      ]
     },
     "execution_count": 17,
     "metadata": {},
     "output_type": "execute_result"
    }
   ],
   "source": [
    "# Read in the PRCH-PRCH.csv as a DataFrame\n",
    "prch_df = pd.read_csv(prch_path, index_col='Date', parse_dates=True, infer_datetime_format=True)\n",
    "\n",
    "# Review the DataFrame\n",
    "prch_df.head()"
   ]
  },
  {
   "cell_type": "code",
   "execution_count": 18,
   "metadata": {},
   "outputs": [
    {
     "data": {
      "text/html": [
       "<div>\n",
       "<style scoped>\n",
       "    .dataframe tbody tr th:only-of-type {\n",
       "        vertical-align: middle;\n",
       "    }\n",
       "\n",
       "    .dataframe tbody tr th {\n",
       "        vertical-align: top;\n",
       "    }\n",
       "\n",
       "    .dataframe thead th {\n",
       "        text-align: right;\n",
       "    }\n",
       "</style>\n",
       "<table border=\"1\" class=\"dataframe\">\n",
       "  <thead>\n",
       "    <tr style=\"text-align: right;\">\n",
       "      <th></th>\n",
       "      <th>Open</th>\n",
       "      <th>Close</th>\n",
       "    </tr>\n",
       "    <tr>\n",
       "      <th>Date</th>\n",
       "      <th></th>\n",
       "      <th></th>\n",
       "    </tr>\n",
       "  </thead>\n",
       "  <tbody>\n",
       "    <tr>\n",
       "      <th>2021-01-04</th>\n",
       "      <td>14.38</td>\n",
       "      <td>13.37</td>\n",
       "    </tr>\n",
       "    <tr>\n",
       "      <th>2021-01-05</th>\n",
       "      <td>13.40</td>\n",
       "      <td>13.31</td>\n",
       "    </tr>\n",
       "    <tr>\n",
       "      <th>2021-01-06</th>\n",
       "      <td>13.12</td>\n",
       "      <td>13.37</td>\n",
       "    </tr>\n",
       "    <tr>\n",
       "      <th>2021-01-07</th>\n",
       "      <td>13.40</td>\n",
       "      <td>12.98</td>\n",
       "    </tr>\n",
       "    <tr>\n",
       "      <th>2021-01-08</th>\n",
       "      <td>13.32</td>\n",
       "      <td>13.09</td>\n",
       "    </tr>\n",
       "  </tbody>\n",
       "</table>\n",
       "</div>"
      ],
      "text/plain": [
       "             Open  Close\n",
       "Date                    \n",
       "2021-01-04  14.38  13.37\n",
       "2021-01-05  13.40  13.31\n",
       "2021-01-06  13.12  13.37\n",
       "2021-01-07  13.40  12.98\n",
       "2021-01-08  13.32  13.09"
      ]
     },
     "execution_count": 18,
     "metadata": {},
     "output_type": "execute_result"
    }
   ],
   "source": [
    "# Drop the High, Low, Adj Close, and Volume Columns\n",
    "prch_df.drop(columns=['High', 'Low', 'Adj Close', 'Volume'], inplace=True)\n",
    "prch_df.head()"
   ]
  },
  {
   "cell_type": "code",
   "execution_count": 19,
   "metadata": {},
   "outputs": [
    {
     "data": {
      "text/html": [
       "<div>\n",
       "<style scoped>\n",
       "    .dataframe tbody tr th:only-of-type {\n",
       "        vertical-align: middle;\n",
       "    }\n",
       "\n",
       "    .dataframe tbody tr th {\n",
       "        vertical-align: top;\n",
       "    }\n",
       "\n",
       "    .dataframe thead th {\n",
       "        text-align: right;\n",
       "    }\n",
       "</style>\n",
       "<table border=\"1\" class=\"dataframe\">\n",
       "  <thead>\n",
       "    <tr style=\"text-align: right;\">\n",
       "      <th></th>\n",
       "      <th>Open</th>\n",
       "      <th>High</th>\n",
       "      <th>Low</th>\n",
       "      <th>Close</th>\n",
       "      <th>Adj Close</th>\n",
       "      <th>Volume</th>\n",
       "    </tr>\n",
       "    <tr>\n",
       "      <th>Date</th>\n",
       "      <th></th>\n",
       "      <th></th>\n",
       "      <th></th>\n",
       "      <th></th>\n",
       "      <th></th>\n",
       "      <th></th>\n",
       "    </tr>\n",
       "  </thead>\n",
       "  <tbody>\n",
       "    <tr>\n",
       "      <th>2021-01-04</th>\n",
       "      <td>285.410004</td>\n",
       "      <td>290.799988</td>\n",
       "      <td>274.440002</td>\n",
       "      <td>278.239990</td>\n",
       "      <td>278.239990</td>\n",
       "      <td>3948500</td>\n",
       "    </tr>\n",
       "    <tr>\n",
       "      <th>2021-01-05</th>\n",
       "      <td>280.619995</td>\n",
       "      <td>293.489990</td>\n",
       "      <td>279.299988</td>\n",
       "      <td>283.829987</td>\n",
       "      <td>283.829987</td>\n",
       "      <td>5202600</td>\n",
       "    </tr>\n",
       "    <tr>\n",
       "      <th>2021-01-06</th>\n",
       "      <td>279.989990</td>\n",
       "      <td>283.639008</td>\n",
       "      <td>266.410004</td>\n",
       "      <td>268.019989</td>\n",
       "      <td>268.019989</td>\n",
       "      <td>5736800</td>\n",
       "    </tr>\n",
       "    <tr>\n",
       "      <th>2021-01-07</th>\n",
       "      <td>272.589996</td>\n",
       "      <td>304.899994</td>\n",
       "      <td>267.700012</td>\n",
       "      <td>304.200012</td>\n",
       "      <td>304.200012</td>\n",
       "      <td>16546600</td>\n",
       "    </tr>\n",
       "    <tr>\n",
       "      <th>2021-01-08</th>\n",
       "      <td>315.000000</td>\n",
       "      <td>325.720001</td>\n",
       "      <td>298.000000</td>\n",
       "      <td>300.100006</td>\n",
       "      <td>300.100006</td>\n",
       "      <td>9106800</td>\n",
       "    </tr>\n",
       "  </tbody>\n",
       "</table>\n",
       "</div>"
      ],
      "text/plain": [
       "                  Open        High         Low       Close   Adj Close  \\\n",
       "Date                                                                     \n",
       "2021-01-04  285.410004  290.799988  274.440002  278.239990  278.239990   \n",
       "2021-01-05  280.619995  293.489990  279.299988  283.829987  283.829987   \n",
       "2021-01-06  279.989990  283.639008  266.410004  268.019989  268.019989   \n",
       "2021-01-07  272.589996  304.899994  267.700012  304.200012  304.200012   \n",
       "2021-01-08  315.000000  325.720001  298.000000  300.100006  300.100006   \n",
       "\n",
       "              Volume  \n",
       "Date                  \n",
       "2021-01-04   3948500  \n",
       "2021-01-05   5202600  \n",
       "2021-01-06   5736800  \n",
       "2021-01-07  16546600  \n",
       "2021-01-08   9106800  "
      ]
     },
     "execution_count": 19,
     "metadata": {},
     "output_type": "execute_result"
    }
   ],
   "source": [
    "# Read in the SNOW-SNOW.csv as a DataFrame\n",
    "snow_df = pd.read_csv(snow_path, index_col='Date', parse_dates=True, infer_datetime_format=True)\n",
    "\n",
    "# Review the DataFrame\n",
    "snow_df.head()"
   ]
  },
  {
   "cell_type": "code",
   "execution_count": 20,
   "metadata": {},
   "outputs": [
    {
     "data": {
      "text/html": [
       "<div>\n",
       "<style scoped>\n",
       "    .dataframe tbody tr th:only-of-type {\n",
       "        vertical-align: middle;\n",
       "    }\n",
       "\n",
       "    .dataframe tbody tr th {\n",
       "        vertical-align: top;\n",
       "    }\n",
       "\n",
       "    .dataframe thead th {\n",
       "        text-align: right;\n",
       "    }\n",
       "</style>\n",
       "<table border=\"1\" class=\"dataframe\">\n",
       "  <thead>\n",
       "    <tr style=\"text-align: right;\">\n",
       "      <th></th>\n",
       "      <th>Open</th>\n",
       "      <th>Close</th>\n",
       "    </tr>\n",
       "    <tr>\n",
       "      <th>Date</th>\n",
       "      <th></th>\n",
       "      <th></th>\n",
       "    </tr>\n",
       "  </thead>\n",
       "  <tbody>\n",
       "    <tr>\n",
       "      <th>2021-01-04</th>\n",
       "      <td>285.410004</td>\n",
       "      <td>278.239990</td>\n",
       "    </tr>\n",
       "    <tr>\n",
       "      <th>2021-01-05</th>\n",
       "      <td>280.619995</td>\n",
       "      <td>283.829987</td>\n",
       "    </tr>\n",
       "    <tr>\n",
       "      <th>2021-01-06</th>\n",
       "      <td>279.989990</td>\n",
       "      <td>268.019989</td>\n",
       "    </tr>\n",
       "    <tr>\n",
       "      <th>2021-01-07</th>\n",
       "      <td>272.589996</td>\n",
       "      <td>304.200012</td>\n",
       "    </tr>\n",
       "    <tr>\n",
       "      <th>2021-01-08</th>\n",
       "      <td>315.000000</td>\n",
       "      <td>300.100006</td>\n",
       "    </tr>\n",
       "  </tbody>\n",
       "</table>\n",
       "</div>"
      ],
      "text/plain": [
       "                  Open       Close\n",
       "Date                              \n",
       "2021-01-04  285.410004  278.239990\n",
       "2021-01-05  280.619995  283.829987\n",
       "2021-01-06  279.989990  268.019989\n",
       "2021-01-07  272.589996  304.200012\n",
       "2021-01-08  315.000000  300.100006"
      ]
     },
     "execution_count": 20,
     "metadata": {},
     "output_type": "execute_result"
    }
   ],
   "source": [
    "# Drop the High, Low, Adj Close, and Volume Columns\n",
    "snow_df.drop(columns=['High', 'Low', 'Adj Close', 'Volume'], inplace=True)\n",
    "snow_df.head()"
   ]
  },
  {
   "cell_type": "code",
   "execution_count": 21,
   "metadata": {},
   "outputs": [
    {
     "data": {
      "text/html": [
       "<div>\n",
       "<style scoped>\n",
       "    .dataframe tbody tr th:only-of-type {\n",
       "        vertical-align: middle;\n",
       "    }\n",
       "\n",
       "    .dataframe tbody tr th {\n",
       "        vertical-align: top;\n",
       "    }\n",
       "\n",
       "    .dataframe thead th {\n",
       "        text-align: right;\n",
       "    }\n",
       "</style>\n",
       "<table border=\"1\" class=\"dataframe\">\n",
       "  <thead>\n",
       "    <tr style=\"text-align: right;\">\n",
       "      <th></th>\n",
       "      <th>Open</th>\n",
       "      <th>High</th>\n",
       "      <th>Low</th>\n",
       "      <th>Close</th>\n",
       "      <th>Adj Close</th>\n",
       "      <th>Volume</th>\n",
       "    </tr>\n",
       "    <tr>\n",
       "      <th>Date</th>\n",
       "      <th></th>\n",
       "      <th></th>\n",
       "      <th></th>\n",
       "      <th></th>\n",
       "      <th></th>\n",
       "      <th></th>\n",
       "    </tr>\n",
       "  </thead>\n",
       "  <tbody>\n",
       "    <tr>\n",
       "      <th>2021-01-04</th>\n",
       "      <td>40.340000</td>\n",
       "      <td>45.000000</td>\n",
       "      <td>38.049999</td>\n",
       "      <td>43.990002</td>\n",
       "      <td>43.990002</td>\n",
       "      <td>1347100</td>\n",
       "    </tr>\n",
       "    <tr>\n",
       "      <th>2021-01-05</th>\n",
       "      <td>45.099998</td>\n",
       "      <td>53.630001</td>\n",
       "      <td>44.200001</td>\n",
       "      <td>48.369999</td>\n",
       "      <td>48.369999</td>\n",
       "      <td>3590700</td>\n",
       "    </tr>\n",
       "    <tr>\n",
       "      <th>2021-01-06</th>\n",
       "      <td>47.049999</td>\n",
       "      <td>57.000000</td>\n",
       "      <td>45.139999</td>\n",
       "      <td>52.139999</td>\n",
       "      <td>52.139999</td>\n",
       "      <td>2903200</td>\n",
       "    </tr>\n",
       "    <tr>\n",
       "      <th>2021-01-07</th>\n",
       "      <td>55.990002</td>\n",
       "      <td>61.259998</td>\n",
       "      <td>55.040001</td>\n",
       "      <td>55.389999</td>\n",
       "      <td>55.389999</td>\n",
       "      <td>1518900</td>\n",
       "    </tr>\n",
       "    <tr>\n",
       "      <th>2021-01-08</th>\n",
       "      <td>58.000000</td>\n",
       "      <td>58.000000</td>\n",
       "      <td>50.279999</td>\n",
       "      <td>52.730000</td>\n",
       "      <td>52.730000</td>\n",
       "      <td>1407700</td>\n",
       "    </tr>\n",
       "  </tbody>\n",
       "</table>\n",
       "</div>"
      ],
      "text/plain": [
       "                 Open       High        Low      Close  Adj Close   Volume\n",
       "Date                                                                      \n",
       "2021-01-04  40.340000  45.000000  38.049999  43.990002  43.990002  1347100\n",
       "2021-01-05  45.099998  53.630001  44.200001  48.369999  48.369999  3590700\n",
       "2021-01-06  47.049999  57.000000  45.139999  52.139999  52.139999  2903200\n",
       "2021-01-07  55.990002  61.259998  55.040001  55.389999  55.389999  1518900\n",
       "2021-01-08  58.000000  58.000000  50.279999  52.730000  52.730000  1407700"
      ]
     },
     "execution_count": 21,
     "metadata": {},
     "output_type": "execute_result"
    }
   ],
   "source": [
    "# Read in the UPST-UPST.csv as a DataFrame\n",
    "upst_df = pd.read_csv(upst_path, index_col='Date', parse_dates=True, infer_datetime_format=True)\n",
    "\n",
    "# Review the DataFrame\n",
    "upst_df.head()"
   ]
  },
  {
   "cell_type": "code",
   "execution_count": 22,
   "metadata": {},
   "outputs": [
    {
     "data": {
      "text/html": [
       "<div>\n",
       "<style scoped>\n",
       "    .dataframe tbody tr th:only-of-type {\n",
       "        vertical-align: middle;\n",
       "    }\n",
       "\n",
       "    .dataframe tbody tr th {\n",
       "        vertical-align: top;\n",
       "    }\n",
       "\n",
       "    .dataframe thead th {\n",
       "        text-align: right;\n",
       "    }\n",
       "</style>\n",
       "<table border=\"1\" class=\"dataframe\">\n",
       "  <thead>\n",
       "    <tr style=\"text-align: right;\">\n",
       "      <th></th>\n",
       "      <th>Open</th>\n",
       "      <th>Close</th>\n",
       "    </tr>\n",
       "    <tr>\n",
       "      <th>Date</th>\n",
       "      <th></th>\n",
       "      <th></th>\n",
       "    </tr>\n",
       "  </thead>\n",
       "  <tbody>\n",
       "    <tr>\n",
       "      <th>2021-01-04</th>\n",
       "      <td>40.340000</td>\n",
       "      <td>43.990002</td>\n",
       "    </tr>\n",
       "    <tr>\n",
       "      <th>2021-01-05</th>\n",
       "      <td>45.099998</td>\n",
       "      <td>48.369999</td>\n",
       "    </tr>\n",
       "    <tr>\n",
       "      <th>2021-01-06</th>\n",
       "      <td>47.049999</td>\n",
       "      <td>52.139999</td>\n",
       "    </tr>\n",
       "    <tr>\n",
       "      <th>2021-01-07</th>\n",
       "      <td>55.990002</td>\n",
       "      <td>55.389999</td>\n",
       "    </tr>\n",
       "    <tr>\n",
       "      <th>2021-01-08</th>\n",
       "      <td>58.000000</td>\n",
       "      <td>52.730000</td>\n",
       "    </tr>\n",
       "  </tbody>\n",
       "</table>\n",
       "</div>"
      ],
      "text/plain": [
       "                 Open      Close\n",
       "Date                            \n",
       "2021-01-04  40.340000  43.990002\n",
       "2021-01-05  45.099998  48.369999\n",
       "2021-01-06  47.049999  52.139999\n",
       "2021-01-07  55.990002  55.389999\n",
       "2021-01-08  58.000000  52.730000"
      ]
     },
     "execution_count": 22,
     "metadata": {},
     "output_type": "execute_result"
    }
   ],
   "source": [
    "# Drop the High, Low, Adj Close, and Volume Columns\n",
    "upst_df.drop(columns=['High', 'Low', 'Adj Close', 'Volume'], inplace=True)\n",
    "upst_df.head()"
   ]
  },
  {
   "cell_type": "code",
   "execution_count": 25,
   "metadata": {},
   "outputs": [
    {
     "data": {
      "text/html": [
       "<div>\n",
       "<style scoped>\n",
       "    .dataframe tbody tr th:only-of-type {\n",
       "        vertical-align: middle;\n",
       "    }\n",
       "\n",
       "    .dataframe tbody tr th {\n",
       "        vertical-align: top;\n",
       "    }\n",
       "\n",
       "    .dataframe thead th {\n",
       "        text-align: right;\n",
       "    }\n",
       "</style>\n",
       "<table border=\"1\" class=\"dataframe\">\n",
       "  <thead>\n",
       "    <tr style=\"text-align: right;\">\n",
       "      <th></th>\n",
       "      <th>Brazilian real   (BRL)</th>\n",
       "      <th>Canadian dollar   (CAD)</th>\n",
       "      <th>Chilean peso   (CLP)</th>\n",
       "      <th>Euro   (EUR)</th>\n",
       "      <th>Japanese yen   (JPY)</th>\n",
       "      <th>U.S. dollar   (USD)</th>\n",
       "    </tr>\n",
       "    <tr>\n",
       "      <th>Date</th>\n",
       "      <th></th>\n",
       "      <th></th>\n",
       "      <th></th>\n",
       "      <th></th>\n",
       "      <th></th>\n",
       "      <th></th>\n",
       "    </tr>\n",
       "  </thead>\n",
       "  <tbody>\n",
       "    <tr>\n",
       "      <th>2021-01-04</th>\n",
       "      <td>0.133714</td>\n",
       "      <td>0.541318</td>\n",
       "      <td>0.000971</td>\n",
       "      <td>0.848712</td>\n",
       "      <td>0.006696</td>\n",
       "      <td>0.690234</td>\n",
       "    </tr>\n",
       "    <tr>\n",
       "      <th>2021-01-05</th>\n",
       "      <td>0.129664</td>\n",
       "      <td>0.543502</td>\n",
       "      <td>0.000982</td>\n",
       "      <td>0.847470</td>\n",
       "      <td>0.006696</td>\n",
       "      <td>0.690628</td>\n",
       "    </tr>\n",
       "    <tr>\n",
       "      <th>2021-01-06</th>\n",
       "      <td>0.129632</td>\n",
       "      <td>0.543422</td>\n",
       "      <td>0.000982</td>\n",
       "      <td>0.850497</td>\n",
       "      <td>0.006706</td>\n",
       "      <td>0.689331</td>\n",
       "    </tr>\n",
       "    <tr>\n",
       "      <th>2021-01-07</th>\n",
       "      <td>0.129507</td>\n",
       "      <td>0.544515</td>\n",
       "      <td>0.000994</td>\n",
       "      <td>0.849395</td>\n",
       "      <td>0.006718</td>\n",
       "      <td>0.691915</td>\n",
       "    </tr>\n",
       "    <tr>\n",
       "      <th>2021-01-08</th>\n",
       "      <td>0.128912</td>\n",
       "      <td>0.544637</td>\n",
       "      <td>0.000975</td>\n",
       "      <td>0.847652</td>\n",
       "      <td>0.006664</td>\n",
       "      <td>0.691961</td>\n",
       "    </tr>\n",
       "  </tbody>\n",
       "</table>\n",
       "</div>"
      ],
      "text/plain": [
       "            Brazilian real   (BRL)                       \\\n",
       "Date                                                      \n",
       "2021-01-04                                     0.133714   \n",
       "2021-01-05                                     0.129664   \n",
       "2021-01-06                                     0.129632   \n",
       "2021-01-07                                     0.129507   \n",
       "2021-01-08                                     0.128912   \n",
       "\n",
       "            Canadian dollar   (CAD)                       \\\n",
       "Date                                                       \n",
       "2021-01-04                                      0.541318   \n",
       "2021-01-05                                      0.543502   \n",
       "2021-01-06                                      0.543422   \n",
       "2021-01-07                                      0.544515   \n",
       "2021-01-08                                      0.544637   \n",
       "\n",
       "            Chilean peso   (CLP)                       \\\n",
       "Date                                                    \n",
       "2021-01-04                                   0.000971   \n",
       "2021-01-05                                   0.000982   \n",
       "2021-01-06                                   0.000982   \n",
       "2021-01-07                                   0.000994   \n",
       "2021-01-08                                   0.000975   \n",
       "\n",
       "            Euro   (EUR)                       \\\n",
       "Date                                            \n",
       "2021-01-04                           0.848712   \n",
       "2021-01-05                           0.847470   \n",
       "2021-01-06                           0.850497   \n",
       "2021-01-07                           0.849395   \n",
       "2021-01-08                           0.847652   \n",
       "\n",
       "            Japanese yen   (JPY)                       \\\n",
       "Date                                                    \n",
       "2021-01-04                                   0.006696   \n",
       "2021-01-05                                   0.006696   \n",
       "2021-01-06                                   0.006706   \n",
       "2021-01-07                                   0.006718   \n",
       "2021-01-08                                   0.006664   \n",
       "\n",
       "            U.S. dollar   (USD)                       \n",
       "Date                                                  \n",
       "2021-01-04                                  0.690234  \n",
       "2021-01-05                                  0.690628  \n",
       "2021-01-06                                  0.689331  \n",
       "2021-01-07                                  0.691915  \n",
       "2021-01-08                                  0.691961  "
      ]
     },
     "execution_count": 25,
     "metadata": {},
     "output_type": "execute_result"
    }
   ],
   "source": [
    "# Read in the Exchange_Rate.csv as a DataFrame\n",
    "currency_df = pd.read_csv(exchange_rate_path, index_col='Date', parse_dates=True, infer_datetime_format=True)\n",
    "\n",
    "# Review the DataFrame\n",
    "currency_df.head()"
   ]
  },
  {
   "cell_type": "code",
   "execution_count": 26,
   "metadata": {},
   "outputs": [
    {
     "data": {
      "text/plain": [
       "<AxesSubplot:title={'center':'Daily Opening and Closing Prices for Airbnb, Inc.'}, xlabel='days', ylabel='price'>"
      ]
     },
     "execution_count": 26,
     "metadata": {},
     "output_type": "execute_result"
    },
    {
     "data": {
      "image/png": "[encoded data removed]",
      "text/plain": [
       "<Figure size 432x288 with 1 Axes>"
      ]
     },
     "metadata": {
      "needs_background": "light"
     },
     "output_type": "display_data"
    }
   ],
   "source": [
    "# Plotting the daily closing stock price of Airbnb, Inc. during last 30 days\n",
    "abnb_df.plot(ylabel=\"price\", xlabel=\"days\", title=\"Daily Opening and Closing Prices for Airbnb, Inc.\")"
   ]
  },
  {
   "cell_type": "code",
   "execution_count": 15,
   "metadata": {},
   "outputs": [
    {
     "data": {
      "text/plain": [
       "<AxesSubplot:title={'center':'Daily Opening and Closing Prices for DoorDash'}, xlabel='days', ylabel='price'>"
      ]
     },
     "execution_count": 15,
     "metadata": {},
     "output_type": "execute_result"
    },
    {
     "data": {
      "image/png": "[encoded data removed]",
      "text/plain": [
       "<Figure size 432x288 with 1 Axes>"
      ]
     },
     "metadata": {
      "needs_background": "light"
     },
     "output_type": "display_data"
    }
   ],
   "source": [
    "# Plotting the daily closing stock price of the DoorDash during the last 30 days \n",
    "dash_df.plot(xlabel=\"days\", ylabel=\"price\", title=\"Daily Opening and Closing Prices for DoorDash\")"
   ]
  },
  {
   "cell_type": "code",
   "execution_count": 16,
   "metadata": {},
   "outputs": [
    {
     "data": {
      "text/plain": [
       "<AxesSubplot:title={'center':'Daily Opening and Closing Prices for Porch Group I'}, xlabel='days', ylabel='price'>"
      ]
     },
     "execution_count": 16,
     "metadata": {},
     "output_type": "execute_result"
    },
    {
     "data": {
      "image/png": "[encoded data removed]",
      "text/plain": [
       "<Figure size 432x288 with 1 Axes>"
      ]
     },
     "metadata": {
      "needs_background": "light"
     },
     "output_type": "display_data"
    }
   ],
   "source": [
    "# Plotting the daily closing stock price of the Porch Group Inc. during the last 30 days \n",
    "prch_df.plot(ylabel=\"price\", xlabel=\"days\", title=\"Daily Opening and Closing Prices for Porch Group I\")"
   ]
  },
  {
   "cell_type": "code",
   "execution_count": 17,
   "metadata": {},
   "outputs": [
    {
     "data": {
      "text/plain": [
       "<AxesSubplot:title={'center':'Daily Opening and Closing Prices for Snowflake'}, xlabel='days', ylabel='price'>"
      ]
     },
     "execution_count": 17,
     "metadata": {},
     "output_type": "execute_result"
    },
    {
     "data": {
      "image/png": "[encoded data removed]",
      "text/plain": [
       "<Figure size 432x288 with 1 Axes>"
      ]
     },
     "metadata": {
      "needs_background": "light"
     },
     "output_type": "display_data"
    }
   ],
   "source": [
    "# Plotting the daily closing stock price of Snowflacke during the last 30 days \n",
    "snow_df.plot(ylabel=\"price\", xlabel=\"days\", title=\"Daily Opening and Closing Prices for Snowflake\")"
   ]
  },
  {
   "cell_type": "code",
   "execution_count": 18,
   "metadata": {},
   "outputs": [
    {
     "data": {
      "text/plain": [
       "<AxesSubplot:title={'center':'Daily Opening and Closing Prices for Upstart Holdings Inc'}, xlabel='days', ylabel='price'>"
      ]
     },
     "execution_count": 18,
     "metadata": {},
     "output_type": "execute_result"
    },
    {
     "data": {
      "image/png": "[encoded data removed]",
      "text/plain": [
       "<Figure size 432x288 with 1 Axes>"
      ]
     },
     "metadata": {
      "needs_background": "light"
     },
     "output_type": "display_data"
    }
   ],
   "source": [
    "# Plotting the daily closing stock price of Upstart Holdings Inc during the last 30 days \n",
    "upst_df.plot(ylabel=\"price\", xlabel=\"days\", title=\"Daily Opening and Closing Prices for Upstart Holdings Inc\")"
   ]
  },
  {
   "cell_type": "code",
   "execution_count": 19,
   "metadata": {},
   "outputs": [],
   "source": [
    "# Combine opening and closing prices for each ticker\n",
    "#combined_df = pd.concat([abnb_df, dash_df, prch_df, snow_df, upst_df], axis=\"columns\", join=\"inner\")\n",
    "\n",
    "#combined_df = pd.concat([abnb_df, dash_df, prch_df, snow_df, upst_df], axis=\"columns\", join=\"inner\")\n",
    "#combined_df.columns = ['ABNB Open', 'ABNB Close', 'DASH Open', 'DASH Close', 'PRCH Open', 'PRCH Close', 'SNOW Open', 'PRCH Close', 'UPST Open', 'UPST Close']\n",
    "#combined_df.head()\n",
    "\n",
    "# Sortting datetime index in ascending order \n",
    "#combined_df.sort_index()\n",
    "\n",
    "# Setting column names \n",
    "#combined_df.columns = ['ABNB', 'DASH', 'PRCH', 'SNOW', 'UPST']\n",
    "\n",
    "# Display a few rows\n",
    "#combined_df.head()"
   ]
  },
  {
   "cell_type": "code",
   "execution_count": 20,
   "metadata": {},
   "outputs": [],
   "source": [
    "#using hvplot, hvplot.bar, hvplot.scatter for visualization"
   ]
  },
  {
   "cell_type": "code",
   "execution_count": 21,
   "metadata": {},
   "outputs": [
    {
     "data": {},
     "metadata": {},
     "output_type": "display_data"
    },
    {
     "data": {
      "application/vnd.holoviews_exec.v0+json": "",
      "text/html": [
       "<div id='1001'>\n",
       "\n",
       "\n",
       "\n",
       "\n",
       "\n",
       "  <div class=\"bk-root\" id=\"5b2e7266-01cb-4e8b-aa2e-726894480659\" data-root-id=\"1001\"></div>\n",
       "</div>\n",
       "<script type=\"application/javascript\">(function(root) {\n",
       "  function embed_document(root) {\n",
       "    var docs_json = {\"d83f78ec-0824-4394-8cae-099e14ab6132\":{\"roots\":{\"references\":[{\"attributes\":{\"line_alpha\":0.1,\"line_color\":\"#1f77b3\",\"line_width\":2,\"x\":{\"field\":\"index\"},\"y\":{\"field\":\"value\"}},\"id\":\"1045\",\"type\":\"Line\"},{\"attributes\":{},\"id\":\"1042\",\"type\":\"Selection\"},{\"attributes\":{\"bottom_units\":\"screen\",\"fill_alpha\":0.5,\"fill_color\":\"lightgrey\",\"left_units\":\"screen\",\"level\":\"overlay\",\"line_alpha\":1.0,\"line_color\":\"black\",\"line_dash\":[4,4],\"line_width\":2,\"right_units\":\"screen\",\"top_units\":\"screen\"},\"id\":\"1029\",\"type\":\"BoxAnnotation\"},{\"attributes\":{\"axis_label\":\"\",\"bounds\":\"auto\",\"formatter\":{\"id\":\"1037\"},\"major_label_orientation\":\"horizontal\",\"ticker\":{\"id\":\"1017\"}},\"id\":\"1016\",\"type\":\"LinearAxis\"},{\"attributes\":{\"source\":{\"id\":\"1041\"}},\"id\":\"1048\",\"type\":\"CDSView\"},{\"attributes\":{\"callback\":null,\"renderers\":[{\"id\":\"1047\"},{\"id\":\"1065\"}],\"tags\":[\"hv_created\"],\"tooltips\":[[\"Variable\",\"@{Variable}\"],[\"index\",\"@{index}\"],[\"value\",\"@{value}\"]]},\"id\":\"1005\",\"type\":\"HoverTool\"},{\"attributes\":{\"below\":[{\"id\":\"1016\"}],\"center\":[{\"id\":\"1019\"},{\"id\":\"1023\"}],\"left\":[{\"id\":\"1020\"}],\"margin\":[5,5,5,5],\"min_border_bottom\":10,\"min_border_left\":10,\"min_border_right\":10,\"min_border_top\":10,\"plot_height\":300,\"plot_width\":700,\"renderers\":[{\"id\":\"1047\"},{\"id\":\"1065\"}],\"right\":[{\"id\":\"1057\"}],\"sizing_mode\":\"fixed\",\"title\":{\"id\":\"1008\"},\"toolbar\":{\"id\":\"1030\"},\"x_range\":{\"id\":\"1003\"},\"x_scale\":{\"id\":\"1012\"},\"y_range\":{\"id\":\"1004\"},\"y_scale\":{\"id\":\"1014\"}},\"id\":\"1007\",\"subtype\":\"Figure\",\"type\":\"Plot\"},{\"attributes\":{\"end\":224.69599569999997,\"reset_end\":224.69599569999997,\"reset_start\":130.4239993,\"start\":130.4239993,\"tags\":[[[\"value\",\"value\",null]]]},\"id\":\"1004\",\"type\":\"Range1d\"},{\"attributes\":{\"line_alpha\":0.2,\"line_color\":\"#1f77b3\",\"line_width\":2,\"x\":{\"field\":\"index\"},\"y\":{\"field\":\"value\"}},\"id\":\"1046\",\"type\":\"Line\"},{\"attributes\":{},\"id\":\"1014\",\"type\":\"LinearScale\"},{\"attributes\":{\"axis\":{\"id\":\"1016\"},\"grid_line_color\":null,\"ticker\":null},\"id\":\"1019\",\"type\":\"Grid\"},{\"attributes\":{},\"id\":\"1017\",\"type\":\"BasicTicker\"},{\"attributes\":{\"end\":29.0,\"reset_end\":29.0,\"reset_start\":0.0,\"tags\":[[[\"index\",\"index\",null]]]},\"id\":\"1003\",\"type\":\"Range1d\"},{\"attributes\":{\"label\":{\"value\":\"Close\"},\"renderers\":[{\"id\":\"1065\"}]},\"id\":\"1077\",\"type\":\"LegendItem\"},{\"attributes\":{\"line_color\":\"#ff7e0e\",\"line_width\":2,\"x\":{\"field\":\"index\"},\"y\":{\"field\":\"value\"}},\"id\":\"1062\",\"type\":\"Line\"},{\"attributes\":{\"data\":{\"Variable\":[\"Open\",\"Open\",\"Open\",\"Open\",\"Open\",\"Open\",\"Open\",\"Open\",\"Open\",\"Open\",\"Open\",\"Open\",\"Open\",\"Open\",\"Open\",\"Open\",\"Open\",\"Open\",\"Open\",\"Open\",\"Open\",\"Open\",\"Open\",\"Open\",\"Open\",\"Open\",\"Open\",\"Open\",\"Open\",\"Open\"],\"index\":[0,1,2,3,4,5,6,7,8,9,10,11,12,13,14,15,16,17,18,19,20,21,22,23,24,25,26,27,28,29],\"value\":{\"__ndarray__\":\"DDz3Hq7fYkA1fXbA9UhhQAAAAAAAOGJA3xXB/9ZLYkCKyRtgZi5jQAw89x6uf2JAq7NaYI+CYkBq+uyA6xlkQDRiZp9H8WVAq7NaYI8SZ0AAAAAAAKBlQPTDCOFRAGZADDz3Hq6fZECqmEo/4UJmQHY25J+ZQWdAAAAAAACAZkAgzy7fenRnQOxsyD8zU2lAzJ2ZYLjWZ0C/RpIgXG9nQMuCiT8K52ZAv0aSIFy/ZkC371F/PWJnQAAAAAAAoGhASRCugML9aECtvyUAf+ZoQL9GkiBcr2lAAAAAAACwakCBme/gp85qQAs89x6uB2tA\",\"dtype\":\"float64\",\"order\":\"little\",\"shape\":[30]}},\"selected\":{\"id\":\"1042\"},\"selection_policy\":{\"id\":\"1055\"}},\"id\":\"1041\",\"type\":\"ColumnDataSource\"},{\"attributes\":{\"data_source\":{\"id\":\"1059\"},\"glyph\":{\"id\":\"1062\"},\"hover_glyph\":null,\"muted_glyph\":{\"id\":\"1064\"},\"nonselection_glyph\":{\"id\":\"1063\"},\"selection_glyph\":null,\"view\":{\"id\":\"1066\"}},\"id\":\"1065\",\"type\":\"GlyphRenderer\"},{\"attributes\":{},\"id\":\"1021\",\"type\":\"BasicTicker\"},{\"attributes\":{},\"id\":\"1012\",\"type\":\"LinearScale\"},{\"attributes\":{\"axis\":{\"id\":\"1020\"},\"dimension\":1,\"grid_line_color\":null,\"ticker\":null},\"id\":\"1023\",\"type\":\"Grid\"},{\"attributes\":{\"margin\":[5,5,5,5],\"name\":\"HSpacer01562\",\"sizing_mode\":\"stretch_width\"},\"id\":\"1168\",\"type\":\"Spacer\"},{\"attributes\":{\"axis_label\":\"\",\"bounds\":\"auto\",\"formatter\":{\"id\":\"1039\"},\"major_label_orientation\":\"horizontal\",\"ticker\":{\"id\":\"1021\"}},\"id\":\"1020\",\"type\":\"LinearAxis\"},{\"attributes\":{\"line_alpha\":0.1,\"line_color\":\"#ff7e0e\",\"line_width\":2,\"x\":{\"field\":\"index\"},\"y\":{\"field\":\"value\"}},\"id\":\"1063\",\"type\":\"Line\"},{\"attributes\":{\"children\":[{\"id\":\"1002\"},{\"id\":\"1007\"},{\"id\":\"1168\"}],\"margin\":[0,0,0,0],\"name\":\"Row01557\",\"tags\":[\"embedded\"]},\"id\":\"1001\",\"type\":\"Row\"},{\"attributes\":{},\"id\":\"1025\",\"type\":\"PanTool\"},{\"attributes\":{\"text\":\"Opening & Closing Values of Airbnb last 30 days\",\"text_color\":{\"value\":\"black\"},\"text_font_size\":{\"value\":\"12pt\"}},\"id\":\"1008\",\"type\":\"Title\"},{\"attributes\":{},\"id\":\"1026\",\"type\":\"WheelZoomTool\"},{\"attributes\":{\"margin\":[5,5,5,5],\"name\":\"HSpacer01561\",\"sizing_mode\":\"stretch_width\"},\"id\":\"1002\",\"type\":\"Spacer\"},{\"attributes\":{},\"id\":\"1024\",\"type\":\"SaveTool\"},{\"attributes\":{},\"id\":\"1060\",\"type\":\"Selection\"},{\"attributes\":{\"overlay\":{\"id\":\"1029\"}},\"id\":\"1027\",\"type\":\"BoxZoomTool\"},{\"attributes\":{},\"id\":\"1028\",\"type\":\"ResetTool\"},{\"attributes\":{\"active_drag\":\"auto\",\"active_inspect\":\"auto\",\"active_multi\":null,\"active_scroll\":\"auto\",\"active_tap\":\"auto\",\"tools\":[{\"id\":\"1005\"},{\"id\":\"1024\"},{\"id\":\"1025\"},{\"id\":\"1026\"},{\"id\":\"1027\"},{\"id\":\"1028\"}]},\"id\":\"1030\",\"type\":\"Toolbar\"},{\"attributes\":{\"line_alpha\":0.2,\"line_color\":\"#ff7e0e\",\"line_width\":2,\"x\":{\"field\":\"index\"},\"y\":{\"field\":\"value\"}},\"id\":\"1064\",\"type\":\"Line\"},{\"attributes\":{},\"id\":\"1037\",\"type\":\"BasicTickFormatter\"},{\"attributes\":{\"source\":{\"id\":\"1059\"}},\"id\":\"1066\",\"type\":\"CDSView\"},{\"attributes\":{\"click_policy\":\"mute\",\"items\":[{\"id\":\"1058\"},{\"id\":\"1077\"}],\"location\":[0,0],\"title\":\"Variable\"},\"id\":\"1057\",\"type\":\"Legend\"},{\"attributes\":{},\"id\":\"1039\",\"type\":\"BasicTickFormatter\"},{\"attributes\":{\"line_color\":\"#1f77b3\",\"line_width\":2,\"x\":{\"field\":\"index\"},\"y\":{\"field\":\"value\"}},\"id\":\"1044\",\"type\":\"Line\"},{\"attributes\":{\"data\":{\"Variable\":[\"Close\",\"Close\",\"Close\",\"Close\",\"Close\",\"Close\",\"Close\",\"Close\",\"Close\",\"Close\",\"Close\",\"Close\",\"Close\",\"Close\",\"Close\",\"Close\",\"Close\",\"Close\",\"Close\",\"Close\",\"Close\",\"Close\",\"Close\",\"Close\",\"Close\",\"Close\",\"Close\",\"Close\",\"Close\",\"Close\"],\"index\":[0,1,2,3,4,5,6,7,8,9,10,11,12,13,14,15,16,17,18,19,20,21,22,23,24,25,26,27,28,29],\"value\":{\"__ndarray__\":\"FJM3wMxkYUB2NuSfmYliQEG5bd+j2GFAQblt36PoYkBBuW3fo7hiQCHqPgAphGJAdjbkn5kZZEAMPPcerj9lQAAAAAAAkGZAQblt36MoZUCWBRN/FLZlQKuzWmCPOmRAFJM3wMyMZkDfFcH/1rtmQDV9dsD1MGZADDz3Hq4XaEAAAAAAAChpQN8Vwf/Wa2dAIeo+ACn0ZkCWBRN/FI5mQFVMpZ9wZWZAy4KJPwo3Z0B2NuSfmXloQGr67IDraWhASRCugMINaUAh6j4AKfxoQFZntcAedWpAqphKP+Eaa0BKEK6AwpVqQN8w0SCFO2pA\",\"dtype\":\"float64\",\"order\":\"little\",\"shape\":[30]}},\"selected\":{\"id\":\"1060\"},\"selection_policy\":{\"id\":\"1075\"}},\"id\":\"1059\",\"type\":\"ColumnDataSource\"},{\"attributes\":{},\"id\":\"1075\",\"type\":\"UnionRenderers\"},{\"attributes\":{\"label\":{\"value\":\"Open\"},\"renderers\":[{\"id\":\"1047\"}]},\"id\":\"1058\",\"type\":\"LegendItem\"},{\"attributes\":{\"data_source\":{\"id\":\"1041\"},\"glyph\":{\"id\":\"1044\"},\"hover_glyph\":null,\"muted_glyph\":{\"id\":\"1046\"},\"nonselection_glyph\":{\"id\":\"1045\"},\"selection_glyph\":null,\"view\":{\"id\":\"1048\"}},\"id\":\"1047\",\"type\":\"GlyphRenderer\"},{\"attributes\":{},\"id\":\"1055\",\"type\":\"UnionRenderers\"}],\"root_ids\":[\"1001\"]},\"title\":\"Bokeh Application\",\"version\":\"2.2.3\"}};\n",
       "    var render_items = [{\"docid\":\"d83f78ec-0824-4394-8cae-099e14ab6132\",\"root_ids\":[\"1001\"],\"roots\":{\"1001\":\"5b2e7266-01cb-4e8b-aa2e-726894480659\"}}];\n",
       "    root.Bokeh.embed.embed_items_notebook(docs_json, render_items);\n",
       "  }\n",
       "  if (root.Bokeh !== undefined && root.Bokeh.Panel !== undefined) {\n",
       "    embed_document(root);\n",
       "  } else {\n",
       "    var attempts = 0;\n",
       "    var timer = setInterval(function(root) {\n",
       "      if (root.Bokeh !== undefined && root.Bokeh.Panel !== undefined) {\n",
       "        clearInterval(timer);\n",
       "        embed_document(root);\n",
       "      } else if (document.readyState == \"complete\") {\n",
       "        attempts++;\n",
       "        if (attempts > 100) {\n",
       "          clearInterval(timer);\n",
       "          console.log(\"Bokeh: ERROR: Unable to run BokehJS code because BokehJS library is missing\");\n",
       "        }\n",
       "      }\n",
       "    }, 10, root)\n",
       "  }\n",
       "})(window);</script>"
      ],
      "text/plain": [
       ":NdOverlay   [Variable]\n",
       "   :Curve   [index]   (value)"
      ]
     },
     "execution_count": 21,
     "metadata": {
      "application/vnd.holoviews_exec.v0+json": {
       "id": "1001"
      }
     },
     "output_type": "execute_result"
    }
   ],
   "source": [
    "abnb_df.hvplot(title=\"Opening & Closing Values of Airbnb last 30 days\")"
   ]
  },
  {
   "cell_type": "code",
   "execution_count": 22,
   "metadata": {},
   "outputs": [
    {
     "data": {},
     "metadata": {},
     "output_type": "display_data"
    },
    {
     "data": {
      "application/vnd.holoviews_exec.v0+json": "",
      "text/html": [
       "<div id='1220'>\n",
       "\n",
       "\n",
       "\n",
       "\n",
       "\n",
       "  <div class=\"bk-root\" id=\"cb518f7d-b55d-4610-a2ab-0c1bcc36dc9f\" data-root-id=\"1220\"></div>\n",
       "</div>\n",
       "<script type=\"application/javascript\">(function(root) {\n",
       "  function embed_document(root) {\n",
       "    var docs_json = {\"9331709a-f60c-41dd-b899-172d51a8b62b\":{\"roots\":{\"references\":[{\"attributes\":{\"axis_label\":\"\",\"bounds\":\"auto\",\"formatter\":{\"id\":\"1265\"},\"major_label_orientation\":\"horizontal\",\"ticker\":{\"id\":\"1238\"}},\"id\":\"1237\",\"type\":\"LinearAxis\"},{\"attributes\":{\"factors\":[\"Open\",\"Close\"],\"palette\":[\"#1f77b3\",\"#ff7e0e\"]},\"id\":\"1254\",\"type\":\"CategoricalColorMapper\"},{\"attributes\":{\"text\":\"Opening & Closing Values of DoorDash last 30 days\",\"text_color\":{\"value\":\"black\"},\"text_font_size\":{\"value\":\"12pt\"}},\"id\":\"1226\",\"type\":\"Title\"},{\"attributes\":{\"axis\":{\"id\":\"1234\"},\"grid_line_color\":null,\"ticker\":null},\"id\":\"1236\",\"type\":\"Grid\"},{\"attributes\":{},\"id\":\"1263\",\"type\":\"CategoricalTickFormatter\"},{\"attributes\":{},\"id\":\"1243\",\"type\":\"WheelZoomTool\"},{\"attributes\":{},\"id\":\"1241\",\"type\":\"SaveTool\"},{\"attributes\":{\"callback\":null,\"renderers\":[{\"id\":\"1261\"}],\"tags\":[\"hv_created\"],\"tooltips\":[[\"index\",\"@{index}\"],[\"Variable\",\"@{Variable}\"],[\"value\",\"@{value}\"]]},\"id\":\"1224\",\"type\":\"HoverTool\"},{\"attributes\":{\"axis_label\":\"\",\"bounds\":\"auto\",\"formatter\":{\"id\":\"1263\"},\"major_label_orientation\":1.5707963267948966,\"ticker\":{\"id\":\"1235\"}},\"id\":\"1234\",\"type\":\"CategoricalAxis\"},{\"attributes\":{\"end\":222.87600440000003,\"reset_end\":222.87600440000003,\"reset_start\":0.0,\"tags\":[[[\"value\",\"value\",null]]]},\"id\":\"1223\",\"type\":\"Range1d\"},{\"attributes\":{},\"id\":\"1238\",\"type\":\"BasicTicker\"},{\"attributes\":{},\"id\":\"1242\",\"type\":\"PanTool\"},{\"attributes\":{\"below\":[{\"id\":\"1234\"}],\"center\":[{\"id\":\"1236\"},{\"id\":\"1240\"}],\"left\":[{\"id\":\"1237\"}],\"margin\":[5,5,5,5],\"min_border_bottom\":10,\"min_border_left\":10,\"min_border_right\":10,\"min_border_top\":10,\"plot_height\":300,\"plot_width\":700,\"renderers\":[{\"id\":\"1261\"}],\"sizing_mode\":\"fixed\",\"title\":{\"id\":\"1226\"},\"toolbar\":{\"id\":\"1247\"},\"x_range\":{\"id\":\"1222\"},\"x_scale\":{\"id\":\"1230\"},\"y_range\":{\"id\":\"1223\"},\"y_scale\":{\"id\":\"1232\"}},\"id\":\"1225\",\"subtype\":\"Figure\",\"type\":\"Plot\"},{\"attributes\":{\"margin\":[5,5,5,5],\"name\":\"HSpacer01974\",\"sizing_mode\":\"stretch_width\"},\"id\":\"1283\",\"type\":\"Spacer\"},{\"attributes\":{},\"id\":\"1235\",\"type\":\"CategoricalTicker\"},{\"attributes\":{\"axis\":{\"id\":\"1237\"},\"dimension\":1,\"grid_line_color\":null,\"ticker\":null},\"id\":\"1240\",\"type\":\"Grid\"},{\"attributes\":{\"fill_alpha\":{\"value\":0.1},\"fill_color\":{\"field\":\"Variable\",\"transform\":{\"id\":\"1254\"}},\"line_alpha\":{\"value\":0.1},\"top\":{\"field\":\"value\"},\"width\":{\"value\":0.8},\"x\":{\"field\":\"xoffsets\"}},\"id\":\"1259\",\"type\":\"VBar\"},{\"attributes\":{\"factors\":[[\"0\",\"Close\"],[\"0\",\"Open\"],[\"1\",\"Close\"],[\"1\",\"Open\"],[\"2\",\"Close\"],[\"2\",\"Open\"],[\"3\",\"Close\"],[\"3\",\"Open\"],[\"4\",\"Close\"],[\"4\",\"Open\"],[\"5\",\"Close\"],[\"5\",\"Open\"],[\"6\",\"Close\"],[\"6\",\"Open\"],[\"7\",\"Close\"],[\"7\",\"Open\"],[\"8\",\"Close\"],[\"8\",\"Open\"],[\"9\",\"Close\"],[\"9\",\"Open\"],[\"10\",\"Close\"],[\"10\",\"Open\"],[\"11\",\"Close\"],[\"11\",\"Open\"],[\"12\",\"Close\"],[\"12\",\"Open\"],[\"13\",\"Close\"],[\"13\",\"Open\"],[\"14\",\"Close\"],[\"14\",\"Open\"],[\"15\",\"Close\"],[\"15\",\"Open\"],[\"16\",\"Close\"],[\"16\",\"Open\"],[\"17\",\"Close\"],[\"17\",\"Open\"],[\"18\",\"Close\"],[\"18\",\"Open\"],[\"19\",\"Close\"],[\"19\",\"Open\"],[\"20\",\"Close\"],[\"20\",\"Open\"],[\"21\",\"Close\"],[\"21\",\"Open\"],[\"22\",\"Close\"],[\"22\",\"Open\"],[\"23\",\"Close\"],[\"23\",\"Open\"],[\"24\",\"Close\"],[\"24\",\"Open\"],[\"25\",\"Close\"],[\"25\",\"Open\"],[\"26\",\"Close\"],[\"26\",\"Open\"],[\"27\",\"Close\"],[\"27\",\"Open\"],[\"28\",\"Close\"],[\"28\",\"Open\"],[\"29\",\"Close\"],[\"29\",\"Open\"]],\"tags\":[[[\"index\",\"index\",null],[\"Variable\",\"Variable\",null]]]},\"id\":\"1222\",\"type\":\"FactorRange\"},{\"attributes\":{\"overlay\":{\"id\":\"1246\"}},\"id\":\"1244\",\"type\":\"BoxZoomTool\"},{\"attributes\":{},\"id\":\"1245\",\"type\":\"ResetTool\"},{\"attributes\":{\"active_drag\":\"auto\",\"active_inspect\":\"auto\",\"active_multi\":null,\"active_scroll\":\"auto\",\"active_tap\":\"auto\",\"tools\":[{\"id\":\"1224\"},{\"id\":\"1241\"},{\"id\":\"1242\"},{\"id\":\"1243\"},{\"id\":\"1244\"},{\"id\":\"1245\"}]},\"id\":\"1247\",\"type\":\"Toolbar\"},{\"attributes\":{},\"id\":\"1232\",\"type\":\"LinearScale\"},{\"attributes\":{\"fill_alpha\":{\"value\":0.2},\"fill_color\":{\"field\":\"Variable\",\"transform\":{\"id\":\"1254\"}},\"line_alpha\":{\"value\":0.2},\"top\":{\"field\":\"value\"},\"width\":{\"value\":0.8},\"x\":{\"field\":\"xoffsets\"}},\"id\":\"1260\",\"type\":\"VBar\"},{\"attributes\":{},\"id\":\"1265\",\"type\":\"BasicTickFormatter\"},{\"attributes\":{},\"id\":\"1230\",\"type\":\"CategoricalScale\"},{\"attributes\":{\"children\":[{\"id\":\"1221\"},{\"id\":\"1225\"},{\"id\":\"1283\"}],\"margin\":[0,0,0,0],\"name\":\"Row01969\",\"tags\":[\"embedded\"]},\"id\":\"1220\",\"type\":\"Row\"},{\"attributes\":{\"source\":{\"id\":\"1255\"}},\"id\":\"1262\",\"type\":\"CDSView\"},{\"attributes\":{\"data_source\":{\"id\":\"1255\"},\"glyph\":{\"id\":\"1258\"},\"hover_glyph\":null,\"muted_glyph\":{\"id\":\"1260\"},\"nonselection_glyph\":{\"id\":\"1259\"},\"selection_glyph\":null,\"view\":{\"id\":\"1262\"}},\"id\":\"1261\",\"type\":\"GlyphRenderer\"},{\"attributes\":{\"margin\":[5,5,5,5],\"name\":\"HSpacer01973\",\"sizing_mode\":\"stretch_width\"},\"id\":\"1221\",\"type\":\"Spacer\"},{\"attributes\":{\"fill_color\":{\"field\":\"Variable\",\"transform\":{\"id\":\"1254\"}},\"top\":{\"field\":\"value\"},\"width\":{\"value\":0.8},\"x\":{\"field\":\"xoffsets\"}},\"id\":\"1258\",\"type\":\"VBar\"},{\"attributes\":{},\"id\":\"1256\",\"type\":\"Selection\"},{\"attributes\":{},\"id\":\"1273\",\"type\":\"UnionRenderers\"},{\"attributes\":{\"data\":{\"Variable\":[\"Open\",\"Open\",\"Open\",\"Open\",\"Open\",\"Open\",\"Open\",\"Open\",\"Open\",\"Open\",\"Open\",\"Open\",\"Open\",\"Open\",\"Open\",\"Open\",\"Open\",\"Open\",\"Open\",\"Open\",\"Open\",\"Open\",\"Open\",\"Open\",\"Open\",\"Open\",\"Open\",\"Open\",\"Open\",\"Open\",\"Close\",\"Close\",\"Close\",\"Close\",\"Close\",\"Close\",\"Close\",\"Close\",\"Close\",\"Close\",\"Close\",\"Close\",\"Close\",\"Close\",\"Close\",\"Close\",\"Close\",\"Close\",\"Close\",\"Close\",\"Close\",\"Close\",\"Close\",\"Close\",\"Close\",\"Close\",\"Close\",\"Close\",\"Close\",\"Close\"],\"index\":[\"0\",\"1\",\"2\",\"3\",\"4\",\"5\",\"6\",\"7\",\"8\",\"9\",\"10\",\"11\",\"12\",\"13\",\"14\",\"15\",\"16\",\"17\",\"18\",\"19\",\"20\",\"21\",\"22\",\"23\",\"24\",\"25\",\"26\",\"27\",\"28\",\"29\",\"0\",\"1\",\"2\",\"3\",\"4\",\"5\",\"6\",\"7\",\"8\",\"9\",\"10\",\"11\",\"12\",\"13\",\"14\",\"15\",\"16\",\"17\",\"18\",\"19\",\"20\",\"21\",\"22\",\"23\",\"24\",\"25\",\"26\",\"27\",\"28\",\"29\"],\"value\":{\"__ndarray__\":\"AAAAAADQYUAAAAAAAEBhQEG5bd+jqGFAAAAAAACAYUAAAAAAAABjQJYFE38UJmNAAAAAAACwZEBWZ7XAHg1oQN8Vwf/Wk2hAAAAAAADgaUCWBRN/FOZnQAAAAAAAAGlA4DDRIIXzZ0CKyRtgZsZnQKuzWmCPSmhAAAAAAADAaEAAAAAAAABpQAw89x6u32hAFJM3wMysZ0CqmEo/4VJoQIrJG2Bm/mdAVme1wB4VZ0Ah6j4AKaxmQLfvUX89smdAiskbYGbuZkDMnZlguDZmQFZntcAe1WdAAAAAAAAQakA2fXbA9aBqQOxsyD8zs2lAlgUTfxRmYUBJEK6Awg1iQPTDCOFRgGFAQblt36MYY0CqmEo/4YJjQAAAAAAA4GRADDz3Hq7/Z0AAAAAAAMBoQAw89x6u52lAFJM3wMxkZ0AAAAAAANhoQMydmWC4rmdAIM8u33rcZ0AAAAAAAABoQGr67IDr+WdAy4KJPwrHaEC371F/PSJoQHY25J+Z+WZAQblt36MoaEBVTKWfcOVnQDV9dsD10GZAq7NaYI+SZkCrs1pgj6pnQL9GkiBcp2ZASRCugMItZkAAAAAAAHhnQFZntcAe5WpA9cMI4VGoakDLgok/Cl9pQFVMpZ9whWpA\",\"dtype\":\"float64\",\"order\":\"little\",\"shape\":[60]},\"xoffsets\":[[\"0\",\"Open\"],[\"1\",\"Open\"],[\"2\",\"Open\"],[\"3\",\"Open\"],[\"4\",\"Open\"],[\"5\",\"Open\"],[\"6\",\"Open\"],[\"7\",\"Open\"],[\"8\",\"Open\"],[\"9\",\"Open\"],[\"10\",\"Open\"],[\"11\",\"Open\"],[\"12\",\"Open\"],[\"13\",\"Open\"],[\"14\",\"Open\"],[\"15\",\"Open\"],[\"16\",\"Open\"],[\"17\",\"Open\"],[\"18\",\"Open\"],[\"19\",\"Open\"],[\"20\",\"Open\"],[\"21\",\"Open\"],[\"22\",\"Open\"],[\"23\",\"Open\"],[\"24\",\"Open\"],[\"25\",\"Open\"],[\"26\",\"Open\"],[\"27\",\"Open\"],[\"28\",\"Open\"],[\"29\",\"Open\"],[\"0\",\"Close\"],[\"1\",\"Close\"],[\"2\",\"Close\"],[\"3\",\"Close\"],[\"4\",\"Close\"],[\"5\",\"Close\"],[\"6\",\"Close\"],[\"7\",\"Close\"],[\"8\",\"Close\"],[\"9\",\"Close\"],[\"10\",\"Close\"],[\"11\",\"Close\"],[\"12\",\"Close\"],[\"13\",\"Close\"],[\"14\",\"Close\"],[\"15\",\"Close\"],[\"16\",\"Close\"],[\"17\",\"Close\"],[\"18\",\"Close\"],[\"19\",\"Close\"],[\"20\",\"Close\"],[\"21\",\"Close\"],[\"22\",\"Close\"],[\"23\",\"Close\"],[\"24\",\"Close\"],[\"25\",\"Close\"],[\"26\",\"Close\"],[\"27\",\"Close\"],[\"28\",\"Close\"],[\"29\",\"Close\"]]},\"selected\":{\"id\":\"1256\"},\"selection_policy\":{\"id\":\"1273\"}},\"id\":\"1255\",\"type\":\"ColumnDataSource\"},{\"attributes\":{\"bottom_units\":\"screen\",\"fill_alpha\":0.5,\"fill_color\":\"lightgrey\",\"left_units\":\"screen\",\"level\":\"overlay\",\"line_alpha\":1.0,\"line_color\":\"black\",\"line_dash\":[4,4],\"line_width\":2,\"right_units\":\"screen\",\"top_units\":\"screen\"},\"id\":\"1246\",\"type\":\"BoxAnnotation\"}],\"root_ids\":[\"1220\"]},\"title\":\"Bokeh Application\",\"version\":\"2.2.3\"}};\n",
       "    var render_items = [{\"docid\":\"9331709a-f60c-41dd-b899-172d51a8b62b\",\"root_ids\":[\"1220\"],\"roots\":{\"1220\":\"cb518f7d-b55d-4610-a2ab-0c1bcc36dc9f\"}}];\n",
       "    root.Bokeh.embed.embed_items_notebook(docs_json, render_items);\n",
       "  }\n",
       "  if (root.Bokeh !== undefined && root.Bokeh.Panel !== undefined) {\n",
       "    embed_document(root);\n",
       "  } else {\n",
       "    var attempts = 0;\n",
       "    var timer = setInterval(function(root) {\n",
       "      if (root.Bokeh !== undefined && root.Bokeh.Panel !== undefined) {\n",
       "        clearInterval(timer);\n",
       "        embed_document(root);\n",
       "      } else if (document.readyState == \"complete\") {\n",
       "        attempts++;\n",
       "        if (attempts > 100) {\n",
       "          clearInterval(timer);\n",
       "          console.log(\"Bokeh: ERROR: Unable to run BokehJS code because BokehJS library is missing\");\n",
       "        }\n",
       "      }\n",
       "    }, 10, root)\n",
       "  }\n",
       "})(window);</script>"
      ],
      "text/plain": [
       ":Bars   [index,Variable]   (value)"
      ]
     },
     "execution_count": 22,
     "metadata": {
      "application/vnd.holoviews_exec.v0+json": {
       "id": "1220"
      }
     },
     "output_type": "execute_result"
    }
   ],
   "source": [
    "dash_df.hvplot(kind=\"bar\", title=\"Opening & Closing Values of DoorDash last 30 days\", rot=90)"
   ]
  },
  {
   "cell_type": "code",
   "execution_count": 23,
   "metadata": {},
   "outputs": [
    {
     "data": {},
     "metadata": {},
     "output_type": "display_data"
    },
    {
     "data": {
      "application/vnd.holoviews_exec.v0+json": "",
      "text/html": [
       "<div id='1325'>\n",
       "\n",
       "\n",
       "\n",
       "\n",
       "\n",
       "  <div class=\"bk-root\" id=\"49c35fd3-aab6-4bb6-8474-e65ae305a7f2\" data-root-id=\"1325\"></div>\n",
       "</div>\n",
       "<script type=\"application/javascript\">(function(root) {\n",
       "  function embed_document(root) {\n",
       "    var docs_json = {\"33802862-cd88-48a3-83bc-3492e816ae00\":{\"roots\":{\"references\":[{\"attributes\":{\"axis\":{\"id\":\"1344\"},\"dimension\":1,\"grid_line_color\":null,\"ticker\":null},\"id\":\"1347\",\"type\":\"Grid\"},{\"attributes\":{},\"id\":\"1345\",\"type\":\"BasicTicker\"},{\"attributes\":{},\"id\":\"1349\",\"type\":\"PanTool\"},{\"attributes\":{\"data_source\":{\"id\":\"1383\"},\"glyph\":{\"id\":\"1386\"},\"hover_glyph\":null,\"muted_glyph\":{\"id\":\"1388\"},\"nonselection_glyph\":{\"id\":\"1387\"},\"selection_glyph\":null,\"view\":{\"id\":\"1390\"}},\"id\":\"1389\",\"type\":\"GlyphRenderer\"},{\"attributes\":{},\"id\":\"1350\",\"type\":\"WheelZoomTool\"},{\"attributes\":{\"data\":{\"Variable\":[\"Close\",\"Close\",\"Close\",\"Close\",\"Close\",\"Close\",\"Close\",\"Close\",\"Close\",\"Close\",\"Close\",\"Close\",\"Close\",\"Close\",\"Close\",\"Close\",\"Close\",\"Close\",\"Close\",\"Close\",\"Close\",\"Close\",\"Close\",\"Close\",\"Close\",\"Close\",\"Close\",\"Close\",\"Close\",\"Close\"],\"index\":[0,1,2,3,4,5,6,7,8,9,10,11,12,13,14,15,16,17,18,19,20,21,22,23,24,25,26,27,28,29],\"value\":{\"__ndarray__\":\"3xXB/9ZjcUCv0XKgR71xQHpU/N9RwHBA7GzIPzMDc0B2NuSfmcFyQMuCiT8KU3JAdjbkn5lVckAUkzfAzIhyQCHqPgAp/HJAFJM3wMw0ckBF14UfXONxQBB1H4AUnnFA2/eovx7lcUAlCFdA4dpxQAAAAAAA9HFAhqsDIK6PcUDsbMg/M6NwQBB1H4AUEnFA7GzIPzMHcUAAAAAAAKBxQEXXhR9cy3JAMV9egD0Kc0DPoKF/wvlyQBSTN8DMIHNAAAAAAAAIc0C7KHrgo6RzQKuzWmCPHnNAhqsDIK6rckBlwcQfhbdyQBSTN8DMaHJA\",\"dtype\":\"float64\",\"order\":\"little\",\"shape\":[30]}},\"selected\":{\"id\":\"1384\"},\"selection_policy\":{\"id\":\"1399\"}},\"id\":\"1383\",\"type\":\"ColumnDataSource\"},{\"attributes\":{\"active_drag\":\"auto\",\"active_inspect\":\"auto\",\"active_multi\":null,\"active_scroll\":\"auto\",\"active_tap\":\"auto\",\"tools\":[{\"id\":\"1329\"},{\"id\":\"1348\"},{\"id\":\"1349\"},{\"id\":\"1350\"},{\"id\":\"1351\"},{\"id\":\"1352\"}]},\"id\":\"1354\",\"type\":\"Toolbar\"},{\"attributes\":{},\"id\":\"1348\",\"type\":\"SaveTool\"},{\"attributes\":{\"overlay\":{\"id\":\"1353\"}},\"id\":\"1351\",\"type\":\"BoxZoomTool\"},{\"attributes\":{},\"id\":\"1399\",\"type\":\"UnionRenderers\"},{\"attributes\":{},\"id\":\"1352\",\"type\":\"ResetTool\"},{\"attributes\":{\"fill_alpha\":{\"value\":0.2},\"fill_color\":{\"value\":\"#ff7e0e\"},\"line_alpha\":{\"value\":0.2},\"line_color\":{\"value\":\"#ff7e0e\"},\"size\":{\"units\":\"screen\",\"value\":5.477225575051661},\"x\":{\"field\":\"index\"},\"y\":{\"field\":\"value\"}},\"id\":\"1388\",\"type\":\"Scatter\"},{\"attributes\":{},\"id\":\"1361\",\"type\":\"BasicTickFormatter\"},{\"attributes\":{\"source\":{\"id\":\"1383\"}},\"id\":\"1390\",\"type\":\"CDSView\"},{\"attributes\":{\"data_source\":{\"id\":\"1365\"},\"glyph\":{\"id\":\"1368\"},\"hover_glyph\":null,\"muted_glyph\":{\"id\":\"1370\"},\"nonselection_glyph\":{\"id\":\"1369\"},\"selection_glyph\":null,\"view\":{\"id\":\"1372\"}},\"id\":\"1371\",\"type\":\"GlyphRenderer\"},{\"attributes\":{\"end\":30.242857142857144,\"reset_end\":30.242857142857144,\"reset_start\":-1.2428571428571429,\"start\":-1.2428571428571429,\"tags\":[[[\"index\",\"index\",null]]]},\"id\":\"1327\",\"type\":\"Range1d\"},{\"attributes\":{\"end\":330.65998559999997,\"reset_end\":330.65998559999997,\"reset_start\":260.34001440000003,\"start\":260.34001440000003,\"tags\":[[[\"value\",\"value\",null]]]},\"id\":\"1328\",\"type\":\"Range1d\"},{\"attributes\":{\"fill_color\":{\"value\":\"#ff7e0e\"},\"line_color\":{\"value\":\"#ff7e0e\"},\"size\":{\"units\":\"screen\",\"value\":5.477225575051661},\"x\":{\"field\":\"index\"},\"y\":{\"field\":\"value\"}},\"id\":\"1386\",\"type\":\"Scatter\"},{\"attributes\":{\"fill_alpha\":{\"value\":0.1},\"fill_color\":{\"value\":\"#ff7e0e\"},\"line_alpha\":{\"value\":0.1},\"line_color\":{\"value\":\"#ff7e0e\"},\"size\":{\"units\":\"screen\",\"value\":5.477225575051661},\"x\":{\"field\":\"index\"},\"y\":{\"field\":\"value\"}},\"id\":\"1387\",\"type\":\"Scatter\"},{\"attributes\":{\"axis\":{\"id\":\"1340\"},\"grid_line_color\":null,\"ticker\":null},\"id\":\"1343\",\"type\":\"Grid\"},{\"attributes\":{\"children\":[{\"id\":\"1326\"},{\"id\":\"1331\"},{\"id\":\"1492\"}],\"margin\":[0,0,0,0],\"name\":\"Row02328\",\"tags\":[\"embedded\"]},\"id\":\"1325\",\"type\":\"Row\"},{\"attributes\":{},\"id\":\"1363\",\"type\":\"BasicTickFormatter\"},{\"attributes\":{\"data\":{\"Variable\":[\"Open\",\"Open\",\"Open\",\"Open\",\"Open\",\"Open\",\"Open\",\"Open\",\"Open\",\"Open\",\"Open\",\"Open\",\"Open\",\"Open\",\"Open\",\"Open\",\"Open\",\"Open\",\"Open\",\"Open\",\"Open\",\"Open\",\"Open\",\"Open\",\"Open\",\"Open\",\"Open\",\"Open\",\"Open\",\"Open\"],\"index\":[0,1,2,3,4,5,6,7,8,9,10,11,12,13,14,15,16,17,18,19,20,21,22,23,24,25,26,27,28,29],\"value\":{\"__ndarray__\":\"q7NaYI/WcUDwiuB/64lxQN8Vwf/Wf3FAVUyln3AJcUAAAAAAALBzQAAAAAAAcHJAAAAAAACgckAAAAAAAHByQAAAAAAAEHNA2/eovx4tc0AAAAAAAFxyQAAAAAAAEHJAAAAAAAAAckC7KHrgo8RxQOxsyD8zR3JAMV9egD3qcUAAAAAAAFBxQHpU/N9RUHFAAAAAAADwcEB2NuSfmTFxQEXXhR9cG3JAuyh64KNQc0AUkzfAzFxzQNv3qL8eIXNARdeFH1xLc0AAAAAAAAhzQBSTN8DMTHRAAAAAAAAUc0AAAAAAALByQOxsyD8zC3NA\",\"dtype\":\"float64\",\"order\":\"little\",\"shape\":[30]}},\"selected\":{\"id\":\"1366\"},\"selection_policy\":{\"id\":\"1379\"}},\"id\":\"1365\",\"type\":\"ColumnDataSource\"},{\"attributes\":{},\"id\":\"1384\",\"type\":\"Selection\"},{\"attributes\":{\"label\":{\"value\":\"Close\"},\"renderers\":[{\"id\":\"1389\"}]},\"id\":\"1401\",\"type\":\"LegendItem\"},{\"attributes\":{},\"id\":\"1366\",\"type\":\"Selection\"},{\"attributes\":{},\"id\":\"1379\",\"type\":\"UnionRenderers\"},{\"attributes\":{\"fill_alpha\":{\"value\":0.2},\"fill_color\":{\"value\":\"#1f77b3\"},\"line_alpha\":{\"value\":0.2},\"line_color\":{\"value\":\"#1f77b3\"},\"size\":{\"units\":\"screen\",\"value\":5.477225575051661},\"x\":{\"field\":\"index\"},\"y\":{\"field\":\"value\"}},\"id\":\"1370\",\"type\":\"Scatter\"},{\"attributes\":{\"bottom_units\":\"screen\",\"fill_alpha\":0.5,\"fill_color\":\"lightgrey\",\"left_units\":\"screen\",\"level\":\"overlay\",\"line_alpha\":1.0,\"line_color\":\"black\",\"line_dash\":[4,4],\"line_width\":2,\"right_units\":\"screen\",\"top_units\":\"screen\"},\"id\":\"1353\",\"type\":\"BoxAnnotation\"},{\"attributes\":{},\"id\":\"1341\",\"type\":\"BasicTicker\"},{\"attributes\":{\"margin\":[5,5,5,5],\"name\":\"HSpacer02332\",\"sizing_mode\":\"stretch_width\"},\"id\":\"1326\",\"type\":\"Spacer\"},{\"attributes\":{\"below\":[{\"id\":\"1340\"}],\"center\":[{\"id\":\"1343\"},{\"id\":\"1347\"}],\"left\":[{\"id\":\"1344\"}],\"margin\":[5,5,5,5],\"min_border_bottom\":10,\"min_border_left\":10,\"min_border_right\":10,\"min_border_top\":10,\"plot_height\":300,\"plot_width\":700,\"renderers\":[{\"id\":\"1371\"},{\"id\":\"1389\"}],\"right\":[{\"id\":\"1381\"}],\"sizing_mode\":\"fixed\",\"title\":{\"id\":\"1332\"},\"toolbar\":{\"id\":\"1354\"},\"x_range\":{\"id\":\"1327\"},\"x_scale\":{\"id\":\"1336\"},\"y_range\":{\"id\":\"1328\"},\"y_scale\":{\"id\":\"1338\"}},\"id\":\"1331\",\"subtype\":\"Figure\",\"type\":\"Plot\"},{\"attributes\":{\"margin\":[5,5,5,5],\"name\":\"HSpacer02333\",\"sizing_mode\":\"stretch_width\"},\"id\":\"1492\",\"type\":\"Spacer\"},{\"attributes\":{\"text\":\"Opening & Closing Values of Snowflake last 30 days\",\"text_color\":{\"value\":\"black\"},\"text_font_size\":{\"value\":\"12pt\"}},\"id\":\"1332\",\"type\":\"Title\"},{\"attributes\":{\"fill_alpha\":{\"value\":0.1},\"fill_color\":{\"value\":\"#1f77b3\"},\"line_alpha\":{\"value\":0.1},\"line_color\":{\"value\":\"#1f77b3\"},\"size\":{\"units\":\"screen\",\"value\":5.477225575051661},\"x\":{\"field\":\"index\"},\"y\":{\"field\":\"value\"}},\"id\":\"1369\",\"type\":\"Scatter\"},{\"attributes\":{\"label\":{\"value\":\"Open\"},\"renderers\":[{\"id\":\"1371\"}]},\"id\":\"1382\",\"type\":\"LegendItem\"},{\"attributes\":{},\"id\":\"1336\",\"type\":\"LinearScale\"},{\"attributes\":{\"fill_color\":{\"value\":\"#1f77b3\"},\"line_color\":{\"value\":\"#1f77b3\"},\"size\":{\"units\":\"screen\",\"value\":5.477225575051661},\"x\":{\"field\":\"index\"},\"y\":{\"field\":\"value\"}},\"id\":\"1368\",\"type\":\"Scatter\"},{\"attributes\":{\"click_policy\":\"mute\",\"items\":[{\"id\":\"1382\"},{\"id\":\"1401\"}],\"location\":[0,0],\"title\":\"Variable\"},\"id\":\"1381\",\"type\":\"Legend\"},{\"attributes\":{\"axis_label\":\"\",\"bounds\":\"auto\",\"formatter\":{\"id\":\"1363\"},\"major_label_orientation\":\"horizontal\",\"ticker\":{\"id\":\"1345\"}},\"id\":\"1344\",\"type\":\"LinearAxis\"},{\"attributes\":{\"source\":{\"id\":\"1365\"}},\"id\":\"1372\",\"type\":\"CDSView\"},{\"attributes\":{\"callback\":null,\"renderers\":[{\"id\":\"1371\"},{\"id\":\"1389\"}],\"tags\":[\"hv_created\"],\"tooltips\":[[\"Variable\",\"@{Variable}\"],[\"index\",\"@{index}\"],[\"value\",\"@{value}\"]]},\"id\":\"1329\",\"type\":\"HoverTool\"},{\"attributes\":{},\"id\":\"1338\",\"type\":\"LinearScale\"},{\"attributes\":{\"axis_label\":\"\",\"bounds\":\"auto\",\"formatter\":{\"id\":\"1361\"},\"major_label_orientation\":\"horizontal\",\"ticker\":{\"id\":\"1341\"}},\"id\":\"1340\",\"type\":\"LinearAxis\"}],\"root_ids\":[\"1325\"]},\"title\":\"Bokeh Application\",\"version\":\"2.2.3\"}};\n",
       "    var render_items = [{\"docid\":\"33802862-cd88-48a3-83bc-3492e816ae00\",\"root_ids\":[\"1325\"],\"roots\":{\"1325\":\"49c35fd3-aab6-4bb6-8474-e65ae305a7f2\"}}];\n",
       "    root.Bokeh.embed.embed_items_notebook(docs_json, render_items);\n",
       "  }\n",
       "  if (root.Bokeh !== undefined && root.Bokeh.Panel !== undefined) {\n",
       "    embed_document(root);\n",
       "  } else {\n",
       "    var attempts = 0;\n",
       "    var timer = setInterval(function(root) {\n",
       "      if (root.Bokeh !== undefined && root.Bokeh.Panel !== undefined) {\n",
       "        clearInterval(timer);\n",
       "        embed_document(root);\n",
       "      } else if (document.readyState == \"complete\") {\n",
       "        attempts++;\n",
       "        if (attempts > 100) {\n",
       "          clearInterval(timer);\n",
       "          console.log(\"Bokeh: ERROR: Unable to run BokehJS code because BokehJS library is missing\");\n",
       "        }\n",
       "      }\n",
       "    }, 10, root)\n",
       "  }\n",
       "})(window);</script>"
      ],
      "text/plain": [
       ":NdOverlay   [Variable]\n",
       "   :Scatter   [index]   (value)"
      ]
     },
     "execution_count": 23,
     "metadata": {
      "application/vnd.holoviews_exec.v0+json": {
       "id": "1325"
      }
     },
     "output_type": "execute_result"
    }
   ],
   "source": [
    "snow_df.hvplot.scatter(title=\"Opening & Closing Values of Snowflake last 30 days\")"
   ]
  },
  {
   "cell_type": "markdown",
   "metadata": {},
   "source": [
    "## Calculate the Daily Returns and Cumulative Returns for Each Stock's Close Price using the pct_change() function. Combine the Cumulative Returns of each 5 Stocks on 1 Plot."
   ]
  },
  {
   "cell_type": "code",
   "execution_count": 32,
   "metadata": {},
   "outputs": [
    {
     "data": {
      "text/html": [
       "<div>\n",
       "<style scoped>\n",
       "    .dataframe tbody tr th:only-of-type {\n",
       "        vertical-align: middle;\n",
       "    }\n",
       "\n",
       "    .dataframe tbody tr th {\n",
       "        vertical-align: top;\n",
       "    }\n",
       "\n",
       "    .dataframe thead th {\n",
       "        text-align: right;\n",
       "    }\n",
       "</style>\n",
       "<table border=\"1\" class=\"dataframe\">\n",
       "  <thead>\n",
       "    <tr style=\"text-align: right;\">\n",
       "      <th></th>\n",
       "      <th>Close</th>\n",
       "    </tr>\n",
       "    <tr>\n",
       "      <th>Date</th>\n",
       "      <th></th>\n",
       "    </tr>\n",
       "  </thead>\n",
       "  <tbody>\n",
       "    <tr>\n",
       "      <th>2021-01-04</th>\n",
       "      <td>NaN</td>\n",
       "    </tr>\n",
       "    <tr>\n",
       "      <th>2021-01-05</th>\n",
       "      <td>0.065756</td>\n",
       "    </tr>\n",
       "    <tr>\n",
       "      <th>2021-01-06</th>\n",
       "      <td>-0.037289</td>\n",
       "    </tr>\n",
       "    <tr>\n",
       "      <th>2021-01-07</th>\n",
       "      <td>0.059536</td>\n",
       "    </tr>\n",
       "    <tr>\n",
       "      <th>2021-01-08</th>\n",
       "      <td>-0.009916</td>\n",
       "    </tr>\n",
       "  </tbody>\n",
       "</table>\n",
       "</div>"
      ],
      "text/plain": [
       "               Close\n",
       "Date                \n",
       "2021-01-04       NaN\n",
       "2021-01-05  0.065756\n",
       "2021-01-06 -0.037289\n",
       "2021-01-07  0.059536\n",
       "2021-01-08 -0.009916"
      ]
     },
     "metadata": {},
     "output_type": "display_data"
    },
    {
     "data": {
      "text/html": [
       "<div>\n",
       "<style scoped>\n",
       "    .dataframe tbody tr th:only-of-type {\n",
       "        vertical-align: middle;\n",
       "    }\n",
       "\n",
       "    .dataframe tbody tr th {\n",
       "        vertical-align: top;\n",
       "    }\n",
       "\n",
       "    .dataframe thead th {\n",
       "        text-align: right;\n",
       "    }\n",
       "</style>\n",
       "<table border=\"1\" class=\"dataframe\">\n",
       "  <thead>\n",
       "    <tr style=\"text-align: right;\">\n",
       "      <th></th>\n",
       "      <th>Close</th>\n",
       "    </tr>\n",
       "    <tr>\n",
       "      <th>Date</th>\n",
       "      <th></th>\n",
       "    </tr>\n",
       "  </thead>\n",
       "  <tbody>\n",
       "    <tr>\n",
       "      <th>2021-02-09</th>\n",
       "      <td>-0.002744</td>\n",
       "    </tr>\n",
       "    <tr>\n",
       "      <th>2021-02-10</th>\n",
       "      <td>0.058935</td>\n",
       "    </tr>\n",
       "    <tr>\n",
       "      <th>2021-02-11</th>\n",
       "      <td>0.024473</td>\n",
       "    </tr>\n",
       "    <tr>\n",
       "      <th>2021-02-12</th>\n",
       "      <td>-0.019185</td>\n",
       "    </tr>\n",
       "    <tr>\n",
       "      <th>2021-02-16</th>\n",
       "      <td>-0.013259</td>\n",
       "    </tr>\n",
       "  </tbody>\n",
       "</table>\n",
       "</div>"
      ],
      "text/plain": [
       "               Close\n",
       "Date                \n",
       "2021-02-09 -0.002744\n",
       "2021-02-10  0.058935\n",
       "2021-02-11  0.024473\n",
       "2021-02-12 -0.019185\n",
       "2021-02-16 -0.013259"
      ]
     },
     "metadata": {},
     "output_type": "display_data"
    }
   ],
   "source": [
    "# Calculate and display the Daily Returns of ABNB Closing price.\n",
    "abnb_daily_returns = abnb_df.pct_change().drop(columns='Open')\n",
    "\n",
    "display(abnb_daily_returns.head())\n",
    "display(abnb_daily_returns.tail())"
   ]
  },
  {
   "cell_type": "code",
   "execution_count": 33,
   "metadata": {},
   "outputs": [
    {
     "data": {},
     "metadata": {},
     "output_type": "display_data"
    },
    {
     "data": {
      "application/vnd.holoviews_exec.v0+json": "",
      "text/html": [
       "<div id='1001'>\n",
       "\n",
       "\n",
       "\n",
       "\n",
       "\n",
       "  <div class=\"bk-root\" id=\"1113e094-4b70-46e0-b45b-42c325755b41\" data-root-id=\"1001\"></div>\n",
       "</div>\n",
       "<script type=\"application/javascript\">(function(root) {\n",
       "  function embed_document(root) {\n",
       "    var docs_json = {\"cbeb4511-5c30-4ecd-87ce-964ac6b87742\":{\"roots\":{\"references\":[{\"attributes\":{\"line_alpha\":0.1,\"line_color\":\"#1f77b3\",\"line_width\":2,\"x\":{\"field\":\"Date\"},\"y\":{\"field\":\"Close\"}},\"id\":\"1040\",\"type\":\"Line\"},{\"attributes\":{},\"id\":\"1044\",\"type\":\"DatetimeTickFormatter\"},{\"attributes\":{\"months\":[0,6]},\"id\":\"1066\",\"type\":\"MonthsTicker\"},{\"attributes\":{},\"id\":\"1020\",\"type\":\"BasicTicker\"},{\"attributes\":{},\"id\":\"1011\",\"type\":\"LinearScale\"},{\"attributes\":{\"num_minor_ticks\":5,\"tickers\":[{\"id\":\"1056\"},{\"id\":\"1057\"},{\"id\":\"1058\"},{\"id\":\"1059\"},{\"id\":\"1060\"},{\"id\":\"1061\"},{\"id\":\"1062\"},{\"id\":\"1063\"},{\"id\":\"1064\"},{\"id\":\"1065\"},{\"id\":\"1066\"},{\"id\":\"1067\"}]},\"id\":\"1016\",\"type\":\"DatetimeTicker\"},{\"attributes\":{},\"id\":\"1067\",\"type\":\"YearsTicker\"},{\"attributes\":{},\"id\":\"1013\",\"type\":\"LinearScale\"},{\"attributes\":{\"axis\":{\"id\":\"1019\"},\"dimension\":1,\"grid_line_color\":null,\"ticker\":null},\"id\":\"1022\",\"type\":\"Grid\"},{\"attributes\":{\"end\":1613433600000.0,\"reset_end\":1613433600000.0,\"reset_start\":1609718400000.0,\"start\":1609718400000.0,\"tags\":[[[\"Date\",\"Date\",null]]]},\"id\":\"1003\",\"type\":\"Range1d\"},{\"attributes\":{},\"id\":\"1053\",\"type\":\"UnionRenderers\"},{\"attributes\":{\"base\":60,\"mantissas\":[1,2,5,10,15,20,30],\"max_interval\":1800000.0,\"min_interval\":1000.0,\"num_minor_ticks\":0},\"id\":\"1057\",\"type\":\"AdaptiveTicker\"},{\"attributes\":{\"margin\":[5,5,5,5],\"name\":\"HSpacer01537\",\"sizing_mode\":\"stretch_width\"},\"id\":\"1002\",\"type\":\"Spacer\"},{\"attributes\":{\"bottom_units\":\"screen\",\"fill_alpha\":0.5,\"fill_color\":\"lightgrey\",\"left_units\":\"screen\",\"level\":\"overlay\",\"line_alpha\":1.0,\"line_color\":\"black\",\"line_dash\":[4,4],\"line_width\":2,\"right_units\":\"screen\",\"top_units\":\"screen\"},\"id\":\"1028\",\"type\":\"BoxAnnotation\"},{\"attributes\":{\"axis\":{\"id\":\"1015\"},\"grid_line_color\":null,\"ticker\":null},\"id\":\"1018\",\"type\":\"Grid\"},{\"attributes\":{\"base\":24,\"mantissas\":[1,2,4,6,8,12],\"max_interval\":43200000.0,\"min_interval\":3600000.0,\"num_minor_ticks\":0},\"id\":\"1058\",\"type\":\"AdaptiveTicker\"},{\"attributes\":{\"mantissas\":[1,2,5],\"max_interval\":500.0,\"num_minor_ticks\":0},\"id\":\"1056\",\"type\":\"AdaptiveTicker\"},{\"attributes\":{},\"id\":\"1046\",\"type\":\"BasicTickFormatter\"},{\"attributes\":{\"months\":[0,4,8]},\"id\":\"1065\",\"type\":\"MonthsTicker\"},{\"attributes\":{\"source\":{\"id\":\"1036\"}},\"id\":\"1043\",\"type\":\"CDSView\"},{\"attributes\":{\"margin\":[5,5,5,5],\"name\":\"HSpacer01538\",\"sizing_mode\":\"stretch_width\"},\"id\":\"1088\",\"type\":\"Spacer\"},{\"attributes\":{\"line_color\":\"#1f77b3\",\"line_width\":2,\"x\":{\"field\":\"Date\"},\"y\":{\"field\":\"Close\"}},\"id\":\"1039\",\"type\":\"Line\"},{\"attributes\":{\"line_alpha\":0.2,\"line_color\":\"#1f77b3\",\"line_width\":2,\"x\":{\"field\":\"Date\"},\"y\":{\"field\":\"Close\"}},\"id\":\"1041\",\"type\":\"Line\"},{\"attributes\":{\"below\":[{\"id\":\"1015\"}],\"center\":[{\"id\":\"1018\"},{\"id\":\"1022\"}],\"left\":[{\"id\":\"1019\"}],\"margin\":[5,5,5,5],\"min_border_bottom\":10,\"min_border_left\":10,\"min_border_right\":10,\"min_border_top\":10,\"plot_height\":300,\"plot_width\":700,\"renderers\":[{\"id\":\"1042\"}],\"sizing_mode\":\"fixed\",\"title\":{\"id\":\"1007\"},\"toolbar\":{\"id\":\"1029\"},\"x_range\":{\"id\":\"1003\"},\"x_scale\":{\"id\":\"1011\"},\"y_range\":{\"id\":\"1004\"},\"y_scale\":{\"id\":\"1013\"}},\"id\":\"1006\",\"subtype\":\"Figure\",\"type\":\"Plot\"},{\"attributes\":{\"text\":\"\",\"text_color\":{\"value\":\"black\"},\"text_font_size\":{\"value\":\"12pt\"}},\"id\":\"1007\",\"type\":\"Title\"},{\"attributes\":{},\"id\":\"1023\",\"type\":\"SaveTool\"},{\"attributes\":{\"days\":[1,4,7,10,13,16,19,22,25,28]},\"id\":\"1060\",\"type\":\"DaysTicker\"},{\"attributes\":{\"callback\":null,\"formatters\":{\"@{Date}\":\"datetime\"},\"renderers\":[{\"id\":\"1042\"}],\"tags\":[\"hv_created\"],\"tooltips\":[[\"Date\",\"@{Date}{%F %T}\"],[\"Close\",\"@{Close}\"]]},\"id\":\"1005\",\"type\":\"HoverTool\"},{\"attributes\":{},\"id\":\"1037\",\"type\":\"Selection\"},{\"attributes\":{\"days\":[1,2,3,4,5,6,7,8,9,10,11,12,13,14,15,16,17,18,19,20,21,22,23,24,25,26,27,28,29,30,31]},\"id\":\"1059\",\"type\":\"DaysTicker\"},{\"attributes\":{},\"id\":\"1024\",\"type\":\"PanTool\"},{\"attributes\":{},\"id\":\"1025\",\"type\":\"WheelZoomTool\"},{\"attributes\":{\"active_drag\":\"auto\",\"active_inspect\":\"auto\",\"active_multi\":null,\"active_scroll\":\"auto\",\"active_tap\":\"auto\",\"tools\":[{\"id\":\"1005\"},{\"id\":\"1023\"},{\"id\":\"1024\"},{\"id\":\"1025\"},{\"id\":\"1026\"},{\"id\":\"1027\"}]},\"id\":\"1029\",\"type\":\"Toolbar\"},{\"attributes\":{\"data\":{\"Close\":{\"__ndarray__\":\"AAAAAAAA+H/LXXChVg3xP0iAk+COavA/xh8JUMNk8T8ZfBLxmzjxPyL105hVCPE/wLF3Y0l98j9WmL9jzYvzP43v7k0swfQ/3suYw5t28z9GBPADt/jzPzykcAebm/I/D5V+szq+9D9esyADgOn0P5QtVp+/afQ/vkpc2Xcp9j+6x0Ka9yP3P4ILqbRli/U/xhahtU4d9T/R5EUvaL/0P4u0lPcFmvQ/Daf5CtRa9T/VnPK1ioP2P8RDET0edfY/w6CrX9QL9z/rAxHlo/v2P2iL8QZlVvg/FRlHRt/u+D9x2Yk8a3T4PzWfmfVoIfg/\",\"dtype\":\"float64\",\"order\":\"little\",\"shape\":[30]},\"Date\":{\"__ndarray__\":\"AABAGKtsd0IAAAB+/Wx3QgAAwONPbXdCAACASaJtd0IAAECv9G13QgAAgODrbndCAABARj5vd0IAAACskG93QgAAwBHjb3dCAACAdzVwd0IAAIAOf3F3QgAAQHTRcXdCAAAA2iNyd0IAAMA/dnJ3QgAAAHFtc3dCAADA1r9zd0IAAIA8EnR3QgAAQKJkdHdCAAAACLd0d0IAAEA5rnV3QgAAAJ8AdndCAADABFN2d0IAAIBqpXZ3QgAAQND3dndCAACAAe93d0IAAEBnQXh3QgAAAM2TeHdCAADAMuZ4d0IAAICYOHl3QgAAgC+CendC\",\"dtype\":\"float64\",\"order\":\"little\",\"shape\":[30]}},\"selected\":{\"id\":\"1037\"},\"selection_policy\":{\"id\":\"1053\"}},\"id\":\"1036\",\"type\":\"ColumnDataSource\"},{\"attributes\":{\"overlay\":{\"id\":\"1028\"}},\"id\":\"1026\",\"type\":\"BoxZoomTool\"},{\"attributes\":{\"days\":[1,8,15,22]},\"id\":\"1061\",\"type\":\"DaysTicker\"},{\"attributes\":{\"children\":[{\"id\":\"1002\"},{\"id\":\"1006\"},{\"id\":\"1088\"}],\"margin\":[0,0,0,0],\"name\":\"Row01533\",\"tags\":[\"embedded\"]},\"id\":\"1001\",\"type\":\"Row\"},{\"attributes\":{\"axis_label\":\"Close\",\"bounds\":\"auto\",\"formatter\":{\"id\":\"1046\"},\"major_label_orientation\":\"horizontal\",\"ticker\":{\"id\":\"1020\"}},\"id\":\"1019\",\"type\":\"LinearAxis\"},{\"attributes\":{\"days\":[1,15]},\"id\":\"1062\",\"type\":\"DaysTicker\"},{\"attributes\":{\"months\":[0,1,2,3,4,5,6,7,8,9,10,11]},\"id\":\"1063\",\"type\":\"MonthsTicker\"},{\"attributes\":{},\"id\":\"1027\",\"type\":\"ResetTool\"},{\"attributes\":{\"months\":[0,2,4,6,8,10]},\"id\":\"1064\",\"type\":\"MonthsTicker\"},{\"attributes\":{\"axis_label\":\"Date\",\"bounds\":\"auto\",\"formatter\":{\"id\":\"1044\"},\"major_label_orientation\":\"horizontal\",\"ticker\":{\"id\":\"1016\"}},\"id\":\"1015\",\"type\":\"DatetimeAxis\"},{\"attributes\":{\"data_source\":{\"id\":\"1036\"},\"glyph\":{\"id\":\"1039\"},\"hover_glyph\":null,\"muted_glyph\":{\"id\":\"1041\"},\"nonselection_glyph\":{\"id\":\"1040\"},\"selection_glyph\":null,\"view\":{\"id\":\"1043\"}},\"id\":\"1042\",\"type\":\"GlyphRenderer\"},{\"attributes\":{\"end\":1.6115487234588024,\"reset_end\":1.6115487234588024,\"reset_start\":0.972784841083069,\"start\":0.972784841083069,\"tags\":[[[\"Close\",\"Close\",null]]]},\"id\":\"1004\",\"type\":\"Range1d\"}],\"root_ids\":[\"1001\"]},\"title\":\"Bokeh Application\",\"version\":\"2.2.3\"}};\n",
       "    var render_items = [{\"docid\":\"cbeb4511-5c30-4ecd-87ce-964ac6b87742\",\"root_ids\":[\"1001\"],\"roots\":{\"1001\":\"1113e094-4b70-46e0-b45b-42c325755b41\"}}];\n",
       "    root.Bokeh.embed.embed_items_notebook(docs_json, render_items);\n",
       "  }\n",
       "  if (root.Bokeh !== undefined && root.Bokeh.Panel !== undefined) {\n",
       "    embed_document(root);\n",
       "  } else {\n",
       "    var attempts = 0;\n",
       "    var timer = setInterval(function(root) {\n",
       "      if (root.Bokeh !== undefined && root.Bokeh.Panel !== undefined) {\n",
       "        clearInterval(timer);\n",
       "        embed_document(root);\n",
       "      } else if (document.readyState == \"complete\") {\n",
       "        attempts++;\n",
       "        if (attempts > 100) {\n",
       "          clearInterval(timer);\n",
       "          console.log(\"Bokeh: ERROR: Unable to run BokehJS code because BokehJS library is missing\");\n",
       "        }\n",
       "      }\n",
       "    }, 10, root)\n",
       "  }\n",
       "})(window);</script>"
      ],
      "text/plain": [
       ":Curve   [Date]   (Close)"
      ]
     },
     "execution_count": 33,
     "metadata": {
      "application/vnd.holoviews_exec.v0+json": {
       "id": "1001"
      }
     },
     "output_type": "execute_result"
    }
   ],
   "source": [
    "# Calculate and plot the Cumulative Returns of ABNB stock.\n",
    "abnb_cumulative_returns = (abnb_daily_returns + 1).cumprod()\n",
    "plot_abnb_cumulative_returns = abnb_cumulative_returns.hvplot()\n",
    "plot_abnb_cumulative_returns"
   ]
  },
  {
   "cell_type": "code",
   "execution_count": 28,
   "metadata": {},
   "outputs": [
    {
     "data": {
      "text/html": [
       "<div>\n",
       "<style scoped>\n",
       "    .dataframe tbody tr th:only-of-type {\n",
       "        vertical-align: middle;\n",
       "    }\n",
       "\n",
       "    .dataframe tbody tr th {\n",
       "        vertical-align: top;\n",
       "    }\n",
       "\n",
       "    .dataframe thead th {\n",
       "        text-align: right;\n",
       "    }\n",
       "</style>\n",
       "<table border=\"1\" class=\"dataframe\">\n",
       "  <thead>\n",
       "    <tr style=\"text-align: right;\">\n",
       "      <th></th>\n",
       "      <th>Close</th>\n",
       "    </tr>\n",
       "    <tr>\n",
       "      <th>Date</th>\n",
       "      <th></th>\n",
       "    </tr>\n",
       "  </thead>\n",
       "  <tbody>\n",
       "    <tr>\n",
       "      <th>2021-01-04</th>\n",
       "      <td>NaN</td>\n",
       "    </tr>\n",
       "    <tr>\n",
       "      <th>2021-01-05</th>\n",
       "      <td>0.037646</td>\n",
       "    </tr>\n",
       "    <tr>\n",
       "      <th>2021-01-06</th>\n",
       "      <td>-0.030603</td>\n",
       "    </tr>\n",
       "    <tr>\n",
       "      <th>2021-01-07</th>\n",
       "      <td>0.091136</td>\n",
       "    </tr>\n",
       "    <tr>\n",
       "      <th>2021-01-08</th>\n",
       "      <td>0.021732</td>\n",
       "    </tr>\n",
       "  </tbody>\n",
       "</table>\n",
       "</div>"
      ],
      "text/plain": [
       "               Close\n",
       "Date                \n",
       "2021-01-04       NaN\n",
       "2021-01-05  0.037646\n",
       "2021-01-06 -0.030603\n",
       "2021-01-07  0.091136\n",
       "2021-01-08  0.021732"
      ]
     },
     "metadata": {},
     "output_type": "display_data"
    },
    {
     "data": {
      "text/html": [
       "<div>\n",
       "<style scoped>\n",
       "    .dataframe tbody tr th:only-of-type {\n",
       "        vertical-align: middle;\n",
       "    }\n",
       "\n",
       "    .dataframe tbody tr th {\n",
       "        vertical-align: top;\n",
       "    }\n",
       "\n",
       "    .dataframe thead th {\n",
       "        text-align: right;\n",
       "    }\n",
       "</style>\n",
       "<table border=\"1\" class=\"dataframe\">\n",
       "  <thead>\n",
       "    <tr style=\"text-align: right;\">\n",
       "      <th></th>\n",
       "      <th>Close</th>\n",
       "    </tr>\n",
       "    <tr>\n",
       "      <th>Date</th>\n",
       "      <th></th>\n",
       "    </tr>\n",
       "  </thead>\n",
       "  <tbody>\n",
       "    <tr>\n",
       "      <th>2021-01-04</th>\n",
       "      <td>NaN</td>\n",
       "    </tr>\n",
       "    <tr>\n",
       "      <th>2021-01-05</th>\n",
       "      <td>0.037646</td>\n",
       "    </tr>\n",
       "    <tr>\n",
       "      <th>2021-01-06</th>\n",
       "      <td>-0.030603</td>\n",
       "    </tr>\n",
       "    <tr>\n",
       "      <th>2021-01-07</th>\n",
       "      <td>0.091136</td>\n",
       "    </tr>\n",
       "    <tr>\n",
       "      <th>2021-01-08</th>\n",
       "      <td>0.021732</td>\n",
       "    </tr>\n",
       "  </tbody>\n",
       "</table>\n",
       "</div>"
      ],
      "text/plain": [
       "               Close\n",
       "Date                \n",
       "2021-01-04       NaN\n",
       "2021-01-05  0.037646\n",
       "2021-01-06 -0.030603\n",
       "2021-01-07  0.091136\n",
       "2021-01-08  0.021732"
      ]
     },
     "metadata": {},
     "output_type": "display_data"
    }
   ],
   "source": [
    "# Calculate and display the Daily Returns of DASH Closing price.\n",
    "dash_daily_returns = dash_df.pct_change().drop(columns='Open')\n",
    "\n",
    "display(dash_daily_returns.head())\n",
    "display(dash_daily_returns.head())"
   ]
  },
  {
   "cell_type": "code",
   "execution_count": 34,
   "metadata": {},
   "outputs": [
    {
     "data": {},
     "metadata": {},
     "output_type": "display_data"
    },
    {
     "data": {
      "application/vnd.holoviews_exec.v0+json": "",
      "text/html": [
       "<div id='1190'>\n",
       "\n",
       "\n",
       "\n",
       "\n",
       "\n",
       "  <div class=\"bk-root\" id=\"a4996fda-9cc6-440b-8125-ec493a930a81\" data-root-id=\"1190\"></div>\n",
       "</div>\n",
       "<script type=\"application/javascript\">(function(root) {\n",
       "  function embed_document(root) {\n",
       "    var docs_json = {\"6cb379aa-d736-4e4e-9b60-573ef049c2dd\":{\"roots\":{\"references\":[{\"attributes\":{\"base\":60,\"mantissas\":[1,2,5,10,15,20,30],\"max_interval\":1800000.0,\"min_interval\":1000.0,\"num_minor_ticks\":0},\"id\":\"1246\",\"type\":\"AdaptiveTicker\"},{\"attributes\":{\"bottom_units\":\"screen\",\"fill_alpha\":0.5,\"fill_color\":\"lightgrey\",\"left_units\":\"screen\",\"level\":\"overlay\",\"line_alpha\":1.0,\"line_color\":\"black\",\"line_dash\":[4,4],\"line_width\":2,\"right_units\":\"screen\",\"top_units\":\"screen\"},\"id\":\"1217\",\"type\":\"BoxAnnotation\"},{\"attributes\":{\"line_alpha\":0.2,\"line_color\":\"#1f77b3\",\"line_width\":2,\"x\":{\"field\":\"Date\"},\"y\":{\"field\":\"Close\"}},\"id\":\"1230\",\"type\":\"Line\"},{\"attributes\":{\"line_color\":\"#1f77b3\",\"line_width\":2,\"x\":{\"field\":\"Date\"},\"y\":{\"field\":\"Close\"}},\"id\":\"1228\",\"type\":\"Line\"},{\"attributes\":{\"base\":24,\"mantissas\":[1,2,4,6,8,12],\"max_interval\":43200000.0,\"min_interval\":3600000.0,\"num_minor_ticks\":0},\"id\":\"1247\",\"type\":\"AdaptiveTicker\"},{\"attributes\":{\"below\":[{\"id\":\"1204\"}],\"center\":[{\"id\":\"1207\"},{\"id\":\"1211\"}],\"left\":[{\"id\":\"1208\"}],\"margin\":[5,5,5,5],\"min_border_bottom\":10,\"min_border_left\":10,\"min_border_right\":10,\"min_border_top\":10,\"plot_height\":300,\"plot_width\":700,\"renderers\":[{\"id\":\"1231\"}],\"sizing_mode\":\"fixed\",\"title\":{\"id\":\"1196\"},\"toolbar\":{\"id\":\"1218\"},\"x_range\":{\"id\":\"1192\"},\"x_scale\":{\"id\":\"1200\"},\"y_range\":{\"id\":\"1193\"},\"y_scale\":{\"id\":\"1202\"}},\"id\":\"1195\",\"subtype\":\"Figure\",\"type\":\"Plot\"},{\"attributes\":{\"margin\":[5,5,5,5],\"name\":\"HSpacer01716\",\"sizing_mode\":\"stretch_width\"},\"id\":\"1277\",\"type\":\"Spacer\"},{\"attributes\":{\"data_source\":{\"id\":\"1225\"},\"glyph\":{\"id\":\"1228\"},\"hover_glyph\":null,\"muted_glyph\":{\"id\":\"1230\"},\"nonselection_glyph\":{\"id\":\"1229\"},\"selection_glyph\":null,\"view\":{\"id\":\"1232\"}},\"id\":\"1231\",\"type\":\"GlyphRenderer\"},{\"attributes\":{\"active_drag\":\"auto\",\"active_inspect\":\"auto\",\"active_multi\":null,\"active_scroll\":\"auto\",\"active_tap\":\"auto\",\"tools\":[{\"id\":\"1194\"},{\"id\":\"1212\"},{\"id\":\"1213\"},{\"id\":\"1214\"},{\"id\":\"1215\"},{\"id\":\"1216\"}]},\"id\":\"1218\",\"type\":\"Toolbar\"},{\"attributes\":{\"margin\":[5,5,5,5],\"name\":\"HSpacer01715\",\"sizing_mode\":\"stretch_width\"},\"id\":\"1191\",\"type\":\"Spacer\"},{\"attributes\":{\"days\":[1,8,15,22]},\"id\":\"1250\",\"type\":\"DaysTicker\"},{\"attributes\":{\"source\":{\"id\":\"1225\"}},\"id\":\"1232\",\"type\":\"CDSView\"},{\"attributes\":{\"data\":{\"Close\":{\"__ndarray__\":\"AAAAAAAA+H8roWMGM5rwP6E051ghGPA/4es2yZ+P8T/0b5CpUvHxPx0mDj9gMvM/q0boUMQR9j+dzLQZoML2P8z/seOI0vc/lmmbgVaD9T/2mlEpstj2P6bNw8pQx/U/M17Fg2Xx9T/OWc6cDxL2P9QSqT94DPY/KT2MdRnJ9j+zGD9rjDH2P/G7j6LBIPU/0HJKFG839j/iIQHdovn1P+6iEyti+/Q//hFFCADC9D8VJBVpfcP1P1hg5bQg1fQ/mBhXtU1l9D/RHauZ/pT1P7GPooaZu/g/4Zhk+K+D+D9grcIt4VT3P7SzJ5KcY/g/\",\"dtype\":\"float64\",\"order\":\"little\",\"shape\":[30]},\"Date\":{\"__ndarray__\":\"AABAGKtsd0IAAAB+/Wx3QgAAwONPbXdCAACASaJtd0IAAECv9G13QgAAgODrbndCAABARj5vd0IAAACskG93QgAAwBHjb3dCAACAdzVwd0IAAIAOf3F3QgAAQHTRcXdCAAAA2iNyd0IAAMA/dnJ3QgAAAHFtc3dCAADA1r9zd0IAAIA8EnR3QgAAQKJkdHdCAAAACLd0d0IAAEA5rnV3QgAAAJ8AdndCAADABFN2d0IAAIBqpXZ3QgAAQND3dndCAACAAe93d0IAAEBnQXh3QgAAAM2TeHdCAADAMuZ4d0IAAICYOHl3QgAAgC+CendC\",\"dtype\":\"float64\",\"order\":\"little\",\"shape\":[30]}},\"selected\":{\"id\":\"1226\"},\"selection_policy\":{\"id\":\"1242\"}},\"id\":\"1225\",\"type\":\"ColumnDataSource\"},{\"attributes\":{},\"id\":\"1212\",\"type\":\"SaveTool\"},{\"attributes\":{},\"id\":\"1235\",\"type\":\"BasicTickFormatter\"},{\"attributes\":{},\"id\":\"1200\",\"type\":\"LinearScale\"},{\"attributes\":{},\"id\":\"1213\",\"type\":\"PanTool\"},{\"attributes\":{\"months\":[0,1,2,3,4,5,6,7,8,9,10,11]},\"id\":\"1252\",\"type\":\"MonthsTicker\"},{\"attributes\":{},\"id\":\"1214\",\"type\":\"WheelZoomTool\"},{\"attributes\":{},\"id\":\"1209\",\"type\":\"BasicTicker\"},{\"attributes\":{\"children\":[{\"id\":\"1191\"},{\"id\":\"1195\"},{\"id\":\"1277\"}],\"margin\":[0,0,0,0],\"name\":\"Row01711\",\"tags\":[\"embedded\"]},\"id\":\"1190\",\"type\":\"Row\"},{\"attributes\":{},\"id\":\"1233\",\"type\":\"DatetimeTickFormatter\"},{\"attributes\":{\"overlay\":{\"id\":\"1217\"}},\"id\":\"1215\",\"type\":\"BoxZoomTool\"},{\"attributes\":{\"callback\":null,\"formatters\":{\"@{Date}\":\"datetime\"},\"renderers\":[{\"id\":\"1231\"}],\"tags\":[\"hv_created\"],\"tooltips\":[[\"Date\",\"@{Date}{%F %T}\"],[\"Close\",\"@{Close}\"]]},\"id\":\"1194\",\"type\":\"HoverTool\"},{\"attributes\":{\"end\":1.59979166391563,\"reset_end\":1.59979166391563,\"reset_start\":0.95190022412673,\"start\":0.95190022412673,\"tags\":[[[\"Close\",\"Close\",null]]]},\"id\":\"1193\",\"type\":\"Range1d\"},{\"attributes\":{\"mantissas\":[1,2,5],\"max_interval\":500.0,\"num_minor_ticks\":0},\"id\":\"1245\",\"type\":\"AdaptiveTicker\"},{\"attributes\":{\"axis_label\":\"Date\",\"bounds\":\"auto\",\"formatter\":{\"id\":\"1233\"},\"major_label_orientation\":\"horizontal\",\"ticker\":{\"id\":\"1205\"}},\"id\":\"1204\",\"type\":\"DatetimeAxis\"},{\"attributes\":{\"line_alpha\":0.1,\"line_color\":\"#1f77b3\",\"line_width\":2,\"x\":{\"field\":\"Date\"},\"y\":{\"field\":\"Close\"}},\"id\":\"1229\",\"type\":\"Line\"},{\"attributes\":{},\"id\":\"1216\",\"type\":\"ResetTool\"},{\"attributes\":{\"months\":[0,6]},\"id\":\"1255\",\"type\":\"MonthsTicker\"},{\"attributes\":{},\"id\":\"1202\",\"type\":\"LinearScale\"},{\"attributes\":{},\"id\":\"1242\",\"type\":\"UnionRenderers\"},{\"attributes\":{},\"id\":\"1256\",\"type\":\"YearsTicker\"},{\"attributes\":{\"days\":[1,15]},\"id\":\"1251\",\"type\":\"DaysTicker\"},{\"attributes\":{\"text\":\"\",\"text_color\":{\"value\":\"black\"},\"text_font_size\":{\"value\":\"12pt\"}},\"id\":\"1196\",\"type\":\"Title\"},{\"attributes\":{},\"id\":\"1226\",\"type\":\"Selection\"},{\"attributes\":{\"months\":[0,2,4,6,8,10]},\"id\":\"1253\",\"type\":\"MonthsTicker\"},{\"attributes\":{\"num_minor_ticks\":5,\"tickers\":[{\"id\":\"1245\"},{\"id\":\"1246\"},{\"id\":\"1247\"},{\"id\":\"1248\"},{\"id\":\"1249\"},{\"id\":\"1250\"},{\"id\":\"1251\"},{\"id\":\"1252\"},{\"id\":\"1253\"},{\"id\":\"1254\"},{\"id\":\"1255\"},{\"id\":\"1256\"}]},\"id\":\"1205\",\"type\":\"DatetimeTicker\"},{\"attributes\":{\"days\":[1,2,3,4,5,6,7,8,9,10,11,12,13,14,15,16,17,18,19,20,21,22,23,24,25,26,27,28,29,30,31]},\"id\":\"1248\",\"type\":\"DaysTicker\"},{\"attributes\":{\"days\":[1,4,7,10,13,16,19,22,25,28]},\"id\":\"1249\",\"type\":\"DaysTicker\"},{\"attributes\":{\"axis\":{\"id\":\"1204\"},\"grid_line_color\":null,\"ticker\":null},\"id\":\"1207\",\"type\":\"Grid\"},{\"attributes\":{\"end\":1613433600000.0,\"reset_end\":1613433600000.0,\"reset_start\":1609718400000.0,\"start\":1609718400000.0,\"tags\":[[[\"Date\",\"Date\",null]]]},\"id\":\"1192\",\"type\":\"Range1d\"},{\"attributes\":{\"axis\":{\"id\":\"1208\"},\"dimension\":1,\"grid_line_color\":null,\"ticker\":null},\"id\":\"1211\",\"type\":\"Grid\"},{\"attributes\":{\"axis_label\":\"Close\",\"bounds\":\"auto\",\"formatter\":{\"id\":\"1235\"},\"major_label_orientation\":\"horizontal\",\"ticker\":{\"id\":\"1209\"}},\"id\":\"1208\",\"type\":\"LinearAxis\"},{\"attributes\":{\"months\":[0,4,8]},\"id\":\"1254\",\"type\":\"MonthsTicker\"}],\"root_ids\":[\"1190\"]},\"title\":\"Bokeh Application\",\"version\":\"2.2.3\"}};\n",
       "    var render_items = [{\"docid\":\"6cb379aa-d736-4e4e-9b60-573ef049c2dd\",\"root_ids\":[\"1190\"],\"roots\":{\"1190\":\"a4996fda-9cc6-440b-8125-ec493a930a81\"}}];\n",
       "    root.Bokeh.embed.embed_items_notebook(docs_json, render_items);\n",
       "  }\n",
       "  if (root.Bokeh !== undefined && root.Bokeh.Panel !== undefined) {\n",
       "    embed_document(root);\n",
       "  } else {\n",
       "    var attempts = 0;\n",
       "    var timer = setInterval(function(root) {\n",
       "      if (root.Bokeh !== undefined && root.Bokeh.Panel !== undefined) {\n",
       "        clearInterval(timer);\n",
       "        embed_document(root);\n",
       "      } else if (document.readyState == \"complete\") {\n",
       "        attempts++;\n",
       "        if (attempts > 100) {\n",
       "          clearInterval(timer);\n",
       "          console.log(\"Bokeh: ERROR: Unable to run BokehJS code because BokehJS library is missing\");\n",
       "        }\n",
       "      }\n",
       "    }, 10, root)\n",
       "  }\n",
       "})(window);</script>"
      ],
      "text/plain": [
       ":Curve   [Date]   (Close)"
      ]
     },
     "execution_count": 34,
     "metadata": {
      "application/vnd.holoviews_exec.v0+json": {
       "id": "1190"
      }
     },
     "output_type": "execute_result"
    }
   ],
   "source": [
    "# Calculate and plot the Cumulative Returns of DASH stock.\n",
    "dash_cumulative_returns = (dash_daily_returns + 1).cumprod()\n",
    "plot_dash_cumulative_returns = dash_cumulative_returns.hvplot()\n",
    "plot_dash_cumulative_returns"
   ]
  },
  {
   "cell_type": "code",
   "execution_count": 29,
   "metadata": {},
   "outputs": [
    {
     "data": {
      "text/html": [
       "<div>\n",
       "<style scoped>\n",
       "    .dataframe tbody tr th:only-of-type {\n",
       "        vertical-align: middle;\n",
       "    }\n",
       "\n",
       "    .dataframe tbody tr th {\n",
       "        vertical-align: top;\n",
       "    }\n",
       "\n",
       "    .dataframe thead th {\n",
       "        text-align: right;\n",
       "    }\n",
       "</style>\n",
       "<table border=\"1\" class=\"dataframe\">\n",
       "  <thead>\n",
       "    <tr style=\"text-align: right;\">\n",
       "      <th></th>\n",
       "      <th>Close</th>\n",
       "    </tr>\n",
       "    <tr>\n",
       "      <th>Date</th>\n",
       "      <th></th>\n",
       "    </tr>\n",
       "  </thead>\n",
       "  <tbody>\n",
       "    <tr>\n",
       "      <th>2021-01-04</th>\n",
       "      <td>NaN</td>\n",
       "    </tr>\n",
       "    <tr>\n",
       "      <th>2021-01-05</th>\n",
       "      <td>-0.004488</td>\n",
       "    </tr>\n",
       "    <tr>\n",
       "      <th>2021-01-06</th>\n",
       "      <td>0.004508</td>\n",
       "    </tr>\n",
       "    <tr>\n",
       "      <th>2021-01-07</th>\n",
       "      <td>-0.029170</td>\n",
       "    </tr>\n",
       "    <tr>\n",
       "      <th>2021-01-08</th>\n",
       "      <td>0.008475</td>\n",
       "    </tr>\n",
       "  </tbody>\n",
       "</table>\n",
       "</div>"
      ],
      "text/plain": [
       "               Close\n",
       "Date                \n",
       "2021-01-04       NaN\n",
       "2021-01-05 -0.004488\n",
       "2021-01-06  0.004508\n",
       "2021-01-07 -0.029170\n",
       "2021-01-08  0.008475"
      ]
     },
     "metadata": {},
     "output_type": "display_data"
    },
    {
     "data": {
      "text/html": [
       "<div>\n",
       "<style scoped>\n",
       "    .dataframe tbody tr th:only-of-type {\n",
       "        vertical-align: middle;\n",
       "    }\n",
       "\n",
       "    .dataframe tbody tr th {\n",
       "        vertical-align: top;\n",
       "    }\n",
       "\n",
       "    .dataframe thead th {\n",
       "        text-align: right;\n",
       "    }\n",
       "</style>\n",
       "<table border=\"1\" class=\"dataframe\">\n",
       "  <thead>\n",
       "    <tr style=\"text-align: right;\">\n",
       "      <th></th>\n",
       "      <th>Close</th>\n",
       "    </tr>\n",
       "    <tr>\n",
       "      <th>Date</th>\n",
       "      <th></th>\n",
       "    </tr>\n",
       "  </thead>\n",
       "  <tbody>\n",
       "    <tr>\n",
       "      <th>2021-02-09</th>\n",
       "      <td>0.046703</td>\n",
       "    </tr>\n",
       "    <tr>\n",
       "      <th>2021-02-10</th>\n",
       "      <td>0.024934</td>\n",
       "    </tr>\n",
       "    <tr>\n",
       "      <th>2021-02-11</th>\n",
       "      <td>-0.028596</td>\n",
       "    </tr>\n",
       "    <tr>\n",
       "      <th>2021-02-12</th>\n",
       "      <td>-0.040861</td>\n",
       "    </tr>\n",
       "    <tr>\n",
       "      <th>2021-02-16</th>\n",
       "      <td>0.024279</td>\n",
       "    </tr>\n",
       "  </tbody>\n",
       "</table>\n",
       "</div>"
      ],
      "text/plain": [
       "               Close\n",
       "Date                \n",
       "2021-02-09  0.046703\n",
       "2021-02-10  0.024934\n",
       "2021-02-11 -0.028596\n",
       "2021-02-12 -0.040861\n",
       "2021-02-16  0.024279"
      ]
     },
     "metadata": {},
     "output_type": "display_data"
    }
   ],
   "source": [
    "#Calculate and display the the Daily Returns of PRCH closing price.\n",
    "prch_daily_returns = prch_df.pct_change().drop(columns='Open')\n",
    "\n",
    "display(prch_daily_returns.head())\n",
    "display(prch_daily_returns.tail())"
   ]
  },
  {
   "cell_type": "code",
   "execution_count": 35,
   "metadata": {},
   "outputs": [
    {
     "data": {},
     "metadata": {},
     "output_type": "display_data"
    },
    {
     "data": {
      "application/vnd.holoviews_exec.v0+json": "",
      "text/html": [
       "<div id='1379'>\n",
       "\n",
       "\n",
       "\n",
       "\n",
       "\n",
       "  <div class=\"bk-root\" id=\"0fd1a2c2-30c9-4810-b986-abafad1d23d9\" data-root-id=\"1379\"></div>\n",
       "</div>\n",
       "<script type=\"application/javascript\">(function(root) {\n",
       "  function embed_document(root) {\n",
       "    var docs_json = {\"632e6b41-4f76-408b-bd3e-3eb1fb3abeab\":{\"roots\":{\"references\":[{\"attributes\":{\"axis\":{\"id\":\"1397\"},\"dimension\":1,\"grid_line_color\":null,\"ticker\":null},\"id\":\"1400\",\"type\":\"Grid\"},{\"attributes\":{\"margin\":[5,5,5,5],\"name\":\"HSpacer01894\",\"sizing_mode\":\"stretch_width\"},\"id\":\"1466\",\"type\":\"Spacer\"},{\"attributes\":{\"axis_label\":\"Close\",\"bounds\":\"auto\",\"formatter\":{\"id\":\"1424\"},\"major_label_orientation\":\"horizontal\",\"ticker\":{\"id\":\"1398\"}},\"id\":\"1397\",\"type\":\"LinearAxis\"},{\"attributes\":{},\"id\":\"1431\",\"type\":\"UnionRenderers\"},{\"attributes\":{\"days\":[1,15]},\"id\":\"1440\",\"type\":\"DaysTicker\"},{\"attributes\":{\"line_color\":\"#1f77b3\",\"line_width\":2,\"x\":{\"field\":\"Date\"},\"y\":{\"field\":\"Close\"}},\"id\":\"1417\",\"type\":\"Line\"},{\"attributes\":{\"days\":[1,8,15,22]},\"id\":\"1439\",\"type\":\"DaysTicker\"},{\"attributes\":{\"months\":[0,6]},\"id\":\"1444\",\"type\":\"MonthsTicker\"},{\"attributes\":{\"source\":{\"id\":\"1414\"}},\"id\":\"1421\",\"type\":\"CDSView\"},{\"attributes\":{\"children\":[{\"id\":\"1380\"},{\"id\":\"1384\"},{\"id\":\"1466\"}],\"margin\":[0,0,0,0],\"name\":\"Row01889\",\"tags\":[\"embedded\"]},\"id\":\"1379\",\"type\":\"Row\"},{\"attributes\":{\"days\":[1,4,7,10,13,16,19,22,25,28]},\"id\":\"1438\",\"type\":\"DaysTicker\"},{\"attributes\":{\"bottom_units\":\"screen\",\"fill_alpha\":0.5,\"fill_color\":\"lightgrey\",\"left_units\":\"screen\",\"level\":\"overlay\",\"line_alpha\":1.0,\"line_color\":\"black\",\"line_dash\":[4,4],\"line_width\":2,\"right_units\":\"screen\",\"top_units\":\"screen\"},\"id\":\"1406\",\"type\":\"BoxAnnotation\"},{\"attributes\":{\"below\":[{\"id\":\"1393\"}],\"center\":[{\"id\":\"1396\"},{\"id\":\"1400\"}],\"left\":[{\"id\":\"1397\"}],\"margin\":[5,5,5,5],\"min_border_bottom\":10,\"min_border_left\":10,\"min_border_right\":10,\"min_border_top\":10,\"plot_height\":300,\"plot_width\":700,\"renderers\":[{\"id\":\"1420\"}],\"sizing_mode\":\"fixed\",\"title\":{\"id\":\"1385\"},\"toolbar\":{\"id\":\"1407\"},\"x_range\":{\"id\":\"1381\"},\"x_scale\":{\"id\":\"1389\"},\"y_range\":{\"id\":\"1382\"},\"y_scale\":{\"id\":\"1391\"}},\"id\":\"1384\",\"subtype\":\"Figure\",\"type\":\"Plot\"},{\"attributes\":{\"data_source\":{\"id\":\"1414\"},\"glyph\":{\"id\":\"1417\"},\"hover_glyph\":null,\"muted_glyph\":{\"id\":\"1419\"},\"nonselection_glyph\":{\"id\":\"1418\"},\"selection_glyph\":null,\"view\":{\"id\":\"1421\"}},\"id\":\"1420\",\"type\":\"GlyphRenderer\"},{\"attributes\":{},\"id\":\"1389\",\"type\":\"LinearScale\"},{\"attributes\":{\"line_alpha\":0.1,\"line_color\":\"#1f77b3\",\"line_width\":2,\"x\":{\"field\":\"Date\"},\"y\":{\"field\":\"Close\"}},\"id\":\"1418\",\"type\":\"Line\"},{\"attributes\":{},\"id\":\"1401\",\"type\":\"SaveTool\"},{\"attributes\":{\"months\":[0,1,2,3,4,5,6,7,8,9,10,11]},\"id\":\"1441\",\"type\":\"MonthsTicker\"},{\"attributes\":{},\"id\":\"1415\",\"type\":\"Selection\"},{\"attributes\":{\"end\":1613433600000.0,\"reset_end\":1613433600000.0,\"reset_start\":1609718400000.0,\"start\":1609718400000.0,\"tags\":[[[\"Date\",\"Date\",null]]]},\"id\":\"1381\",\"type\":\"Range1d\"},{\"attributes\":{},\"id\":\"1402\",\"type\":\"PanTool\"},{\"attributes\":{\"end\":1.8321615557217652,\"reset_end\":1.8321615557217652,\"reset_start\":0.8753926701570681,\"start\":0.8753926701570681,\"tags\":[[[\"Close\",\"Close\",null]]]},\"id\":\"1382\",\"type\":\"Range1d\"},{\"attributes\":{\"months\":[0,2,4,6,8,10]},\"id\":\"1442\",\"type\":\"MonthsTicker\"},{\"attributes\":{},\"id\":\"1403\",\"type\":\"WheelZoomTool\"},{\"attributes\":{},\"id\":\"1424\",\"type\":\"BasicTickFormatter\"},{\"attributes\":{\"active_drag\":\"auto\",\"active_inspect\":\"auto\",\"active_multi\":null,\"active_scroll\":\"auto\",\"active_tap\":\"auto\",\"tools\":[{\"id\":\"1383\"},{\"id\":\"1401\"},{\"id\":\"1402\"},{\"id\":\"1403\"},{\"id\":\"1404\"},{\"id\":\"1405\"}]},\"id\":\"1407\",\"type\":\"Toolbar\"},{\"attributes\":{},\"id\":\"1398\",\"type\":\"BasicTicker\"},{\"attributes\":{\"overlay\":{\"id\":\"1406\"}},\"id\":\"1404\",\"type\":\"BoxZoomTool\"},{\"attributes\":{},\"id\":\"1422\",\"type\":\"DatetimeTickFormatter\"},{\"attributes\":{\"line_alpha\":0.2,\"line_color\":\"#1f77b3\",\"line_width\":2,\"x\":{\"field\":\"Date\"},\"y\":{\"field\":\"Close\"}},\"id\":\"1419\",\"type\":\"Line\"},{\"attributes\":{\"callback\":null,\"formatters\":{\"@{Date}\":\"datetime\"},\"renderers\":[{\"id\":\"1420\"}],\"tags\":[\"hv_created\"],\"tooltips\":[[\"Date\",\"@{Date}{%F %T}\"],[\"Close\",\"@{Close}\"]]},\"id\":\"1383\",\"type\":\"HoverTool\"},{\"attributes\":{\"axis_label\":\"Date\",\"bounds\":\"auto\",\"formatter\":{\"id\":\"1422\"},\"major_label_orientation\":\"horizontal\",\"ticker\":{\"id\":\"1394\"}},\"id\":\"1393\",\"type\":\"DatetimeAxis\"},{\"attributes\":{},\"id\":\"1405\",\"type\":\"ResetTool\"},{\"attributes\":{},\"id\":\"1445\",\"type\":\"YearsTicker\"},{\"attributes\":{},\"id\":\"1391\",\"type\":\"LinearScale\"},{\"attributes\":{\"margin\":[5,5,5,5],\"name\":\"HSpacer01893\",\"sizing_mode\":\"stretch_width\"},\"id\":\"1380\",\"type\":\"Spacer\"},{\"attributes\":{\"mantissas\":[1,2,5],\"max_interval\":500.0,\"num_minor_ticks\":0},\"id\":\"1434\",\"type\":\"AdaptiveTicker\"},{\"attributes\":{\"text\":\"\",\"text_color\":{\"value\":\"black\"},\"text_font_size\":{\"value\":\"12pt\"}},\"id\":\"1385\",\"type\":\"Title\"},{\"attributes\":{\"data\":{\"Close\":{\"__ndarray__\":\"AAAAAAAA+H9uCHSyPNvvPwAAAAAAAPA/xDbyhwoR7z+nfB2WcFTvP0BUiPhekO4/5f1i0zAJ8D9C1qnRgSryP5qhVHZGEPM/xPQmITpQ9T8kHzGzyfv1P02NDlSRUfY/diUIOTfg9T/tRFjLqqT0P0Nz1qB42vM/QqxIYAKU8z/cSkEDZxbzPzyuAoIh2fI/h+8F6Te88T+UlLgcutTxP4z8oULE9/I/EJdDlzo+8z/D9CYhOlD1P7TE+WxOlvc/rgKCIdki+j+WjrtIVVv7Pw2TAOX0Cfw/wmwIdLI8+z8LrgvbyB/6PwUHn4Unwvo/\",\"dtype\":\"float64\",\"order\":\"little\",\"shape\":[30]},\"Date\":{\"__ndarray__\":\"AABAGKtsd0IAAAB+/Wx3QgAAwONPbXdCAACASaJtd0IAAECv9G13QgAAgODrbndCAABARj5vd0IAAACskG93QgAAwBHjb3dCAACAdzVwd0IAAIAOf3F3QgAAQHTRcXdCAAAA2iNyd0IAAMA/dnJ3QgAAAHFtc3dCAADA1r9zd0IAAIA8EnR3QgAAQKJkdHdCAAAACLd0d0IAAEA5rnV3QgAAAJ8AdndCAADABFN2d0IAAIBqpXZ3QgAAQND3dndCAACAAe93d0IAAEBnQXh3QgAAAM2TeHdCAADAMuZ4d0IAAICYOHl3QgAAgC+CendC\",\"dtype\":\"float64\",\"order\":\"little\",\"shape\":[30]}},\"selected\":{\"id\":\"1415\"},\"selection_policy\":{\"id\":\"1431\"}},\"id\":\"1414\",\"type\":\"ColumnDataSource\"},{\"attributes\":{\"days\":[1,2,3,4,5,6,7,8,9,10,11,12,13,14,15,16,17,18,19,20,21,22,23,24,25,26,27,28,29,30,31]},\"id\":\"1437\",\"type\":\"DaysTicker\"},{\"attributes\":{\"base\":24,\"mantissas\":[1,2,4,6,8,12],\"max_interval\":43200000.0,\"min_interval\":3600000.0,\"num_minor_ticks\":0},\"id\":\"1436\",\"type\":\"AdaptiveTicker\"},{\"attributes\":{\"months\":[0,4,8]},\"id\":\"1443\",\"type\":\"MonthsTicker\"},{\"attributes\":{\"num_minor_ticks\":5,\"tickers\":[{\"id\":\"1434\"},{\"id\":\"1435\"},{\"id\":\"1436\"},{\"id\":\"1437\"},{\"id\":\"1438\"},{\"id\":\"1439\"},{\"id\":\"1440\"},{\"id\":\"1441\"},{\"id\":\"1442\"},{\"id\":\"1443\"},{\"id\":\"1444\"},{\"id\":\"1445\"}]},\"id\":\"1394\",\"type\":\"DatetimeTicker\"},{\"attributes\":{\"base\":60,\"mantissas\":[1,2,5,10,15,20,30],\"max_interval\":1800000.0,\"min_interval\":1000.0,\"num_minor_ticks\":0},\"id\":\"1435\",\"type\":\"AdaptiveTicker\"},{\"attributes\":{\"axis\":{\"id\":\"1393\"},\"grid_line_color\":null,\"ticker\":null},\"id\":\"1396\",\"type\":\"Grid\"}],\"root_ids\":[\"1379\"]},\"title\":\"Bokeh Application\",\"version\":\"2.2.3\"}};\n",
       "    var render_items = [{\"docid\":\"632e6b41-4f76-408b-bd3e-3eb1fb3abeab\",\"root_ids\":[\"1379\"],\"roots\":{\"1379\":\"0fd1a2c2-30c9-4810-b986-abafad1d23d9\"}}];\n",
       "    root.Bokeh.embed.embed_items_notebook(docs_json, render_items);\n",
       "  }\n",
       "  if (root.Bokeh !== undefined && root.Bokeh.Panel !== undefined) {\n",
       "    embed_document(root);\n",
       "  } else {\n",
       "    var attempts = 0;\n",
       "    var timer = setInterval(function(root) {\n",
       "      if (root.Bokeh !== undefined && root.Bokeh.Panel !== undefined) {\n",
       "        clearInterval(timer);\n",
       "        embed_document(root);\n",
       "      } else if (document.readyState == \"complete\") {\n",
       "        attempts++;\n",
       "        if (attempts > 100) {\n",
       "          clearInterval(timer);\n",
       "          console.log(\"Bokeh: ERROR: Unable to run BokehJS code because BokehJS library is missing\");\n",
       "        }\n",
       "      }\n",
       "    }, 10, root)\n",
       "  }\n",
       "})(window);</script>"
      ],
      "text/plain": [
       ":Curve   [Date]   (Close)"
      ]
     },
     "execution_count": 35,
     "metadata": {
      "application/vnd.holoviews_exec.v0+json": {
       "id": "1379"
      }
     },
     "output_type": "execute_result"
    }
   ],
   "source": [
    "# Calculate and plot the Cumulative Returns of PRCH stock.\n",
    "prch_cumulative_returns = (prch_daily_returns + 1).cumprod()\n",
    "plot_prch_cumulative_returns = prch_cumulative_returns.hvplot()\n",
    "plot_prch_cumulative_returns"
   ]
  },
  {
   "cell_type": "code",
   "execution_count": 30,
   "metadata": {},
   "outputs": [
    {
     "data": {
      "text/html": [
       "<div>\n",
       "<style scoped>\n",
       "    .dataframe tbody tr th:only-of-type {\n",
       "        vertical-align: middle;\n",
       "    }\n",
       "\n",
       "    .dataframe tbody tr th {\n",
       "        vertical-align: top;\n",
       "    }\n",
       "\n",
       "    .dataframe thead th {\n",
       "        text-align: right;\n",
       "    }\n",
       "</style>\n",
       "<table border=\"1\" class=\"dataframe\">\n",
       "  <thead>\n",
       "    <tr style=\"text-align: right;\">\n",
       "      <th></th>\n",
       "      <th>Close</th>\n",
       "    </tr>\n",
       "    <tr>\n",
       "      <th>Date</th>\n",
       "      <th></th>\n",
       "    </tr>\n",
       "  </thead>\n",
       "  <tbody>\n",
       "    <tr>\n",
       "      <th>2021-01-04</th>\n",
       "      <td>NaN</td>\n",
       "    </tr>\n",
       "    <tr>\n",
       "      <th>2021-01-05</th>\n",
       "      <td>0.020091</td>\n",
       "    </tr>\n",
       "    <tr>\n",
       "      <th>2021-01-06</th>\n",
       "      <td>-0.055702</td>\n",
       "    </tr>\n",
       "    <tr>\n",
       "      <th>2021-01-07</th>\n",
       "      <td>0.134990</td>\n",
       "    </tr>\n",
       "    <tr>\n",
       "      <th>2021-01-08</th>\n",
       "      <td>-0.013478</td>\n",
       "    </tr>\n",
       "  </tbody>\n",
       "</table>\n",
       "</div>"
      ],
      "text/plain": [
       "               Close\n",
       "Date                \n",
       "2021-01-04       NaN\n",
       "2021-01-05  0.020091\n",
       "2021-01-06 -0.055702\n",
       "2021-01-07  0.134990\n",
       "2021-01-08 -0.013478"
      ]
     },
     "metadata": {},
     "output_type": "display_data"
    },
    {
     "data": {
      "text/html": [
       "<div>\n",
       "<style scoped>\n",
       "    .dataframe tbody tr th:only-of-type {\n",
       "        vertical-align: middle;\n",
       "    }\n",
       "\n",
       "    .dataframe tbody tr th {\n",
       "        vertical-align: top;\n",
       "    }\n",
       "\n",
       "    .dataframe thead th {\n",
       "        text-align: right;\n",
       "    }\n",
       "</style>\n",
       "<table border=\"1\" class=\"dataframe\">\n",
       "  <thead>\n",
       "    <tr style=\"text-align: right;\">\n",
       "      <th></th>\n",
       "      <th>Close</th>\n",
       "    </tr>\n",
       "    <tr>\n",
       "      <th>Date</th>\n",
       "      <th></th>\n",
       "    </tr>\n",
       "  </thead>\n",
       "  <tbody>\n",
       "    <tr>\n",
       "      <th>2021-02-09</th>\n",
       "      <td>0.032151</td>\n",
       "    </tr>\n",
       "    <tr>\n",
       "      <th>2021-02-10</th>\n",
       "      <td>-0.026663</td>\n",
       "    </tr>\n",
       "    <tr>\n",
       "      <th>2021-02-11</th>\n",
       "      <td>-0.023471</td>\n",
       "    </tr>\n",
       "    <tr>\n",
       "      <th>2021-02-12</th>\n",
       "      <td>0.002477</td>\n",
       "    </tr>\n",
       "    <tr>\n",
       "      <th>2021-02-16</th>\n",
       "      <td>-0.016429</td>\n",
       "    </tr>\n",
       "  </tbody>\n",
       "</table>\n",
       "</div>"
      ],
      "text/plain": [
       "               Close\n",
       "Date                \n",
       "2021-02-09  0.032151\n",
       "2021-02-10 -0.026663\n",
       "2021-02-11 -0.023471\n",
       "2021-02-12  0.002477\n",
       "2021-02-16 -0.016429"
      ]
     },
     "metadata": {},
     "output_type": "display_data"
    }
   ],
   "source": [
    "#Calculate and display the Daily Returns of SNOW stock price.\n",
    "snow_daily_returns = snow_df.pct_change().drop(columns='Open')\n",
    "\n",
    "display(snow_daily_returns.head())\n",
    "display(snow_daily_returns.tail())"
   ]
  },
  {
   "cell_type": "code",
   "execution_count": 36,
   "metadata": {},
   "outputs": [
    {
     "data": {},
     "metadata": {},
     "output_type": "display_data"
    },
    {
     "data": {
      "application/vnd.holoviews_exec.v0+json": "",
      "text/html": [
       "<div id='1568'>\n",
       "\n",
       "\n",
       "\n",
       "\n",
       "\n",
       "  <div class=\"bk-root\" id=\"943d66fc-e1c7-41d8-ba98-55a213b5abc5\" data-root-id=\"1568\"></div>\n",
       "</div>\n",
       "<script type=\"application/javascript\">(function(root) {\n",
       "  function embed_document(root) {\n",
       "    var docs_json = {\"b84f1d5e-bc41-4f95-a5c1-aa19f6207055\":{\"roots\":{\"references\":[{\"attributes\":{\"days\":[1,2,3,4,5,6,7,8,9,10,11,12,13,14,15,16,17,18,19,20,21,22,23,24,25,26,27,28,29,30,31]},\"id\":\"1626\",\"type\":\"DaysTicker\"},{\"attributes\":{\"data_source\":{\"id\":\"1603\"},\"glyph\":{\"id\":\"1606\"},\"hover_glyph\":null,\"muted_glyph\":{\"id\":\"1608\"},\"nonselection_glyph\":{\"id\":\"1607\"},\"selection_glyph\":null,\"view\":{\"id\":\"1610\"}},\"id\":\"1609\",\"type\":\"GlyphRenderer\"},{\"attributes\":{},\"id\":\"1587\",\"type\":\"BasicTicker\"},{\"attributes\":{\"days\":[1,4,7,10,13,16,19,22,25,28]},\"id\":\"1627\",\"type\":\"DaysTicker\"},{\"attributes\":{\"axis\":{\"id\":\"1586\"},\"dimension\":1,\"grid_line_color\":null,\"ticker\":null},\"id\":\"1589\",\"type\":\"Grid\"},{\"attributes\":{\"base\":60,\"mantissas\":[1,2,5,10,15,20,30],\"max_interval\":1800000.0,\"min_interval\":1000.0,\"num_minor_ticks\":0},\"id\":\"1624\",\"type\":\"AdaptiveTicker\"},{\"attributes\":{\"line_alpha\":0.2,\"line_color\":\"#1f77b3\",\"line_width\":2,\"x\":{\"field\":\"Date\"},\"y\":{\"field\":\"Close\"}},\"id\":\"1608\",\"type\":\"Line\"},{\"attributes\":{\"base\":24,\"mantissas\":[1,2,4,6,8,12],\"max_interval\":43200000.0,\"min_interval\":3600000.0,\"num_minor_ticks\":0},\"id\":\"1625\",\"type\":\"AdaptiveTicker\"},{\"attributes\":{\"bottom_units\":\"screen\",\"fill_alpha\":0.5,\"fill_color\":\"lightgrey\",\"left_units\":\"screen\",\"level\":\"overlay\",\"line_alpha\":1.0,\"line_color\":\"black\",\"line_dash\":[4,4],\"line_width\":2,\"right_units\":\"screen\",\"top_units\":\"screen\"},\"id\":\"1595\",\"type\":\"BoxAnnotation\"},{\"attributes\":{\"source\":{\"id\":\"1603\"}},\"id\":\"1610\",\"type\":\"CDSView\"},{\"attributes\":{\"below\":[{\"id\":\"1582\"}],\"center\":[{\"id\":\"1585\"},{\"id\":\"1589\"}],\"left\":[{\"id\":\"1586\"}],\"margin\":[5,5,5,5],\"min_border_bottom\":10,\"min_border_left\":10,\"min_border_right\":10,\"min_border_top\":10,\"plot_height\":300,\"plot_width\":700,\"renderers\":[{\"id\":\"1609\"}],\"sizing_mode\":\"fixed\",\"title\":{\"id\":\"1574\"},\"toolbar\":{\"id\":\"1596\"},\"x_range\":{\"id\":\"1570\"},\"x_scale\":{\"id\":\"1578\"},\"y_range\":{\"id\":\"1571\"},\"y_scale\":{\"id\":\"1580\"}},\"id\":\"1573\",\"subtype\":\"Figure\",\"type\":\"Plot\"},{\"attributes\":{},\"id\":\"1613\",\"type\":\"BasicTickFormatter\"},{\"attributes\":{\"active_drag\":\"auto\",\"active_inspect\":\"auto\",\"active_multi\":null,\"active_scroll\":\"auto\",\"active_tap\":\"auto\",\"tools\":[{\"id\":\"1572\"},{\"id\":\"1590\"},{\"id\":\"1591\"},{\"id\":\"1592\"},{\"id\":\"1593\"},{\"id\":\"1594\"}]},\"id\":\"1596\",\"type\":\"Toolbar\"},{\"attributes\":{},\"id\":\"1611\",\"type\":\"DatetimeTickFormatter\"},{\"attributes\":{\"margin\":[5,5,5,5],\"name\":\"HSpacer02071\",\"sizing_mode\":\"stretch_width\"},\"id\":\"1569\",\"type\":\"Spacer\"},{\"attributes\":{},\"id\":\"1590\",\"type\":\"SaveTool\"},{\"attributes\":{\"children\":[{\"id\":\"1569\"},{\"id\":\"1573\"},{\"id\":\"1655\"}],\"margin\":[0,0,0,0],\"name\":\"Row02067\",\"tags\":[\"embedded\"]},\"id\":\"1568\",\"type\":\"Row\"},{\"attributes\":{\"line_color\":\"#1f77b3\",\"line_width\":2,\"x\":{\"field\":\"Date\"},\"y\":{\"field\":\"Close\"}},\"id\":\"1606\",\"type\":\"Line\"},{\"attributes\":{\"days\":[1,8,15,22]},\"id\":\"1628\",\"type\":\"DaysTicker\"},{\"attributes\":{},\"id\":\"1578\",\"type\":\"LinearScale\"},{\"attributes\":{},\"id\":\"1591\",\"type\":\"PanTool\"},{\"attributes\":{\"mantissas\":[1,2,5],\"max_interval\":500.0,\"num_minor_ticks\":0},\"id\":\"1623\",\"type\":\"AdaptiveTicker\"},{\"attributes\":{},\"id\":\"1634\",\"type\":\"YearsTicker\"},{\"attributes\":{},\"id\":\"1592\",\"type\":\"WheelZoomTool\"},{\"attributes\":{\"months\":[0,6]},\"id\":\"1633\",\"type\":\"MonthsTicker\"},{\"attributes\":{\"overlay\":{\"id\":\"1595\"}},\"id\":\"1593\",\"type\":\"BoxZoomTool\"},{\"attributes\":{\"months\":[0,4,8]},\"id\":\"1632\",\"type\":\"MonthsTicker\"},{\"attributes\":{\"callback\":null,\"formatters\":{\"@{Date}\":\"datetime\"},\"renderers\":[{\"id\":\"1609\"}],\"tags\":[\"hv_created\"],\"tooltips\":[[\"Date\",\"@{Date}{%F %T}\"],[\"Close\",\"@{Close}\"]]},\"id\":\"1572\",\"type\":\"HoverTool\"},{\"attributes\":{\"end\":1.1468481173392793,\"reset_end\":1.1468481173392793,\"reset_start\":0.9394444425476007,\"start\":0.9394444425476007,\"tags\":[[[\"Close\",\"Close\",null]]]},\"id\":\"1571\",\"type\":\"Range1d\"},{\"attributes\":{\"axis\":{\"id\":\"1582\"},\"grid_line_color\":null,\"ticker\":null},\"id\":\"1585\",\"type\":\"Grid\"},{\"attributes\":{\"data\":{\"Close\":{\"__ndarray__\":\"AAAAAAAA+H/3zW16SlLwP26XasAZ0+4/8xrXAil+8T/lt5K3zUHxPyekI6gU3PA/2tn3pW/e8D/bFgAciw3xPz5XftGud/E/Yfjc8UHA8D/wFJfEU3XwP0JbScWVNfA/I3PhX/J28D+skX5qhm3wP7XMEyajhPA/GZX+DFYo8D+a9vo1hJ3uP0GmHf6Mae8/o93gvodV7z86rvD7WTfwPxCmHILISvE/UNkmNaOE8T9QFgdveXXxP8R+9tVkmfE/tOf0i5OC8T+aJ6wzshLyP7TnrEpVl/E/nJoHwKIt8T8UK356hzjxP8RsYOcZ8PA/\",\"dtype\":\"float64\",\"order\":\"little\",\"shape\":[30]},\"Date\":{\"__ndarray__\":\"AABAGKtsd0IAAAB+/Wx3QgAAwONPbXdCAACASaJtd0IAAECv9G13QgAAgODrbndCAABARj5vd0IAAACskG93QgAAwBHjb3dCAACAdzVwd0IAAIAOf3F3QgAAQHTRcXdCAAAA2iNyd0IAAMA/dnJ3QgAAAHFtc3dCAADA1r9zd0IAAIA8EnR3QgAAQKJkdHdCAAAACLd0d0IAAEA5rnV3QgAAAJ8AdndCAADABFN2d0IAAIBqpXZ3QgAAQND3dndCAACAAe93d0IAAEBnQXh3QgAAAM2TeHdCAADAMuZ4d0IAAICYOHl3QgAAgC+CendC\",\"dtype\":\"float64\",\"order\":\"little\",\"shape\":[30]}},\"selected\":{\"id\":\"1604\"},\"selection_policy\":{\"id\":\"1620\"}},\"id\":\"1603\",\"type\":\"ColumnDataSource\"},{\"attributes\":{\"axis_label\":\"Date\",\"bounds\":\"auto\",\"formatter\":{\"id\":\"1611\"},\"major_label_orientation\":\"horizontal\",\"ticker\":{\"id\":\"1583\"}},\"id\":\"1582\",\"type\":\"DatetimeAxis\"},{\"attributes\":{},\"id\":\"1594\",\"type\":\"ResetTool\"},{\"attributes\":{},\"id\":\"1580\",\"type\":\"LinearScale\"},{\"attributes\":{\"days\":[1,15]},\"id\":\"1629\",\"type\":\"DaysTicker\"},{\"attributes\":{\"axis_label\":\"Close\",\"bounds\":\"auto\",\"formatter\":{\"id\":\"1613\"},\"major_label_orientation\":\"horizontal\",\"ticker\":{\"id\":\"1587\"}},\"id\":\"1586\",\"type\":\"LinearAxis\"},{\"attributes\":{\"line_alpha\":0.1,\"line_color\":\"#1f77b3\",\"line_width\":2,\"x\":{\"field\":\"Date\"},\"y\":{\"field\":\"Close\"}},\"id\":\"1607\",\"type\":\"Line\"},{\"attributes\":{},\"id\":\"1604\",\"type\":\"Selection\"},{\"attributes\":{\"text\":\"\",\"text_color\":{\"value\":\"black\"},\"text_font_size\":{\"value\":\"12pt\"}},\"id\":\"1574\",\"type\":\"Title\"},{\"attributes\":{\"months\":[0,2,4,6,8,10]},\"id\":\"1631\",\"type\":\"MonthsTicker\"},{\"attributes\":{\"months\":[0,1,2,3,4,5,6,7,8,9,10,11]},\"id\":\"1630\",\"type\":\"MonthsTicker\"},{\"attributes\":{\"margin\":[5,5,5,5],\"name\":\"HSpacer02072\",\"sizing_mode\":\"stretch_width\"},\"id\":\"1655\",\"type\":\"Spacer\"},{\"attributes\":{\"num_minor_ticks\":5,\"tickers\":[{\"id\":\"1623\"},{\"id\":\"1624\"},{\"id\":\"1625\"},{\"id\":\"1626\"},{\"id\":\"1627\"},{\"id\":\"1628\"},{\"id\":\"1629\"},{\"id\":\"1630\"},{\"id\":\"1631\"},{\"id\":\"1632\"},{\"id\":\"1633\"},{\"id\":\"1634\"}]},\"id\":\"1583\",\"type\":\"DatetimeTicker\"},{\"attributes\":{},\"id\":\"1620\",\"type\":\"UnionRenderers\"},{\"attributes\":{\"end\":1613433600000.0,\"reset_end\":1613433600000.0,\"reset_start\":1609718400000.0,\"start\":1609718400000.0,\"tags\":[[[\"Date\",\"Date\",null]]]},\"id\":\"1570\",\"type\":\"Range1d\"}],\"root_ids\":[\"1568\"]},\"title\":\"Bokeh Application\",\"version\":\"2.2.3\"}};\n",
       "    var render_items = [{\"docid\":\"b84f1d5e-bc41-4f95-a5c1-aa19f6207055\",\"root_ids\":[\"1568\"],\"roots\":{\"1568\":\"943d66fc-e1c7-41d8-ba98-55a213b5abc5\"}}];\n",
       "    root.Bokeh.embed.embed_items_notebook(docs_json, render_items);\n",
       "  }\n",
       "  if (root.Bokeh !== undefined && root.Bokeh.Panel !== undefined) {\n",
       "    embed_document(root);\n",
       "  } else {\n",
       "    var attempts = 0;\n",
       "    var timer = setInterval(function(root) {\n",
       "      if (root.Bokeh !== undefined && root.Bokeh.Panel !== undefined) {\n",
       "        clearInterval(timer);\n",
       "        embed_document(root);\n",
       "      } else if (document.readyState == \"complete\") {\n",
       "        attempts++;\n",
       "        if (attempts > 100) {\n",
       "          clearInterval(timer);\n",
       "          console.log(\"Bokeh: ERROR: Unable to run BokehJS code because BokehJS library is missing\");\n",
       "        }\n",
       "      }\n",
       "    }, 10, root)\n",
       "  }\n",
       "})(window);</script>"
      ],
      "text/plain": [
       ":Curve   [Date]   (Close)"
      ]
     },
     "execution_count": 36,
     "metadata": {
      "application/vnd.holoviews_exec.v0+json": {
       "id": "1568"
      }
     },
     "output_type": "execute_result"
    }
   ],
   "source": [
    "# Calculate and plot the Cumulative Returns of SNOW stock.\n",
    "snow_cumulative_returns = (snow_daily_returns + 1).cumprod()\n",
    "plot_snow_cumulative_returns = snow_cumulative_returns.hvplot()\n",
    "plot_snow_cumulative_returns"
   ]
  },
  {
   "cell_type": "code",
   "execution_count": 31,
   "metadata": {},
   "outputs": [
    {
     "data": {
      "text/html": [
       "<div>\n",
       "<style scoped>\n",
       "    .dataframe tbody tr th:only-of-type {\n",
       "        vertical-align: middle;\n",
       "    }\n",
       "\n",
       "    .dataframe tbody tr th {\n",
       "        vertical-align: top;\n",
       "    }\n",
       "\n",
       "    .dataframe thead th {\n",
       "        text-align: right;\n",
       "    }\n",
       "</style>\n",
       "<table border=\"1\" class=\"dataframe\">\n",
       "  <thead>\n",
       "    <tr style=\"text-align: right;\">\n",
       "      <th></th>\n",
       "      <th>Close</th>\n",
       "    </tr>\n",
       "    <tr>\n",
       "      <th>Date</th>\n",
       "      <th></th>\n",
       "    </tr>\n",
       "  </thead>\n",
       "  <tbody>\n",
       "    <tr>\n",
       "      <th>2021-01-04</th>\n",
       "      <td>NaN</td>\n",
       "    </tr>\n",
       "    <tr>\n",
       "      <th>2021-01-05</th>\n",
       "      <td>0.099568</td>\n",
       "    </tr>\n",
       "    <tr>\n",
       "      <th>2021-01-06</th>\n",
       "      <td>0.077941</td>\n",
       "    </tr>\n",
       "    <tr>\n",
       "      <th>2021-01-07</th>\n",
       "      <td>0.062332</td>\n",
       "    </tr>\n",
       "    <tr>\n",
       "      <th>2021-01-08</th>\n",
       "      <td>-0.048023</td>\n",
       "    </tr>\n",
       "  </tbody>\n",
       "</table>\n",
       "</div>"
      ],
      "text/plain": [
       "               Close\n",
       "Date                \n",
       "2021-01-04       NaN\n",
       "2021-01-05  0.099568\n",
       "2021-01-06  0.077941\n",
       "2021-01-07  0.062332\n",
       "2021-01-08 -0.048023"
      ]
     },
     "metadata": {},
     "output_type": "display_data"
    },
    {
     "data": {
      "text/html": [
       "<div>\n",
       "<style scoped>\n",
       "    .dataframe tbody tr th:only-of-type {\n",
       "        vertical-align: middle;\n",
       "    }\n",
       "\n",
       "    .dataframe tbody tr th {\n",
       "        vertical-align: top;\n",
       "    }\n",
       "\n",
       "    .dataframe thead th {\n",
       "        text-align: right;\n",
       "    }\n",
       "</style>\n",
       "<table border=\"1\" class=\"dataframe\">\n",
       "  <thead>\n",
       "    <tr style=\"text-align: right;\">\n",
       "      <th></th>\n",
       "      <th>Close</th>\n",
       "    </tr>\n",
       "    <tr>\n",
       "      <th>Date</th>\n",
       "      <th></th>\n",
       "    </tr>\n",
       "  </thead>\n",
       "  <tbody>\n",
       "    <tr>\n",
       "      <th>2021-02-09</th>\n",
       "      <td>0.055921</td>\n",
       "    </tr>\n",
       "    <tr>\n",
       "      <th>2021-02-10</th>\n",
       "      <td>0.134455</td>\n",
       "    </tr>\n",
       "    <tr>\n",
       "      <th>2021-02-11</th>\n",
       "      <td>0.044925</td>\n",
       "    </tr>\n",
       "    <tr>\n",
       "      <th>2021-02-12</th>\n",
       "      <td>0.074109</td>\n",
       "    </tr>\n",
       "    <tr>\n",
       "      <th>2021-02-16</th>\n",
       "      <td>-0.096888</td>\n",
       "    </tr>\n",
       "  </tbody>\n",
       "</table>\n",
       "</div>"
      ],
      "text/plain": [
       "               Close\n",
       "Date                \n",
       "2021-02-09  0.055921\n",
       "2021-02-10  0.134455\n",
       "2021-02-11  0.044925\n",
       "2021-02-12  0.074109\n",
       "2021-02-16 -0.096888"
      ]
     },
     "metadata": {},
     "output_type": "display_data"
    }
   ],
   "source": [
    "#Calculate and display the Daily Returns of UPST stock price.\n",
    "upst_daily_returns = upst_df.pct_change().drop(columns='Open')\n",
    "\n",
    "display(upst_daily_returns.head())\n",
    "display(upst_daily_returns.tail())"
   ]
  },
  {
   "cell_type": "code",
   "execution_count": 37,
   "metadata": {},
   "outputs": [
    {
     "data": {},
     "metadata": {},
     "output_type": "display_data"
    },
    {
     "data": {
      "application/vnd.holoviews_exec.v0+json": "",
      "text/html": [
       "<div id='1757'>\n",
       "\n",
       "\n",
       "\n",
       "\n",
       "\n",
       "  <div class=\"bk-root\" id=\"79f28381-58ec-4486-8c1b-6037dc2b9ec8\" data-root-id=\"1757\"></div>\n",
       "</div>\n",
       "<script type=\"application/javascript\">(function(root) {\n",
       "  function embed_document(root) {\n",
       "    var docs_json = {\"b5da7dd7-b798-4f14-b1d2-687f16de125d\":{\"roots\":{\"references\":[{\"attributes\":{\"num_minor_ticks\":5,\"tickers\":[{\"id\":\"1812\"},{\"id\":\"1813\"},{\"id\":\"1814\"},{\"id\":\"1815\"},{\"id\":\"1816\"},{\"id\":\"1817\"},{\"id\":\"1818\"},{\"id\":\"1819\"},{\"id\":\"1820\"},{\"id\":\"1821\"},{\"id\":\"1822\"},{\"id\":\"1823\"}]},\"id\":\"1772\",\"type\":\"DatetimeTicker\"},{\"attributes\":{},\"id\":\"1809\",\"type\":\"UnionRenderers\"},{\"attributes\":{\"months\":[0,6]},\"id\":\"1822\",\"type\":\"MonthsTicker\"},{\"attributes\":{\"margin\":[5,5,5,5],\"name\":\"HSpacer02249\",\"sizing_mode\":\"stretch_width\"},\"id\":\"1758\",\"type\":\"Spacer\"},{\"attributes\":{\"months\":[0,1,2,3,4,5,6,7,8,9,10,11]},\"id\":\"1819\",\"type\":\"MonthsTicker\"},{\"attributes\":{},\"id\":\"1823\",\"type\":\"YearsTicker\"},{\"attributes\":{\"axis\":{\"id\":\"1771\"},\"grid_line_color\":null,\"ticker\":null},\"id\":\"1774\",\"type\":\"Grid\"},{\"attributes\":{\"axis\":{\"id\":\"1775\"},\"dimension\":1,\"grid_line_color\":null,\"ticker\":null},\"id\":\"1778\",\"type\":\"Grid\"},{\"attributes\":{\"active_drag\":\"auto\",\"active_inspect\":\"auto\",\"active_multi\":null,\"active_scroll\":\"auto\",\"active_tap\":\"auto\",\"tools\":[{\"id\":\"1761\"},{\"id\":\"1779\"},{\"id\":\"1780\"},{\"id\":\"1781\"},{\"id\":\"1782\"},{\"id\":\"1783\"}]},\"id\":\"1785\",\"type\":\"Toolbar\"},{\"attributes\":{\"end\":1613433600000.0,\"reset_end\":1613433600000.0,\"reset_start\":1609718400000.0,\"start\":1609718400000.0,\"tags\":[[[\"Date\",\"Date\",null]]]},\"id\":\"1759\",\"type\":\"Range1d\"},{\"attributes\":{\"days\":[1,2,3,4,5,6,7,8,9,10,11,12,13,14,15,16,17,18,19,20,21,22,23,24,25,26,27,28,29,30,31]},\"id\":\"1815\",\"type\":\"DaysTicker\"},{\"attributes\":{\"axis_label\":\"Close\",\"bounds\":\"auto\",\"formatter\":{\"id\":\"1802\"},\"major_label_orientation\":\"horizontal\",\"ticker\":{\"id\":\"1776\"}},\"id\":\"1775\",\"type\":\"LinearAxis\"},{\"attributes\":{\"below\":[{\"id\":\"1771\"}],\"center\":[{\"id\":\"1774\"},{\"id\":\"1778\"}],\"left\":[{\"id\":\"1775\"}],\"margin\":[5,5,5,5],\"min_border_bottom\":10,\"min_border_left\":10,\"min_border_right\":10,\"min_border_top\":10,\"plot_height\":300,\"plot_width\":700,\"renderers\":[{\"id\":\"1798\"}],\"sizing_mode\":\"fixed\",\"title\":{\"id\":\"1763\"},\"toolbar\":{\"id\":\"1785\"},\"x_range\":{\"id\":\"1759\"},\"x_scale\":{\"id\":\"1767\"},\"y_range\":{\"id\":\"1760\"},\"y_scale\":{\"id\":\"1769\"}},\"id\":\"1762\",\"subtype\":\"Figure\",\"type\":\"Plot\"},{\"attributes\":{\"days\":[1,4,7,10,13,16,19,22,25,28]},\"id\":\"1816\",\"type\":\"DaysTicker\"},{\"attributes\":{\"months\":[0,4,8]},\"id\":\"1821\",\"type\":\"MonthsTicker\"},{\"attributes\":{\"data_source\":{\"id\":\"1792\"},\"glyph\":{\"id\":\"1795\"},\"hover_glyph\":null,\"muted_glyph\":{\"id\":\"1797\"},\"nonselection_glyph\":{\"id\":\"1796\"},\"selection_glyph\":null,\"view\":{\"id\":\"1799\"}},\"id\":\"1798\",\"type\":\"GlyphRenderer\"},{\"attributes\":{},\"id\":\"1800\",\"type\":\"DatetimeTickFormatter\"},{\"attributes\":{\"end\":2.4451237828995778,\"reset_end\":2.4451237828995778,\"reset_start\":0.9772447589340869,\"start\":0.9772447589340869,\"tags\":[[[\"Close\",\"Close\",null]]]},\"id\":\"1760\",\"type\":\"Range1d\"},{\"attributes\":{\"days\":[1,8,15,22]},\"id\":\"1817\",\"type\":\"DaysTicker\"},{\"attributes\":{\"bottom_units\":\"screen\",\"fill_alpha\":0.5,\"fill_color\":\"lightgrey\",\"left_units\":\"screen\",\"level\":\"overlay\",\"line_alpha\":1.0,\"line_color\":\"black\",\"line_dash\":[4,4],\"line_width\":2,\"right_units\":\"screen\",\"top_units\":\"screen\"},\"id\":\"1784\",\"type\":\"BoxAnnotation\"},{\"attributes\":{\"line_alpha\":0.2,\"line_color\":\"#1f77b3\",\"line_width\":2,\"x\":{\"field\":\"Date\"},\"y\":{\"field\":\"Close\"}},\"id\":\"1797\",\"type\":\"Line\"},{\"attributes\":{\"line_alpha\":0.1,\"line_color\":\"#1f77b3\",\"line_width\":2,\"x\":{\"field\":\"Date\"},\"y\":{\"field\":\"Close\"}},\"id\":\"1796\",\"type\":\"Line\"},{\"attributes\":{},\"id\":\"1793\",\"type\":\"Selection\"},{\"attributes\":{\"days\":[1,15]},\"id\":\"1818\",\"type\":\"DaysTicker\"},{\"attributes\":{\"source\":{\"id\":\"1792\"}},\"id\":\"1799\",\"type\":\"CDSView\"},{\"attributes\":{},\"id\":\"1767\",\"type\":\"LinearScale\"},{\"attributes\":{\"line_color\":\"#1f77b3\",\"line_width\":2,\"x\":{\"field\":\"Date\"},\"y\":{\"field\":\"Close\"}},\"id\":\"1795\",\"type\":\"Line\"},{\"attributes\":{},\"id\":\"1779\",\"type\":\"SaveTool\"},{\"attributes\":{},\"id\":\"1780\",\"type\":\"PanTool\"},{\"attributes\":{},\"id\":\"1802\",\"type\":\"BasicTickFormatter\"},{\"attributes\":{},\"id\":\"1781\",\"type\":\"WheelZoomTool\"},{\"attributes\":{\"margin\":[5,5,5,5],\"name\":\"HSpacer02250\",\"sizing_mode\":\"stretch_width\"},\"id\":\"1844\",\"type\":\"Spacer\"},{\"attributes\":{\"data\":{\"Close\":{\"__ndarray__\":\"AAAAAAAA+H9Q1mqg1JfxP6qMxvHc9vI/n5wVL3ol9D+oN2WdzC3zP30lQDwp5vM/hmdSVaS59j+jH1+WUw31P8fdMs1QDvY/tGGNlkZe9D+BdIR1H77zP2WRlP6lFfQ/dnqFqcEx9z/2NE5e73L3P0JvWWYHgPg/vXUMihJx9z/kOya2WYj3P17VPVdAsvc/50Nsq6Oe9j9HgEpoH435P5VDvPIqc/s/AOod9K8B/T+Xh4EyPY37P64bLXDAXfs/vU2bXoSk+z9MdlFMPjD9Px4OORl2jgBAd2d7FOBMAUAc3NpxGJUCQLANadIwyABA\",\"dtype\":\"float64\",\"order\":\"little\",\"shape\":[30]},\"Date\":{\"__ndarray__\":\"AABAGKtsd0IAAAB+/Wx3QgAAwONPbXdCAACASaJtd0IAAECv9G13QgAAgODrbndCAABARj5vd0IAAACskG93QgAAwBHjb3dCAACAdzVwd0IAAIAOf3F3QgAAQHTRcXdCAAAA2iNyd0IAAMA/dnJ3QgAAAHFtc3dCAADA1r9zd0IAAIA8EnR3QgAAQKJkdHdCAAAACLd0d0IAAEA5rnV3QgAAAJ8AdndCAADABFN2d0IAAIBqpXZ3QgAAQND3dndCAACAAe93d0IAAEBnQXh3QgAAAM2TeHdCAADAMuZ4d0IAAICYOHl3QgAAgC+CendC\",\"dtype\":\"float64\",\"order\":\"little\",\"shape\":[30]}},\"selected\":{\"id\":\"1793\"},\"selection_policy\":{\"id\":\"1809\"}},\"id\":\"1792\",\"type\":\"ColumnDataSource\"},{\"attributes\":{},\"id\":\"1776\",\"type\":\"BasicTicker\"},{\"attributes\":{\"overlay\":{\"id\":\"1784\"}},\"id\":\"1782\",\"type\":\"BoxZoomTool\"},{\"attributes\":{\"callback\":null,\"formatters\":{\"@{Date}\":\"datetime\"},\"renderers\":[{\"id\":\"1798\"}],\"tags\":[\"hv_created\"],\"tooltips\":[[\"Date\",\"@{Date}{%F %T}\"],[\"Close\",\"@{Close}\"]]},\"id\":\"1761\",\"type\":\"HoverTool\"},{\"attributes\":{\"base\":24,\"mantissas\":[1,2,4,6,8,12],\"max_interval\":43200000.0,\"min_interval\":3600000.0,\"num_minor_ticks\":0},\"id\":\"1814\",\"type\":\"AdaptiveTicker\"},{\"attributes\":{\"children\":[{\"id\":\"1758\"},{\"id\":\"1762\"},{\"id\":\"1844\"}],\"margin\":[0,0,0,0],\"name\":\"Row02245\",\"tags\":[\"embedded\"]},\"id\":\"1757\",\"type\":\"Row\"},{\"attributes\":{\"base\":60,\"mantissas\":[1,2,5,10,15,20,30],\"max_interval\":1800000.0,\"min_interval\":1000.0,\"num_minor_ticks\":0},\"id\":\"1813\",\"type\":\"AdaptiveTicker\"},{\"attributes\":{\"axis_label\":\"Date\",\"bounds\":\"auto\",\"formatter\":{\"id\":\"1800\"},\"major_label_orientation\":\"horizontal\",\"ticker\":{\"id\":\"1772\"}},\"id\":\"1771\",\"type\":\"DatetimeAxis\"},{\"attributes\":{},\"id\":\"1783\",\"type\":\"ResetTool\"},{\"attributes\":{\"mantissas\":[1,2,5],\"max_interval\":500.0,\"num_minor_ticks\":0},\"id\":\"1812\",\"type\":\"AdaptiveTicker\"},{\"attributes\":{},\"id\":\"1769\",\"type\":\"LinearScale\"},{\"attributes\":{\"months\":[0,2,4,6,8,10]},\"id\":\"1820\",\"type\":\"MonthsTicker\"},{\"attributes\":{\"text\":\"\",\"text_color\":{\"value\":\"black\"},\"text_font_size\":{\"value\":\"12pt\"}},\"id\":\"1763\",\"type\":\"Title\"}],\"root_ids\":[\"1757\"]},\"title\":\"Bokeh Application\",\"version\":\"2.2.3\"}};\n",
       "    var render_items = [{\"docid\":\"b5da7dd7-b798-4f14-b1d2-687f16de125d\",\"root_ids\":[\"1757\"],\"roots\":{\"1757\":\"79f28381-58ec-4486-8c1b-6037dc2b9ec8\"}}];\n",
       "    root.Bokeh.embed.embed_items_notebook(docs_json, render_items);\n",
       "  }\n",
       "  if (root.Bokeh !== undefined && root.Bokeh.Panel !== undefined) {\n",
       "    embed_document(root);\n",
       "  } else {\n",
       "    var attempts = 0;\n",
       "    var timer = setInterval(function(root) {\n",
       "      if (root.Bokeh !== undefined && root.Bokeh.Panel !== undefined) {\n",
       "        clearInterval(timer);\n",
       "        embed_document(root);\n",
       "      } else if (document.readyState == \"complete\") {\n",
       "        attempts++;\n",
       "        if (attempts > 100) {\n",
       "          clearInterval(timer);\n",
       "          console.log(\"Bokeh: ERROR: Unable to run BokehJS code because BokehJS library is missing\");\n",
       "        }\n",
       "      }\n",
       "    }, 10, root)\n",
       "  }\n",
       "})(window);</script>"
      ],
      "text/plain": [
       ":Curve   [Date]   (Close)"
      ]
     },
     "execution_count": 37,
     "metadata": {
      "application/vnd.holoviews_exec.v0+json": {
       "id": "1757"
      }
     },
     "output_type": "execute_result"
    }
   ],
   "source": [
    "# Calculate and plot the Cumulative Returns of UPST stock.\n",
    "upst_cumulative_returns = (upst_daily_returns + 1).cumprod()\n",
    "plot_upst_cumulative_returns = upst_cumulative_returns.hvplot()\n",
    "plot_upst_cumulative_returns"
   ]
  },
  {
   "cell_type": "code",
   "execution_count": 38,
   "metadata": {},
   "outputs": [
    {
     "data": {
      "text/html": [
       "<div>\n",
       "<style scoped>\n",
       "    .dataframe tbody tr th:only-of-type {\n",
       "        vertical-align: middle;\n",
       "    }\n",
       "\n",
       "    .dataframe tbody tr th {\n",
       "        vertical-align: top;\n",
       "    }\n",
       "\n",
       "    .dataframe thead th {\n",
       "        text-align: right;\n",
       "    }\n",
       "</style>\n",
       "<table border=\"1\" class=\"dataframe\">\n",
       "  <thead>\n",
       "    <tr style=\"text-align: right;\">\n",
       "      <th></th>\n",
       "      <th>UPST</th>\n",
       "      <th>SNOW</th>\n",
       "      <th>DASH</th>\n",
       "      <th>PRCH</th>\n",
       "      <th>ABNB</th>\n",
       "    </tr>\n",
       "    <tr>\n",
       "      <th>Date</th>\n",
       "      <th></th>\n",
       "      <th></th>\n",
       "      <th></th>\n",
       "      <th></th>\n",
       "      <th></th>\n",
       "    </tr>\n",
       "  </thead>\n",
       "  <tbody>\n",
       "    <tr>\n",
       "      <th>2021-01-04</th>\n",
       "      <td>NaN</td>\n",
       "      <td>NaN</td>\n",
       "      <td>NaN</td>\n",
       "      <td>NaN</td>\n",
       "      <td>NaN</td>\n",
       "    </tr>\n",
       "    <tr>\n",
       "      <th>2021-01-05</th>\n",
       "      <td>1.099568</td>\n",
       "      <td>1.020091</td>\n",
       "      <td>1.037646</td>\n",
       "      <td>0.995512</td>\n",
       "      <td>1.065756</td>\n",
       "    </tr>\n",
       "    <tr>\n",
       "      <th>2021-01-06</th>\n",
       "      <td>1.185269</td>\n",
       "      <td>0.963269</td>\n",
       "      <td>1.005891</td>\n",
       "      <td>1.000000</td>\n",
       "      <td>1.026015</td>\n",
       "    </tr>\n",
       "    <tr>\n",
       "      <th>2021-01-07</th>\n",
       "      <td>1.259150</td>\n",
       "      <td>1.093301</td>\n",
       "      <td>1.097564</td>\n",
       "      <td>0.970830</td>\n",
       "      <td>1.087100</td>\n",
       "    </tr>\n",
       "    <tr>\n",
       "      <th>2021-01-08</th>\n",
       "      <td>1.198681</td>\n",
       "      <td>1.078565</td>\n",
       "      <td>1.121417</td>\n",
       "      <td>0.979058</td>\n",
       "      <td>1.076321</td>\n",
       "    </tr>\n",
       "  </tbody>\n",
       "</table>\n",
       "</div>"
      ],
      "text/plain": [
       "                UPST      SNOW      DASH      PRCH      ABNB\n",
       "Date                                                        \n",
       "2021-01-04       NaN       NaN       NaN       NaN       NaN\n",
       "2021-01-05  1.099568  1.020091  1.037646  0.995512  1.065756\n",
       "2021-01-06  1.185269  0.963269  1.005891  1.000000  1.026015\n",
       "2021-01-07  1.259150  1.093301  1.097564  0.970830  1.087100\n",
       "2021-01-08  1.198681  1.078565  1.121417  0.979058  1.076321"
      ]
     },
     "execution_count": 38,
     "metadata": {},
     "output_type": "execute_result"
    }
   ],
   "source": [
    "# Combine Cumulative Returns of the 5 stocks onto 1 Dataframe\n",
    "merged_cum_returns = pd.concat([upst_cumulative_returns, snow_cumulative_returns, dash_cumulative_returns, prch_cumulative_returns, abnb_cumulative_returns], axis=\"columns\", join=\"inner\")\n",
    "merged_cum_returns.columns = ['UPST', 'SNOW', 'DASH', 'PRCH', 'ABNB']\n",
    "merged_cum_returns.head()"
   ]
  },
  {
   "cell_type": "code",
   "execution_count": 39,
   "metadata": {},
   "outputs": [
    {
     "data": {},
     "metadata": {},
     "output_type": "display_data"
    },
    {
     "data": {
      "application/vnd.holoviews_exec.v0+json": "",
      "text/html": [
       "<div id='1946'>\n",
       "\n",
       "\n",
       "\n",
       "\n",
       "\n",
       "  <div class=\"bk-root\" id=\"810cd9d5-41d5-4162-b6ec-cde30ab9b533\" data-root-id=\"1946\"></div>\n",
       "</div>\n",
       "<script type=\"application/javascript\">(function(root) {\n",
       "  function embed_document(root) {\n",
       "    var docs_json = {\"c2086c05-4d38-49df-9941-6984d1739dcc\":{\"roots\":{\"references\":[{\"attributes\":{\"data_source\":{\"id\":\"2019\"},\"glyph\":{\"id\":\"2022\"},\"hover_glyph\":null,\"muted_glyph\":{\"id\":\"2024\"},\"nonselection_glyph\":{\"id\":\"2023\"},\"selection_glyph\":null,\"view\":{\"id\":\"2026\"}},\"id\":\"2025\",\"type\":\"GlyphRenderer\"},{\"attributes\":{\"label\":{\"value\":\"UPST\"},\"renderers\":[{\"id\":\"1995\"}]},\"id\":\"2018\",\"type\":\"LegendItem\"},{\"attributes\":{\"data\":{\"Date\":{\"__ndarray__\":\"AABAGKtsd0IAAAB+/Wx3QgAAwONPbXdCAACASaJtd0IAAECv9G13QgAAgODrbndCAABARj5vd0IAAACskG93QgAAwBHjb3dCAACAdzVwd0IAAIAOf3F3QgAAQHTRcXdCAAAA2iNyd0IAAMA/dnJ3QgAAAHFtc3dCAADA1r9zd0IAAIA8EnR3QgAAQKJkdHdCAAAACLd0d0IAAEA5rnV3QgAAAJ8AdndCAADABFN2d0IAAIBqpXZ3QgAAQND3dndCAACAAe93d0IAAEBnQXh3QgAAAM2TeHdCAADAMuZ4d0IAAICYOHl3QgAAgC+CendC\",\"dtype\":\"float64\",\"order\":\"little\",\"shape\":[30]},\"Variable\":[\"DASH\",\"DASH\",\"DASH\",\"DASH\",\"DASH\",\"DASH\",\"DASH\",\"DASH\",\"DASH\",\"DASH\",\"DASH\",\"DASH\",\"DASH\",\"DASH\",\"DASH\",\"DASH\",\"DASH\",\"DASH\",\"DASH\",\"DASH\",\"DASH\",\"DASH\",\"DASH\",\"DASH\",\"DASH\",\"DASH\",\"DASH\",\"DASH\",\"DASH\",\"DASH\"],\"value\":{\"__ndarray__\":\"AAAAAAAA+H8roWMGM5rwP6E051ghGPA/4es2yZ+P8T/0b5CpUvHxPx0mDj9gMvM/q0boUMQR9j+dzLQZoML2P8z/seOI0vc/lmmbgVaD9T/2mlEpstj2P6bNw8pQx/U/M17Fg2Xx9T/OWc6cDxL2P9QSqT94DPY/KT2MdRnJ9j+zGD9rjDH2P/G7j6LBIPU/0HJKFG839j/iIQHdovn1P+6iEyti+/Q//hFFCADC9D8VJBVpfcP1P1hg5bQg1fQ/mBhXtU1l9D/RHauZ/pT1P7GPooaZu/g/4Zhk+K+D+D9grcIt4VT3P7SzJ5KcY/g/\",\"dtype\":\"float64\",\"order\":\"little\",\"shape\":[30]}},\"selected\":{\"id\":\"2051\"},\"selection_policy\":{\"id\":\"2067\"}},\"id\":\"2050\",\"type\":\"ColumnDataSource\"},{\"attributes\":{\"click_policy\":\"mute\",\"items\":[{\"id\":\"2018\"},{\"id\":\"2049\"},{\"id\":\"2082\"},{\"id\":\"2117\"},{\"id\":\"2154\"}],\"location\":[0,0],\"title\":\"Variable\"},\"id\":\"2017\",\"type\":\"Legend\"},{\"attributes\":{},\"id\":\"2067\",\"type\":\"UnionRenderers\"},{\"attributes\":{\"below\":[{\"id\":\"1964\"}],\"center\":[{\"id\":\"1967\"},{\"id\":\"1971\"}],\"left\":[{\"id\":\"1968\"}],\"margin\":[5,5,5,5],\"min_border_bottom\":10,\"min_border_left\":10,\"min_border_right\":10,\"min_border_top\":10,\"plot_height\":300,\"plot_width\":700,\"renderers\":[{\"id\":\"1995\"},{\"id\":\"2025\"},{\"id\":\"2056\"},{\"id\":\"2089\"},{\"id\":\"2124\"}],\"right\":[{\"id\":\"2017\"}],\"sizing_mode\":\"fixed\",\"title\":{\"id\":\"1956\"},\"toolbar\":{\"id\":\"1978\"},\"x_range\":{\"id\":\"1948\"},\"x_scale\":{\"id\":\"1960\"},\"y_range\":{\"id\":\"1949\"},\"y_scale\":{\"id\":\"1962\"}},\"id\":\"1955\",\"subtype\":\"Figure\",\"type\":\"Plot\"},{\"attributes\":{},\"id\":\"2016\",\"type\":\"YearsTicker\"},{\"attributes\":{\"bottom_units\":\"screen\",\"fill_alpha\":0.5,\"fill_color\":\"lightgrey\",\"left_units\":\"screen\",\"level\":\"overlay\",\"line_alpha\":1.0,\"line_color\":\"black\",\"line_dash\":[4,4],\"line_width\":2,\"right_units\":\"screen\",\"top_units\":\"screen\"},\"id\":\"1977\",\"type\":\"BoxAnnotation\"},{\"attributes\":{\"line_color\":\"#d62628\",\"line_width\":2,\"x\":{\"field\":\"Date\"},\"y\":{\"field\":\"value\"}},\"id\":\"2086\",\"type\":\"Line\"},{\"attributes\":{\"line_alpha\":0.1,\"line_color\":\"#d62628\",\"line_width\":2,\"x\":{\"field\":\"Date\"},\"y\":{\"field\":\"value\"}},\"id\":\"2087\",\"type\":\"Line\"},{\"attributes\":{\"base\":60,\"mantissas\":[1,2,5,10,15,20,30],\"max_interval\":1800000.0,\"min_interval\":1000.0,\"num_minor_ticks\":0},\"id\":\"2006\",\"type\":\"AdaptiveTicker\"},{\"attributes\":{\"data_source\":{\"id\":\"2083\"},\"glyph\":{\"id\":\"2086\"},\"hover_glyph\":null,\"muted_glyph\":{\"id\":\"2088\"},\"nonselection_glyph\":{\"id\":\"2087\"},\"selection_glyph\":null,\"view\":{\"id\":\"2090\"}},\"id\":\"2089\",\"type\":\"GlyphRenderer\"},{\"attributes\":{\"mantissas\":[1,2,5],\"max_interval\":500.0,\"num_minor_ticks\":0},\"id\":\"2005\",\"type\":\"AdaptiveTicker\"},{\"attributes\":{},\"id\":\"2084\",\"type\":\"Selection\"},{\"attributes\":{\"months\":[0,6]},\"id\":\"2015\",\"type\":\"MonthsTicker\"},{\"attributes\":{\"source\":{\"id\":\"2083\"}},\"id\":\"2090\",\"type\":\"CDSView\"},{\"attributes\":{\"base\":24,\"mantissas\":[1,2,4,6,8,12],\"max_interval\":43200000.0,\"min_interval\":3600000.0,\"num_minor_ticks\":0},\"id\":\"2007\",\"type\":\"AdaptiveTicker\"},{\"attributes\":{\"line_alpha\":0.2,\"line_color\":\"#d62628\",\"line_width\":2,\"x\":{\"field\":\"Date\"},\"y\":{\"field\":\"value\"}},\"id\":\"2088\",\"type\":\"Line\"},{\"attributes\":{},\"id\":\"1969\",\"type\":\"BasicTicker\"},{\"attributes\":{\"data\":{\"Date\":{\"__ndarray__\":\"AABAGKtsd0IAAAB+/Wx3QgAAwONPbXdCAACASaJtd0IAAECv9G13QgAAgODrbndCAABARj5vd0IAAACskG93QgAAwBHjb3dCAACAdzVwd0IAAIAOf3F3QgAAQHTRcXdCAAAA2iNyd0IAAMA/dnJ3QgAAAHFtc3dCAADA1r9zd0IAAIA8EnR3QgAAQKJkdHdCAAAACLd0d0IAAEA5rnV3QgAAAJ8AdndCAADABFN2d0IAAIBqpXZ3QgAAQND3dndCAACAAe93d0IAAEBnQXh3QgAAAM2TeHdCAADAMuZ4d0IAAICYOHl3QgAAgC+CendC\",\"dtype\":\"float64\",\"order\":\"little\",\"shape\":[30]},\"Variable\":[\"SNOW\",\"SNOW\",\"SNOW\",\"SNOW\",\"SNOW\",\"SNOW\",\"SNOW\",\"SNOW\",\"SNOW\",\"SNOW\",\"SNOW\",\"SNOW\",\"SNOW\",\"SNOW\",\"SNOW\",\"SNOW\",\"SNOW\",\"SNOW\",\"SNOW\",\"SNOW\",\"SNOW\",\"SNOW\",\"SNOW\",\"SNOW\",\"SNOW\",\"SNOW\",\"SNOW\",\"SNOW\",\"SNOW\",\"SNOW\"],\"value\":{\"__ndarray__\":\"AAAAAAAA+H/3zW16SlLwP26XasAZ0+4/8xrXAil+8T/lt5K3zUHxPyekI6gU3PA/2tn3pW/e8D/bFgAciw3xPz5XftGud/E/Yfjc8UHA8D/wFJfEU3XwP0JbScWVNfA/I3PhX/J28D+skX5qhm3wP7XMEyajhPA/GZX+DFYo8D+a9vo1hJ3uP0GmHf6Mae8/o93gvodV7z86rvD7WTfwPxCmHILISvE/UNkmNaOE8T9QFgdveXXxP8R+9tVkmfE/tOf0i5OC8T+aJ6wzshLyP7TnrEpVl/E/nJoHwKIt8T8UK356hzjxP8RsYOcZ8PA/\",\"dtype\":\"float64\",\"order\":\"little\",\"shape\":[30]}},\"selected\":{\"id\":\"2020\"},\"selection_policy\":{\"id\":\"2034\"}},\"id\":\"2019\",\"type\":\"ColumnDataSource\"},{\"attributes\":{\"months\":[0,4,8]},\"id\":\"2014\",\"type\":\"MonthsTicker\"},{\"attributes\":{\"axis_label\":\"Date\",\"bounds\":\"auto\",\"formatter\":{\"id\":\"1985\"},\"major_label_orientation\":\"horizontal\",\"ticker\":{\"id\":\"1965\"}},\"id\":\"1964\",\"type\":\"DatetimeAxis\"},{\"attributes\":{\"line_color\":\"#9367bc\",\"line_width\":2,\"x\":{\"field\":\"Date\"},\"y\":{\"field\":\"value\"}},\"id\":\"2121\",\"type\":\"Line\"},{\"attributes\":{},\"id\":\"2020\",\"type\":\"Selection\"},{\"attributes\":{\"line_color\":\"#ff7e0e\",\"line_width\":2,\"x\":{\"field\":\"Date\"},\"y\":{\"field\":\"value\"}},\"id\":\"2022\",\"type\":\"Line\"},{\"attributes\":{\"num_minor_ticks\":5,\"tickers\":[{\"id\":\"2005\"},{\"id\":\"2006\"},{\"id\":\"2007\"},{\"id\":\"2008\"},{\"id\":\"2009\"},{\"id\":\"2010\"},{\"id\":\"2011\"},{\"id\":\"2012\"},{\"id\":\"2013\"},{\"id\":\"2014\"},{\"id\":\"2015\"},{\"id\":\"2016\"}]},\"id\":\"1965\",\"type\":\"DatetimeTicker\"},{\"attributes\":{},\"id\":\"1962\",\"type\":\"LinearScale\"},{\"attributes\":{\"axis\":{\"id\":\"1964\"},\"grid_line_color\":null,\"ticker\":null},\"id\":\"1967\",\"type\":\"Grid\"},{\"attributes\":{\"data_source\":{\"id\":\"2050\"},\"glyph\":{\"id\":\"2053\"},\"hover_glyph\":null,\"muted_glyph\":{\"id\":\"2055\"},\"nonselection_glyph\":{\"id\":\"2054\"},\"selection_glyph\":null,\"view\":{\"id\":\"2057\"}},\"id\":\"2056\",\"type\":\"GlyphRenderer\"},{\"attributes\":{\"axis\":{\"id\":\"1968\"},\"dimension\":1,\"grid_line_color\":null,\"ticker\":null},\"id\":\"1971\",\"type\":\"Grid\"},{\"attributes\":{\"line_alpha\":0.2,\"line_color\":\"#9367bc\",\"line_width\":2,\"x\":{\"field\":\"Date\"},\"y\":{\"field\":\"value\"}},\"id\":\"2123\",\"type\":\"Line\"},{\"attributes\":{\"axis_label\":\"Cumulative Return\",\"bounds\":\"auto\",\"formatter\":{\"id\":\"1987\"},\"major_label_orientation\":\"horizontal\",\"ticker\":{\"id\":\"1969\"}},\"id\":\"1968\",\"type\":\"LinearAxis\"},{\"attributes\":{\"label\":{\"value\":\"SNOW\"},\"renderers\":[{\"id\":\"2025\"}]},\"id\":\"2049\",\"type\":\"LegendItem\"},{\"attributes\":{\"margin\":[5,5,5,5],\"name\":\"HSpacer02523\",\"sizing_mode\":\"stretch_width\"},\"id\":\"2407\",\"type\":\"Spacer\"},{\"attributes\":{\"line_alpha\":0.1,\"line_color\":\"#ff7e0e\",\"line_width\":2,\"x\":{\"field\":\"Date\"},\"y\":{\"field\":\"value\"}},\"id\":\"2023\",\"type\":\"Line\"},{\"attributes\":{\"line_alpha\":0.1,\"line_color\":\"#1f77b3\",\"line_width\":2,\"x\":{\"field\":\"Date\"},\"y\":{\"field\":\"value\"}},\"id\":\"1993\",\"type\":\"Line\"},{\"attributes\":{\"data\":{\"Date\":{\"__ndarray__\":\"AABAGKtsd0IAAAB+/Wx3QgAAwONPbXdCAACASaJtd0IAAECv9G13QgAAgODrbndCAABARj5vd0IAAACskG93QgAAwBHjb3dCAACAdzVwd0IAAIAOf3F3QgAAQHTRcXdCAAAA2iNyd0IAAMA/dnJ3QgAAAHFtc3dCAADA1r9zd0IAAIA8EnR3QgAAQKJkdHdCAAAACLd0d0IAAEA5rnV3QgAAAJ8AdndCAADABFN2d0IAAIBqpXZ3QgAAQND3dndCAACAAe93d0IAAEBnQXh3QgAAAM2TeHdCAADAMuZ4d0IAAICYOHl3QgAAgC+CendC\",\"dtype\":\"float64\",\"order\":\"little\",\"shape\":[30]},\"Variable\":[\"UPST\",\"UPST\",\"UPST\",\"UPST\",\"UPST\",\"UPST\",\"UPST\",\"UPST\",\"UPST\",\"UPST\",\"UPST\",\"UPST\",\"UPST\",\"UPST\",\"UPST\",\"UPST\",\"UPST\",\"UPST\",\"UPST\",\"UPST\",\"UPST\",\"UPST\",\"UPST\",\"UPST\",\"UPST\",\"UPST\",\"UPST\",\"UPST\",\"UPST\",\"UPST\"],\"value\":{\"__ndarray__\":\"AAAAAAAA+H9Q1mqg1JfxP6qMxvHc9vI/n5wVL3ol9D+oN2WdzC3zP30lQDwp5vM/hmdSVaS59j+jH1+WUw31P8fdMs1QDvY/tGGNlkZe9D+BdIR1H77zP2WRlP6lFfQ/dnqFqcEx9z/2NE5e73L3P0JvWWYHgPg/vXUMihJx9z/kOya2WYj3P17VPVdAsvc/50Nsq6Oe9j9HgEpoH435P5VDvPIqc/s/AOod9K8B/T+Xh4EyPY37P64bLXDAXfs/vU2bXoSk+z9MdlFMPjD9Px4OORl2jgBAd2d7FOBMAUAc3NpxGJUCQLANadIwyABA\",\"dtype\":\"float64\",\"order\":\"little\",\"shape\":[30]}},\"selected\":{\"id\":\"1990\"},\"selection_policy\":{\"id\":\"2002\"}},\"id\":\"1989\",\"type\":\"ColumnDataSource\"},{\"attributes\":{\"line_alpha\":0.2,\"line_color\":\"#ff7e0e\",\"line_width\":2,\"x\":{\"field\":\"Date\"},\"y\":{\"field\":\"value\"}},\"id\":\"2024\",\"type\":\"Line\"},{\"attributes\":{\"source\":{\"id\":\"1989\"}},\"id\":\"1996\",\"type\":\"CDSView\"},{\"attributes\":{\"label\":{\"value\":\"PRCH\"},\"renderers\":[{\"id\":\"2089\"}]},\"id\":\"2117\",\"type\":\"LegendItem\"},{\"attributes\":{\"line_alpha\":0.2,\"line_color\":\"#1f77b3\",\"line_width\":2,\"x\":{\"field\":\"Date\"},\"y\":{\"field\":\"value\"}},\"id\":\"1994\",\"type\":\"Line\"},{\"attributes\":{\"label\":{\"value\":\"ABNB\"},\"renderers\":[{\"id\":\"2124\"}]},\"id\":\"2154\",\"type\":\"LegendItem\"},{\"attributes\":{\"data_source\":{\"id\":\"1989\"},\"glyph\":{\"id\":\"1992\"},\"hover_glyph\":null,\"muted_glyph\":{\"id\":\"1994\"},\"nonselection_glyph\":{\"id\":\"1993\"},\"selection_glyph\":null,\"view\":{\"id\":\"1996\"}},\"id\":\"1995\",\"type\":\"GlyphRenderer\"},{\"attributes\":{\"line_alpha\":0.1,\"line_color\":\"#9367bc\",\"line_width\":2,\"x\":{\"field\":\"Date\"},\"y\":{\"field\":\"value\"}},\"id\":\"2122\",\"type\":\"Line\"},{\"attributes\":{\"callback\":null,\"formatters\":{\"@{Date}\":\"datetime\"},\"renderers\":[{\"id\":\"1995\"},{\"id\":\"2025\"},{\"id\":\"2056\"},{\"id\":\"2089\"},{\"id\":\"2124\"}],\"tags\":[\"hv_created\"],\"tooltips\":[[\"Variable\",\"@{Variable}\"],[\"Date\",\"@{Date}{%F %T}\"],[\"value\",\"@{value}\"]]},\"id\":\"1950\",\"type\":\"HoverTool\"},{\"attributes\":{},\"id\":\"2002\",\"type\":\"UnionRenderers\"},{\"attributes\":{\"source\":{\"id\":\"2019\"}},\"id\":\"2026\",\"type\":\"CDSView\"},{\"attributes\":{},\"id\":\"2119\",\"type\":\"Selection\"},{\"attributes\":{},\"id\":\"1960\",\"type\":\"LinearScale\"},{\"attributes\":{},\"id\":\"2034\",\"type\":\"UnionRenderers\"},{\"attributes\":{\"data_source\":{\"id\":\"2118\"},\"glyph\":{\"id\":\"2121\"},\"hover_glyph\":null,\"muted_glyph\":{\"id\":\"2123\"},\"nonselection_glyph\":{\"id\":\"2122\"},\"selection_glyph\":null,\"view\":{\"id\":\"2125\"}},\"id\":\"2124\",\"type\":\"GlyphRenderer\"},{\"attributes\":{\"text\":\"Cumulative Returns for the first 30 trading days of 2021\",\"text_color\":{\"value\":\"black\"},\"text_font_size\":{\"value\":\"12pt\"}},\"id\":\"1956\",\"type\":\"Title\"},{\"attributes\":{},\"id\":\"1972\",\"type\":\"SaveTool\"},{\"attributes\":{},\"id\":\"2139\",\"type\":\"UnionRenderers\"},{\"attributes\":{\"source\":{\"id\":\"2118\"}},\"id\":\"2125\",\"type\":\"CDSView\"},{\"attributes\":{},\"id\":\"1973\",\"type\":\"PanTool\"},{\"attributes\":{},\"id\":\"1987\",\"type\":\"BasicTickFormatter\"},{\"attributes\":{\"data\":{\"Date\":{\"__ndarray__\":\"AABAGKtsd0IAAAB+/Wx3QgAAwONPbXdCAACASaJtd0IAAECv9G13QgAAgODrbndCAABARj5vd0IAAACskG93QgAAwBHjb3dCAACAdzVwd0IAAIAOf3F3QgAAQHTRcXdCAAAA2iNyd0IAAMA/dnJ3QgAAAHFtc3dCAADA1r9zd0IAAIA8EnR3QgAAQKJkdHdCAAAACLd0d0IAAEA5rnV3QgAAAJ8AdndCAADABFN2d0IAAIBqpXZ3QgAAQND3dndCAACAAe93d0IAAEBnQXh3QgAAAM2TeHdCAADAMuZ4d0IAAICYOHl3QgAAgC+CendC\",\"dtype\":\"float64\",\"order\":\"little\",\"shape\":[30]},\"Variable\":[\"ABNB\",\"ABNB\",\"ABNB\",\"ABNB\",\"ABNB\",\"ABNB\",\"ABNB\",\"ABNB\",\"ABNB\",\"ABNB\",\"ABNB\",\"ABNB\",\"ABNB\",\"ABNB\",\"ABNB\",\"ABNB\",\"ABNB\",\"ABNB\",\"ABNB\",\"ABNB\",\"ABNB\",\"ABNB\",\"ABNB\",\"ABNB\",\"ABNB\",\"ABNB\",\"ABNB\",\"ABNB\",\"ABNB\",\"ABNB\"],\"value\":{\"__ndarray__\":\"AAAAAAAA+H/LXXChVg3xP0iAk+COavA/xh8JUMNk8T8ZfBLxmzjxPyL105hVCPE/wLF3Y0l98j9WmL9jzYvzP43v7k0swfQ/3suYw5t28z9GBPADt/jzPzykcAebm/I/D5V+szq+9D9esyADgOn0P5QtVp+/afQ/vkpc2Xcp9j+6x0Ka9yP3P4ILqbRli/U/xhahtU4d9T/R5EUvaL/0P4u0lPcFmvQ/Daf5CtRa9T/VnPK1ioP2P8RDET0edfY/w6CrX9QL9z/rAxHlo/v2P2iL8QZlVvg/FRlHRt/u+D9x2Yk8a3T4PzWfmfVoIfg/\",\"dtype\":\"float64\",\"order\":\"little\",\"shape\":[30]}},\"selected\":{\"id\":\"2119\"},\"selection_policy\":{\"id\":\"2139\"}},\"id\":\"2118\",\"type\":\"ColumnDataSource\"},{\"attributes\":{},\"id\":\"1974\",\"type\":\"WheelZoomTool\"},{\"attributes\":{\"active_drag\":\"auto\",\"active_inspect\":\"auto\",\"active_multi\":null,\"active_scroll\":\"auto\",\"active_tap\":\"auto\",\"tools\":[{\"id\":\"1950\"},{\"id\":\"1972\"},{\"id\":\"1973\"},{\"id\":\"1974\"},{\"id\":\"1975\"},{\"id\":\"1976\"}]},\"id\":\"1978\",\"type\":\"Toolbar\"},{\"attributes\":{\"source\":{\"id\":\"2050\"}},\"id\":\"2057\",\"type\":\"CDSView\"},{\"attributes\":{\"overlay\":{\"id\":\"1977\"}},\"id\":\"1975\",\"type\":\"BoxZoomTool\"},{\"attributes\":{\"line_color\":\"#2ba02b\",\"line_width\":2,\"x\":{\"field\":\"Date\"},\"y\":{\"field\":\"value\"}},\"id\":\"2053\",\"type\":\"Line\"},{\"attributes\":{\"end\":1613433600000.0,\"reset_end\":1613433600000.0,\"reset_start\":1609718400000.0,\"start\":1609718400000.0,\"tags\":[[[\"Date\",\"Date\",null]]]},\"id\":\"1948\",\"type\":\"Range1d\"},{\"attributes\":{},\"id\":\"2102\",\"type\":\"UnionRenderers\"},{\"attributes\":{},\"id\":\"2051\",\"type\":\"Selection\"},{\"attributes\":{\"line_alpha\":0.1,\"line_color\":\"#2ba02b\",\"line_width\":2,\"x\":{\"field\":\"Date\"},\"y\":{\"field\":\"value\"}},\"id\":\"2054\",\"type\":\"Line\"},{\"attributes\":{},\"id\":\"1976\",\"type\":\"ResetTool\"},{\"attributes\":{\"children\":[{\"id\":\"1947\"},{\"id\":\"1955\"},{\"id\":\"2407\"}],\"margin\":[0,0,0,0],\"name\":\"Row02518\",\"tags\":[\"embedded\"]},\"id\":\"1946\",\"type\":\"Row\"},{\"attributes\":{\"days\":[1,15]},\"id\":\"2011\",\"type\":\"DaysTicker\"},{\"attributes\":{\"label\":{\"value\":\"DASH\"},\"renderers\":[{\"id\":\"2056\"}]},\"id\":\"2082\",\"type\":\"LegendItem\"},{\"attributes\":{\"margin\":[5,5,5,5],\"name\":\"HSpacer02522\",\"sizing_mode\":\"stretch_width\"},\"id\":\"1947\",\"type\":\"Spacer\"},{\"attributes\":{\"end\":2.4595682429306196,\"reset_end\":2.4595682429306196,\"reset_start\":0.8183556985926268,\"start\":0.8183556985926268,\"tags\":[[[\"value\",\"value\",null]]]},\"id\":\"1949\",\"type\":\"Range1d\"},{\"attributes\":{\"months\":[0,2,4,6,8,10]},\"id\":\"2013\",\"type\":\"MonthsTicker\"},{\"attributes\":{},\"id\":\"1985\",\"type\":\"DatetimeTickFormatter\"},{\"attributes\":{\"days\":[1,4,7,10,13,16,19,22,25,28]},\"id\":\"2009\",\"type\":\"DaysTicker\"},{\"attributes\":{\"line_color\":\"#1f77b3\",\"line_width\":2,\"x\":{\"field\":\"Date\"},\"y\":{\"field\":\"value\"}},\"id\":\"1992\",\"type\":\"Line\"},{\"attributes\":{\"months\":[0,1,2,3,4,5,6,7,8,9,10,11]},\"id\":\"2012\",\"type\":\"MonthsTicker\"},{\"attributes\":{},\"id\":\"1990\",\"type\":\"Selection\"},{\"attributes\":{\"days\":[1,8,15,22]},\"id\":\"2010\",\"type\":\"DaysTicker\"},{\"attributes\":{\"line_alpha\":0.2,\"line_color\":\"#2ba02b\",\"line_width\":2,\"x\":{\"field\":\"Date\"},\"y\":{\"field\":\"value\"}},\"id\":\"2055\",\"type\":\"Line\"},{\"attributes\":{\"data\":{\"Date\":{\"__ndarray__\":\"AABAGKtsd0IAAAB+/Wx3QgAAwONPbXdCAACASaJtd0IAAECv9G13QgAAgODrbndCAABARj5vd0IAAACskG93QgAAwBHjb3dCAACAdzVwd0IAAIAOf3F3QgAAQHTRcXdCAAAA2iNyd0IAAMA/dnJ3QgAAAHFtc3dCAADA1r9zd0IAAIA8EnR3QgAAQKJkdHdCAAAACLd0d0IAAEA5rnV3QgAAAJ8AdndCAADABFN2d0IAAIBqpXZ3QgAAQND3dndCAACAAe93d0IAAEBnQXh3QgAAAM2TeHdCAADAMuZ4d0IAAICYOHl3QgAAgC+CendC\",\"dtype\":\"float64\",\"order\":\"little\",\"shape\":[30]},\"Variable\":[\"PRCH\",\"PRCH\",\"PRCH\",\"PRCH\",\"PRCH\",\"PRCH\",\"PRCH\",\"PRCH\",\"PRCH\",\"PRCH\",\"PRCH\",\"PRCH\",\"PRCH\",\"PRCH\",\"PRCH\",\"PRCH\",\"PRCH\",\"PRCH\",\"PRCH\",\"PRCH\",\"PRCH\",\"PRCH\",\"PRCH\",\"PRCH\",\"PRCH\",\"PRCH\",\"PRCH\",\"PRCH\",\"PRCH\",\"PRCH\"],\"value\":{\"__ndarray__\":\"AAAAAAAA+H9uCHSyPNvvPwAAAAAAAPA/xDbyhwoR7z+nfB2WcFTvP0BUiPhekO4/5f1i0zAJ8D9C1qnRgSryP5qhVHZGEPM/xPQmITpQ9T8kHzGzyfv1P02NDlSRUfY/diUIOTfg9T/tRFjLqqT0P0Nz1qB42vM/QqxIYAKU8z/cSkEDZxbzPzyuAoIh2fI/h+8F6Te88T+UlLgcutTxP4z8oULE9/I/EJdDlzo+8z/D9CYhOlD1P7TE+WxOlvc/rgKCIdki+j+WjrtIVVv7Pw2TAOX0Cfw/wmwIdLI8+z8LrgvbyB/6PwUHn4Unwvo/\",\"dtype\":\"float64\",\"order\":\"little\",\"shape\":[30]}},\"selected\":{\"id\":\"2084\"},\"selection_policy\":{\"id\":\"2102\"}},\"id\":\"2083\",\"type\":\"ColumnDataSource\"},{\"attributes\":{\"days\":[1,2,3,4,5,6,7,8,9,10,11,12,13,14,15,16,17,18,19,20,21,22,23,24,25,26,27,28,29,30,31]},\"id\":\"2008\",\"type\":\"DaysTicker\"}],\"root_ids\":[\"1946\"]},\"title\":\"Bokeh Application\",\"version\":\"2.2.3\"}};\n",
       "    var render_items = [{\"docid\":\"c2086c05-4d38-49df-9941-6984d1739dcc\",\"root_ids\":[\"1946\"],\"roots\":{\"1946\":\"810cd9d5-41d5-4162-b6ec-cde30ab9b533\"}}];\n",
       "    root.Bokeh.embed.embed_items_notebook(docs_json, render_items);\n",
       "  }\n",
       "  if (root.Bokeh !== undefined && root.Bokeh.Panel !== undefined) {\n",
       "    embed_document(root);\n",
       "  } else {\n",
       "    var attempts = 0;\n",
       "    var timer = setInterval(function(root) {\n",
       "      if (root.Bokeh !== undefined && root.Bokeh.Panel !== undefined) {\n",
       "        clearInterval(timer);\n",
       "        embed_document(root);\n",
       "      } else if (document.readyState == \"complete\") {\n",
       "        attempts++;\n",
       "        if (attempts > 100) {\n",
       "          clearInterval(timer);\n",
       "          console.log(\"Bokeh: ERROR: Unable to run BokehJS code because BokehJS library is missing\");\n",
       "        }\n",
       "      }\n",
       "    }, 10, root)\n",
       "  }\n",
       "})(window);</script>"
      ],
      "text/plain": [
       ":NdOverlay   [Variable]\n",
       "   :Curve   [Date]   (value)"
      ]
     },
     "execution_count": 39,
     "metadata": {
      "application/vnd.holoviews_exec.v0+json": {
       "id": "1946"
      }
     },
     "output_type": "execute_result"
    }
   ],
   "source": [
    "# Plot the combined Cumulative Returns using HvPlot. Be sure to add a title and label both the x and y axis.\n",
    "merged_cum_returns.hvplot(title=\"Cumulative Returns for the first 30 trading days of 2021\", ylabel='Cumulative Return')"
   ]
  },
  {
   "cell_type": "code",
   "execution_count": null,
   "metadata": {},
   "outputs": [],
   "source": []
  }
 ],
 "metadata": {
  "kernelspec": {
   "display_name": "Python 3",
   "language": "python",
   "name": "python3"
  },
  "language_info": {
   "codemirror_mode": {
    "name": "ipython",
    "version": 3
   },
   "file_extension": ".py",
   "mimetype": "text/x-python",
   "name": "python",
   "nbconvert_exporter": "python",
   "pygments_lexer": "ipython3",
   "version": "3.7.9"
  }
 },
 "nbformat": 4,
 "nbformat_minor": 4
}
