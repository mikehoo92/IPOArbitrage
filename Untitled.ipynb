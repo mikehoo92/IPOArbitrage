{
 "cells": [
  {
   "cell_type": "code",
   "execution_count": 106,
   "metadata": {},
   "outputs": [],
   "source": [
    "# Import libraries and dependencies\n",
    "import pandas as pd\n",
    "from pathlib import Path\n",
    "import numpy as np\n",
    "import pandas as pd\n",
    "import hvplot.pandas\n",
    "import hvplot.streamz\n",
    "from streamz.dataframe import Random\n",
    "%matplotlib inline"
   ]
  },
  {
   "cell_type": "code",
   "execution_count": 107,
   "metadata": {},
   "outputs": [
    {
     "data": {
      "text/html": [
       "<div>\n",
       "<style scoped>\n",
       "    .dataframe tbody tr th:only-of-type {\n",
       "        vertical-align: middle;\n",
       "    }\n",
       "\n",
       "    .dataframe tbody tr th {\n",
       "        vertical-align: top;\n",
       "    }\n",
       "\n",
       "    .dataframe thead th {\n",
       "        text-align: right;\n",
       "    }\n",
       "</style>\n",
       "<table border=\"1\" class=\"dataframe\">\n",
       "  <thead>\n",
       "    <tr style=\"text-align: right;\">\n",
       "      <th></th>\n",
       "      <th>Date</th>\n",
       "      <th>Open</th>\n",
       "      <th>High</th>\n",
       "      <th>Low</th>\n",
       "      <th>Close</th>\n",
       "      <th>Adj Close</th>\n",
       "      <th>Volume</th>\n",
       "    </tr>\n",
       "  </thead>\n",
       "  <tbody>\n",
       "    <tr>\n",
       "      <th>0</th>\n",
       "      <td>2021-01-04</td>\n",
       "      <td>150.990005</td>\n",
       "      <td>151.005005</td>\n",
       "      <td>137.000000</td>\n",
       "      <td>139.149994</td>\n",
       "      <td>139.149994</td>\n",
       "      <td>6409900</td>\n",
       "    </tr>\n",
       "    <tr>\n",
       "      <th>1</th>\n",
       "      <td>2021-01-05</td>\n",
       "      <td>138.279999</td>\n",
       "      <td>149.000000</td>\n",
       "      <td>137.250000</td>\n",
       "      <td>148.300003</td>\n",
       "      <td>148.300003</td>\n",
       "      <td>5974200</td>\n",
       "    </tr>\n",
       "    <tr>\n",
       "      <th>2</th>\n",
       "      <td>2021-01-06</td>\n",
       "      <td>145.750000</td>\n",
       "      <td>148.350006</td>\n",
       "      <td>141.110001</td>\n",
       "      <td>142.770004</td>\n",
       "      <td>142.770004</td>\n",
       "      <td>4213900</td>\n",
       "    </tr>\n",
       "    <tr>\n",
       "      <th>3</th>\n",
       "      <td>2021-01-07</td>\n",
       "      <td>146.369995</td>\n",
       "      <td>154.419998</td>\n",
       "      <td>145.261002</td>\n",
       "      <td>151.270004</td>\n",
       "      <td>151.270004</td>\n",
       "      <td>4482800</td>\n",
       "    </tr>\n",
       "    <tr>\n",
       "      <th>4</th>\n",
       "      <td>2021-01-08</td>\n",
       "      <td>153.449997</td>\n",
       "      <td>155.539993</td>\n",
       "      <td>147.250000</td>\n",
       "      <td>149.770004</td>\n",
       "      <td>149.770004</td>\n",
       "      <td>4615600</td>\n",
       "    </tr>\n",
       "  </tbody>\n",
       "</table>\n",
       "</div>"
      ],
      "text/plain": [
       "         Date        Open        High         Low       Close   Adj Close  \\\n",
       "0  2021-01-04  150.990005  151.005005  137.000000  139.149994  139.149994   \n",
       "1  2021-01-05  138.279999  149.000000  137.250000  148.300003  148.300003   \n",
       "2  2021-01-06  145.750000  148.350006  141.110001  142.770004  142.770004   \n",
       "3  2021-01-07  146.369995  154.419998  145.261002  151.270004  151.270004   \n",
       "4  2021-01-08  153.449997  155.539993  147.250000  149.770004  149.770004   \n",
       "\n",
       "    Volume  \n",
       "0  6409900  \n",
       "1  5974200  \n",
       "2  4213900  \n",
       "3  4482800  \n",
       "4  4615600  "
      ]
     },
     "execution_count": 107,
     "metadata": {},
     "output_type": "execute_result"
    }
   ],
   "source": [
    "# Read in the ADNB-ABND.csv as a DataFrame\n",
    "abnb_df = pd.read_csv(\n",
    "    Path('ABNB-ABNB.csv', index_col='Date', parse_dates=True, infer_datetime_format=True)\n",
    ")\n",
    "\n",
    "# Review the DataFrame\n",
    "abnb_df.head()"
   ]
  },
  {
   "cell_type": "code",
   "execution_count": 110,
   "metadata": {},
   "outputs": [
    {
     "data": {
      "text/html": [
       "<div>\n",
       "<style scoped>\n",
       "    .dataframe tbody tr th:only-of-type {\n",
       "        vertical-align: middle;\n",
       "    }\n",
       "\n",
       "    .dataframe tbody tr th {\n",
       "        vertical-align: top;\n",
       "    }\n",
       "\n",
       "    .dataframe thead th {\n",
       "        text-align: right;\n",
       "    }\n",
       "</style>\n",
       "<table border=\"1\" class=\"dataframe\">\n",
       "  <thead>\n",
       "    <tr style=\"text-align: right;\">\n",
       "      <th></th>\n",
       "      <th>Date</th>\n",
       "      <th>Open</th>\n",
       "      <th>Close</th>\n",
       "    </tr>\n",
       "  </thead>\n",
       "  <tbody>\n",
       "    <tr>\n",
       "      <th>0</th>\n",
       "      <td>2021-01-04</td>\n",
       "      <td>150.990005</td>\n",
       "      <td>139.149994</td>\n",
       "    </tr>\n",
       "    <tr>\n",
       "      <th>1</th>\n",
       "      <td>2021-01-05</td>\n",
       "      <td>138.279999</td>\n",
       "      <td>148.300003</td>\n",
       "    </tr>\n",
       "    <tr>\n",
       "      <th>2</th>\n",
       "      <td>2021-01-06</td>\n",
       "      <td>145.750000</td>\n",
       "      <td>142.770004</td>\n",
       "    </tr>\n",
       "    <tr>\n",
       "      <th>3</th>\n",
       "      <td>2021-01-07</td>\n",
       "      <td>146.369995</td>\n",
       "      <td>151.270004</td>\n",
       "    </tr>\n",
       "    <tr>\n",
       "      <th>4</th>\n",
       "      <td>2021-01-08</td>\n",
       "      <td>153.449997</td>\n",
       "      <td>149.770004</td>\n",
       "    </tr>\n",
       "  </tbody>\n",
       "</table>\n",
       "</div>"
      ],
      "text/plain": [
       "         Date        Open       Close\n",
       "0  2021-01-04  150.990005  139.149994\n",
       "1  2021-01-05  138.279999  148.300003\n",
       "2  2021-01-06  145.750000  142.770004\n",
       "3  2021-01-07  146.369995  151.270004\n",
       "4  2021-01-08  153.449997  149.770004"
      ]
     },
     "execution_count": 110,
     "metadata": {},
     "output_type": "execute_result"
    }
   ],
   "source": [
    "abnb_df.drop(columns=['High', 'Low', 'Adj Close', 'Volume'], inplace=True)\n",
    "abnb_df.head()"
   ]
  },
  {
   "cell_type": "code",
   "execution_count": 111,
   "metadata": {},
   "outputs": [
    {
     "data": {
      "text/html": [
       "<div>\n",
       "<style scoped>\n",
       "    .dataframe tbody tr th:only-of-type {\n",
       "        vertical-align: middle;\n",
       "    }\n",
       "\n",
       "    .dataframe tbody tr th {\n",
       "        vertical-align: top;\n",
       "    }\n",
       "\n",
       "    .dataframe thead th {\n",
       "        text-align: right;\n",
       "    }\n",
       "</style>\n",
       "<table border=\"1\" class=\"dataframe\">\n",
       "  <thead>\n",
       "    <tr style=\"text-align: right;\">\n",
       "      <th></th>\n",
       "      <th>Date</th>\n",
       "      <th>Open</th>\n",
       "      <th>High</th>\n",
       "      <th>Low</th>\n",
       "      <th>Close</th>\n",
       "      <th>Adj Close</th>\n",
       "      <th>Volume</th>\n",
       "    </tr>\n",
       "  </thead>\n",
       "  <tbody>\n",
       "    <tr>\n",
       "      <th>0</th>\n",
       "      <td>2021-01-04</td>\n",
       "      <td>142.500000</td>\n",
       "      <td>143.619995</td>\n",
       "      <td>137.169998</td>\n",
       "      <td>139.190002</td>\n",
       "      <td>139.190002</td>\n",
       "      <td>2026400</td>\n",
       "    </tr>\n",
       "    <tr>\n",
       "      <th>1</th>\n",
       "      <td>2021-01-05</td>\n",
       "      <td>138.000000</td>\n",
       "      <td>146.119995</td>\n",
       "      <td>137.835007</td>\n",
       "      <td>144.429993</td>\n",
       "      <td>144.429993</td>\n",
       "      <td>1031800</td>\n",
       "    </tr>\n",
       "    <tr>\n",
       "      <th>2</th>\n",
       "      <td>2021-01-06</td>\n",
       "      <td>141.270004</td>\n",
       "      <td>142.000000</td>\n",
       "      <td>138.210007</td>\n",
       "      <td>140.009995</td>\n",
       "      <td>140.009995</td>\n",
       "      <td>1931400</td>\n",
       "    </tr>\n",
       "    <tr>\n",
       "      <th>3</th>\n",
       "      <td>2021-01-07</td>\n",
       "      <td>140.000000</td>\n",
       "      <td>154.639999</td>\n",
       "      <td>139.434998</td>\n",
       "      <td>152.770004</td>\n",
       "      <td>152.770004</td>\n",
       "      <td>3215200</td>\n",
       "    </tr>\n",
       "    <tr>\n",
       "      <th>4</th>\n",
       "      <td>2021-01-08</td>\n",
       "      <td>152.000000</td>\n",
       "      <td>158.309998</td>\n",
       "      <td>147.300003</td>\n",
       "      <td>156.089996</td>\n",
       "      <td>156.089996</td>\n",
       "      <td>2548700</td>\n",
       "    </tr>\n",
       "  </tbody>\n",
       "</table>\n",
       "</div>"
      ],
      "text/plain": [
       "         Date        Open        High         Low       Close   Adj Close  \\\n",
       "0  2021-01-04  142.500000  143.619995  137.169998  139.190002  139.190002   \n",
       "1  2021-01-05  138.000000  146.119995  137.835007  144.429993  144.429993   \n",
       "2  2021-01-06  141.270004  142.000000  138.210007  140.009995  140.009995   \n",
       "3  2021-01-07  140.000000  154.639999  139.434998  152.770004  152.770004   \n",
       "4  2021-01-08  152.000000  158.309998  147.300003  156.089996  156.089996   \n",
       "\n",
       "    Volume  \n",
       "0  2026400  \n",
       "1  1031800  \n",
       "2  1931400  \n",
       "3  3215200  \n",
       "4  2548700  "
      ]
     },
     "execution_count": 111,
     "metadata": {},
     "output_type": "execute_result"
    }
   ],
   "source": [
    "# Read in the DASH-DASH.csv as a DataFrame\n",
    "dash_df = pd.read_csv(\n",
    "    Path('DASH-DASH.csv')\n",
    ")\n",
    "\n",
    "# Review the DataFrame\n",
    "dash_df.head()"
   ]
  },
  {
   "cell_type": "code",
   "execution_count": 113,
   "metadata": {},
   "outputs": [
    {
     "data": {
      "text/html": [
       "<div>\n",
       "<style scoped>\n",
       "    .dataframe tbody tr th:only-of-type {\n",
       "        vertical-align: middle;\n",
       "    }\n",
       "\n",
       "    .dataframe tbody tr th {\n",
       "        vertical-align: top;\n",
       "    }\n",
       "\n",
       "    .dataframe thead th {\n",
       "        text-align: right;\n",
       "    }\n",
       "</style>\n",
       "<table border=\"1\" class=\"dataframe\">\n",
       "  <thead>\n",
       "    <tr style=\"text-align: right;\">\n",
       "      <th></th>\n",
       "      <th>Date</th>\n",
       "      <th>Open</th>\n",
       "      <th>Close</th>\n",
       "    </tr>\n",
       "  </thead>\n",
       "  <tbody>\n",
       "    <tr>\n",
       "      <th>0</th>\n",
       "      <td>2021-01-04</td>\n",
       "      <td>142.500000</td>\n",
       "      <td>139.190002</td>\n",
       "    </tr>\n",
       "    <tr>\n",
       "      <th>1</th>\n",
       "      <td>2021-01-05</td>\n",
       "      <td>138.000000</td>\n",
       "      <td>144.429993</td>\n",
       "    </tr>\n",
       "    <tr>\n",
       "      <th>2</th>\n",
       "      <td>2021-01-06</td>\n",
       "      <td>141.270004</td>\n",
       "      <td>140.009995</td>\n",
       "    </tr>\n",
       "    <tr>\n",
       "      <th>3</th>\n",
       "      <td>2021-01-07</td>\n",
       "      <td>140.000000</td>\n",
       "      <td>152.770004</td>\n",
       "    </tr>\n",
       "    <tr>\n",
       "      <th>4</th>\n",
       "      <td>2021-01-08</td>\n",
       "      <td>152.000000</td>\n",
       "      <td>156.089996</td>\n",
       "    </tr>\n",
       "  </tbody>\n",
       "</table>\n",
       "</div>"
      ],
      "text/plain": [
       "         Date        Open       Close\n",
       "0  2021-01-04  142.500000  139.190002\n",
       "1  2021-01-05  138.000000  144.429993\n",
       "2  2021-01-06  141.270004  140.009995\n",
       "3  2021-01-07  140.000000  152.770004\n",
       "4  2021-01-08  152.000000  156.089996"
      ]
     },
     "execution_count": 113,
     "metadata": {},
     "output_type": "execute_result"
    }
   ],
   "source": [
    "dash_df.drop(columns=['High', 'Low', 'Adj Close', 'Volume'], inplace=True)\n",
    "dash_df.head()"
   ]
  },
  {
   "cell_type": "code",
   "execution_count": 114,
   "metadata": {},
   "outputs": [
    {
     "data": {
      "text/html": [
       "<div>\n",
       "<style scoped>\n",
       "    .dataframe tbody tr th:only-of-type {\n",
       "        vertical-align: middle;\n",
       "    }\n",
       "\n",
       "    .dataframe tbody tr th {\n",
       "        vertical-align: top;\n",
       "    }\n",
       "\n",
       "    .dataframe thead th {\n",
       "        text-align: right;\n",
       "    }\n",
       "</style>\n",
       "<table border=\"1\" class=\"dataframe\">\n",
       "  <thead>\n",
       "    <tr style=\"text-align: right;\">\n",
       "      <th></th>\n",
       "      <th>Date</th>\n",
       "      <th>Open</th>\n",
       "      <th>High</th>\n",
       "      <th>Low</th>\n",
       "      <th>Close</th>\n",
       "      <th>Adj Close</th>\n",
       "      <th>Volume</th>\n",
       "    </tr>\n",
       "  </thead>\n",
       "  <tbody>\n",
       "    <tr>\n",
       "      <th>0</th>\n",
       "      <td>2021-01-04</td>\n",
       "      <td>14.38</td>\n",
       "      <td>14.38</td>\n",
       "      <td>13.06</td>\n",
       "      <td>13.37</td>\n",
       "      <td>13.37</td>\n",
       "      <td>1096800</td>\n",
       "    </tr>\n",
       "    <tr>\n",
       "      <th>1</th>\n",
       "      <td>2021-01-05</td>\n",
       "      <td>13.40</td>\n",
       "      <td>13.49</td>\n",
       "      <td>12.91</td>\n",
       "      <td>13.31</td>\n",
       "      <td>13.31</td>\n",
       "      <td>1054300</td>\n",
       "    </tr>\n",
       "    <tr>\n",
       "      <th>2</th>\n",
       "      <td>2021-01-06</td>\n",
       "      <td>13.12</td>\n",
       "      <td>13.56</td>\n",
       "      <td>13.10</td>\n",
       "      <td>13.37</td>\n",
       "      <td>13.37</td>\n",
       "      <td>434300</td>\n",
       "    </tr>\n",
       "    <tr>\n",
       "      <th>3</th>\n",
       "      <td>2021-01-07</td>\n",
       "      <td>13.40</td>\n",
       "      <td>13.83</td>\n",
       "      <td>12.94</td>\n",
       "      <td>12.98</td>\n",
       "      <td>12.98</td>\n",
       "      <td>858600</td>\n",
       "    </tr>\n",
       "    <tr>\n",
       "      <th>4</th>\n",
       "      <td>2021-01-08</td>\n",
       "      <td>13.32</td>\n",
       "      <td>13.64</td>\n",
       "      <td>12.93</td>\n",
       "      <td>13.09</td>\n",
       "      <td>13.09</td>\n",
       "      <td>671200</td>\n",
       "    </tr>\n",
       "  </tbody>\n",
       "</table>\n",
       "</div>"
      ],
      "text/plain": [
       "         Date   Open   High    Low  Close  Adj Close   Volume\n",
       "0  2021-01-04  14.38  14.38  13.06  13.37      13.37  1096800\n",
       "1  2021-01-05  13.40  13.49  12.91  13.31      13.31  1054300\n",
       "2  2021-01-06  13.12  13.56  13.10  13.37      13.37   434300\n",
       "3  2021-01-07  13.40  13.83  12.94  12.98      12.98   858600\n",
       "4  2021-01-08  13.32  13.64  12.93  13.09      13.09   671200"
      ]
     },
     "execution_count": 114,
     "metadata": {},
     "output_type": "execute_result"
    }
   ],
   "source": [
    "# Read in the PRCH-PRCH.csv as a DataFrame\n",
    "prch_df = pd.read_csv(\n",
    "    Path('PRCH-PRCH.csv')\n",
    ")\n",
    "\n",
    "# Review the DataFrame\n",
    "prch_df.head()"
   ]
  },
  {
   "cell_type": "code",
   "execution_count": 116,
   "metadata": {},
   "outputs": [
    {
     "data": {
      "text/html": [
       "<div>\n",
       "<style scoped>\n",
       "    .dataframe tbody tr th:only-of-type {\n",
       "        vertical-align: middle;\n",
       "    }\n",
       "\n",
       "    .dataframe tbody tr th {\n",
       "        vertical-align: top;\n",
       "    }\n",
       "\n",
       "    .dataframe thead th {\n",
       "        text-align: right;\n",
       "    }\n",
       "</style>\n",
       "<table border=\"1\" class=\"dataframe\">\n",
       "  <thead>\n",
       "    <tr style=\"text-align: right;\">\n",
       "      <th></th>\n",
       "      <th>Date</th>\n",
       "      <th>Open</th>\n",
       "      <th>Close</th>\n",
       "    </tr>\n",
       "  </thead>\n",
       "  <tbody>\n",
       "    <tr>\n",
       "      <th>0</th>\n",
       "      <td>2021-01-04</td>\n",
       "      <td>14.38</td>\n",
       "      <td>13.37</td>\n",
       "    </tr>\n",
       "    <tr>\n",
       "      <th>1</th>\n",
       "      <td>2021-01-05</td>\n",
       "      <td>13.40</td>\n",
       "      <td>13.31</td>\n",
       "    </tr>\n",
       "    <tr>\n",
       "      <th>2</th>\n",
       "      <td>2021-01-06</td>\n",
       "      <td>13.12</td>\n",
       "      <td>13.37</td>\n",
       "    </tr>\n",
       "    <tr>\n",
       "      <th>3</th>\n",
       "      <td>2021-01-07</td>\n",
       "      <td>13.40</td>\n",
       "      <td>12.98</td>\n",
       "    </tr>\n",
       "    <tr>\n",
       "      <th>4</th>\n",
       "      <td>2021-01-08</td>\n",
       "      <td>13.32</td>\n",
       "      <td>13.09</td>\n",
       "    </tr>\n",
       "  </tbody>\n",
       "</table>\n",
       "</div>"
      ],
      "text/plain": [
       "         Date   Open  Close\n",
       "0  2021-01-04  14.38  13.37\n",
       "1  2021-01-05  13.40  13.31\n",
       "2  2021-01-06  13.12  13.37\n",
       "3  2021-01-07  13.40  12.98\n",
       "4  2021-01-08  13.32  13.09"
      ]
     },
     "execution_count": 116,
     "metadata": {},
     "output_type": "execute_result"
    }
   ],
   "source": [
    "prch_df.drop(columns=['High', 'Low', 'Adj Close', 'Volume'], inplace=True)\n",
    "prch_df.head()"
   ]
  },
  {
   "cell_type": "code",
   "execution_count": 117,
   "metadata": {},
   "outputs": [
    {
     "data": {
      "text/html": [
       "<div>\n",
       "<style scoped>\n",
       "    .dataframe tbody tr th:only-of-type {\n",
       "        vertical-align: middle;\n",
       "    }\n",
       "\n",
       "    .dataframe tbody tr th {\n",
       "        vertical-align: top;\n",
       "    }\n",
       "\n",
       "    .dataframe thead th {\n",
       "        text-align: right;\n",
       "    }\n",
       "</style>\n",
       "<table border=\"1\" class=\"dataframe\">\n",
       "  <thead>\n",
       "    <tr style=\"text-align: right;\">\n",
       "      <th></th>\n",
       "      <th>Date</th>\n",
       "      <th>Open</th>\n",
       "      <th>High</th>\n",
       "      <th>Low</th>\n",
       "      <th>Close</th>\n",
       "      <th>Adj Close</th>\n",
       "      <th>Volume</th>\n",
       "    </tr>\n",
       "  </thead>\n",
       "  <tbody>\n",
       "    <tr>\n",
       "      <th>0</th>\n",
       "      <td>2021-01-04</td>\n",
       "      <td>285.410004</td>\n",
       "      <td>290.799988</td>\n",
       "      <td>274.440002</td>\n",
       "      <td>278.239990</td>\n",
       "      <td>278.239990</td>\n",
       "      <td>3948500</td>\n",
       "    </tr>\n",
       "    <tr>\n",
       "      <th>1</th>\n",
       "      <td>2021-01-05</td>\n",
       "      <td>280.619995</td>\n",
       "      <td>293.489990</td>\n",
       "      <td>279.299988</td>\n",
       "      <td>283.829987</td>\n",
       "      <td>283.829987</td>\n",
       "      <td>5202600</td>\n",
       "    </tr>\n",
       "    <tr>\n",
       "      <th>2</th>\n",
       "      <td>2021-01-06</td>\n",
       "      <td>279.989990</td>\n",
       "      <td>283.639008</td>\n",
       "      <td>266.410004</td>\n",
       "      <td>268.019989</td>\n",
       "      <td>268.019989</td>\n",
       "      <td>5736800</td>\n",
       "    </tr>\n",
       "    <tr>\n",
       "      <th>3</th>\n",
       "      <td>2021-01-07</td>\n",
       "      <td>272.589996</td>\n",
       "      <td>304.899994</td>\n",
       "      <td>267.700012</td>\n",
       "      <td>304.200012</td>\n",
       "      <td>304.200012</td>\n",
       "      <td>16546600</td>\n",
       "    </tr>\n",
       "    <tr>\n",
       "      <th>4</th>\n",
       "      <td>2021-01-08</td>\n",
       "      <td>315.000000</td>\n",
       "      <td>325.720001</td>\n",
       "      <td>298.000000</td>\n",
       "      <td>300.100006</td>\n",
       "      <td>300.100006</td>\n",
       "      <td>9106800</td>\n",
       "    </tr>\n",
       "  </tbody>\n",
       "</table>\n",
       "</div>"
      ],
      "text/plain": [
       "         Date        Open        High         Low       Close   Adj Close  \\\n",
       "0  2021-01-04  285.410004  290.799988  274.440002  278.239990  278.239990   \n",
       "1  2021-01-05  280.619995  293.489990  279.299988  283.829987  283.829987   \n",
       "2  2021-01-06  279.989990  283.639008  266.410004  268.019989  268.019989   \n",
       "3  2021-01-07  272.589996  304.899994  267.700012  304.200012  304.200012   \n",
       "4  2021-01-08  315.000000  325.720001  298.000000  300.100006  300.100006   \n",
       "\n",
       "     Volume  \n",
       "0   3948500  \n",
       "1   5202600  \n",
       "2   5736800  \n",
       "3  16546600  \n",
       "4   9106800  "
      ]
     },
     "execution_count": 117,
     "metadata": {},
     "output_type": "execute_result"
    }
   ],
   "source": [
    "# Read in the SNOW-SNOW.csv as a DataFrame\n",
    "snow_df = pd.read_csv(\n",
    "    Path('SNOW-SNOW.csv')\n",
    ")\n",
    "\n",
    "# Review the DataFrame\n",
    "snow_df.head()"
   ]
  },
  {
   "cell_type": "code",
   "execution_count": 118,
   "metadata": {},
   "outputs": [
    {
     "data": {
      "text/html": [
       "<div>\n",
       "<style scoped>\n",
       "    .dataframe tbody tr th:only-of-type {\n",
       "        vertical-align: middle;\n",
       "    }\n",
       "\n",
       "    .dataframe tbody tr th {\n",
       "        vertical-align: top;\n",
       "    }\n",
       "\n",
       "    .dataframe thead th {\n",
       "        text-align: right;\n",
       "    }\n",
       "</style>\n",
       "<table border=\"1\" class=\"dataframe\">\n",
       "  <thead>\n",
       "    <tr style=\"text-align: right;\">\n",
       "      <th></th>\n",
       "      <th>Date</th>\n",
       "      <th>Open</th>\n",
       "      <th>Close</th>\n",
       "    </tr>\n",
       "  </thead>\n",
       "  <tbody>\n",
       "    <tr>\n",
       "      <th>0</th>\n",
       "      <td>2021-01-04</td>\n",
       "      <td>285.410004</td>\n",
       "      <td>278.239990</td>\n",
       "    </tr>\n",
       "    <tr>\n",
       "      <th>1</th>\n",
       "      <td>2021-01-05</td>\n",
       "      <td>280.619995</td>\n",
       "      <td>283.829987</td>\n",
       "    </tr>\n",
       "    <tr>\n",
       "      <th>2</th>\n",
       "      <td>2021-01-06</td>\n",
       "      <td>279.989990</td>\n",
       "      <td>268.019989</td>\n",
       "    </tr>\n",
       "    <tr>\n",
       "      <th>3</th>\n",
       "      <td>2021-01-07</td>\n",
       "      <td>272.589996</td>\n",
       "      <td>304.200012</td>\n",
       "    </tr>\n",
       "    <tr>\n",
       "      <th>4</th>\n",
       "      <td>2021-01-08</td>\n",
       "      <td>315.000000</td>\n",
       "      <td>300.100006</td>\n",
       "    </tr>\n",
       "  </tbody>\n",
       "</table>\n",
       "</div>"
      ],
      "text/plain": [
       "         Date        Open       Close\n",
       "0  2021-01-04  285.410004  278.239990\n",
       "1  2021-01-05  280.619995  283.829987\n",
       "2  2021-01-06  279.989990  268.019989\n",
       "3  2021-01-07  272.589996  304.200012\n",
       "4  2021-01-08  315.000000  300.100006"
      ]
     },
     "execution_count": 118,
     "metadata": {},
     "output_type": "execute_result"
    }
   ],
   "source": [
    "snow_df.drop(columns=['High', 'Low', 'Adj Close', 'Volume'], inplace=True)\n",
    "snow_df.head()"
   ]
  },
  {
   "cell_type": "code",
   "execution_count": 119,
   "metadata": {},
   "outputs": [
    {
     "data": {
      "text/html": [
       "<div>\n",
       "<style scoped>\n",
       "    .dataframe tbody tr th:only-of-type {\n",
       "        vertical-align: middle;\n",
       "    }\n",
       "\n",
       "    .dataframe tbody tr th {\n",
       "        vertical-align: top;\n",
       "    }\n",
       "\n",
       "    .dataframe thead th {\n",
       "        text-align: right;\n",
       "    }\n",
       "</style>\n",
       "<table border=\"1\" class=\"dataframe\">\n",
       "  <thead>\n",
       "    <tr style=\"text-align: right;\">\n",
       "      <th></th>\n",
       "      <th>Date</th>\n",
       "      <th>Open</th>\n",
       "      <th>High</th>\n",
       "      <th>Low</th>\n",
       "      <th>Close</th>\n",
       "      <th>Adj Close</th>\n",
       "      <th>Volume</th>\n",
       "    </tr>\n",
       "  </thead>\n",
       "  <tbody>\n",
       "    <tr>\n",
       "      <th>0</th>\n",
       "      <td>2021-01-04</td>\n",
       "      <td>40.340000</td>\n",
       "      <td>45.000000</td>\n",
       "      <td>38.049999</td>\n",
       "      <td>43.990002</td>\n",
       "      <td>43.990002</td>\n",
       "      <td>1347100</td>\n",
       "    </tr>\n",
       "    <tr>\n",
       "      <th>1</th>\n",
       "      <td>2021-01-05</td>\n",
       "      <td>45.099998</td>\n",
       "      <td>53.630001</td>\n",
       "      <td>44.200001</td>\n",
       "      <td>48.369999</td>\n",
       "      <td>48.369999</td>\n",
       "      <td>3590700</td>\n",
       "    </tr>\n",
       "    <tr>\n",
       "      <th>2</th>\n",
       "      <td>2021-01-06</td>\n",
       "      <td>47.049999</td>\n",
       "      <td>57.000000</td>\n",
       "      <td>45.139999</td>\n",
       "      <td>52.139999</td>\n",
       "      <td>52.139999</td>\n",
       "      <td>2903200</td>\n",
       "    </tr>\n",
       "    <tr>\n",
       "      <th>3</th>\n",
       "      <td>2021-01-07</td>\n",
       "      <td>55.990002</td>\n",
       "      <td>61.259998</td>\n",
       "      <td>55.040001</td>\n",
       "      <td>55.389999</td>\n",
       "      <td>55.389999</td>\n",
       "      <td>1518900</td>\n",
       "    </tr>\n",
       "    <tr>\n",
       "      <th>4</th>\n",
       "      <td>2021-01-08</td>\n",
       "      <td>58.000000</td>\n",
       "      <td>58.000000</td>\n",
       "      <td>50.279999</td>\n",
       "      <td>52.730000</td>\n",
       "      <td>52.730000</td>\n",
       "      <td>1407700</td>\n",
       "    </tr>\n",
       "  </tbody>\n",
       "</table>\n",
       "</div>"
      ],
      "text/plain": [
       "         Date       Open       High        Low      Close  Adj Close   Volume\n",
       "0  2021-01-04  40.340000  45.000000  38.049999  43.990002  43.990002  1347100\n",
       "1  2021-01-05  45.099998  53.630001  44.200001  48.369999  48.369999  3590700\n",
       "2  2021-01-06  47.049999  57.000000  45.139999  52.139999  52.139999  2903200\n",
       "3  2021-01-07  55.990002  61.259998  55.040001  55.389999  55.389999  1518900\n",
       "4  2021-01-08  58.000000  58.000000  50.279999  52.730000  52.730000  1407700"
      ]
     },
     "execution_count": 119,
     "metadata": {},
     "output_type": "execute_result"
    }
   ],
   "source": [
    "# Read in the UPST-UPST.csv as a DataFrame\n",
    "upst_df = pd.read_csv(\n",
    "    Path('UPST-UPST.csv')\n",
    ")\n",
    "\n",
    "# Review the DataFrame\n",
    "upst_df.head()"
   ]
  },
  {
   "cell_type": "code",
   "execution_count": 120,
   "metadata": {},
   "outputs": [
    {
     "data": {
      "text/html": [
       "<div>\n",
       "<style scoped>\n",
       "    .dataframe tbody tr th:only-of-type {\n",
       "        vertical-align: middle;\n",
       "    }\n",
       "\n",
       "    .dataframe tbody tr th {\n",
       "        vertical-align: top;\n",
       "    }\n",
       "\n",
       "    .dataframe thead th {\n",
       "        text-align: right;\n",
       "    }\n",
       "</style>\n",
       "<table border=\"1\" class=\"dataframe\">\n",
       "  <thead>\n",
       "    <tr style=\"text-align: right;\">\n",
       "      <th></th>\n",
       "      <th>Date</th>\n",
       "      <th>Open</th>\n",
       "      <th>Close</th>\n",
       "    </tr>\n",
       "  </thead>\n",
       "  <tbody>\n",
       "    <tr>\n",
       "      <th>0</th>\n",
       "      <td>2021-01-04</td>\n",
       "      <td>40.340000</td>\n",
       "      <td>43.990002</td>\n",
       "    </tr>\n",
       "    <tr>\n",
       "      <th>1</th>\n",
       "      <td>2021-01-05</td>\n",
       "      <td>45.099998</td>\n",
       "      <td>48.369999</td>\n",
       "    </tr>\n",
       "    <tr>\n",
       "      <th>2</th>\n",
       "      <td>2021-01-06</td>\n",
       "      <td>47.049999</td>\n",
       "      <td>52.139999</td>\n",
       "    </tr>\n",
       "    <tr>\n",
       "      <th>3</th>\n",
       "      <td>2021-01-07</td>\n",
       "      <td>55.990002</td>\n",
       "      <td>55.389999</td>\n",
       "    </tr>\n",
       "    <tr>\n",
       "      <th>4</th>\n",
       "      <td>2021-01-08</td>\n",
       "      <td>58.000000</td>\n",
       "      <td>52.730000</td>\n",
       "    </tr>\n",
       "  </tbody>\n",
       "</table>\n",
       "</div>"
      ],
      "text/plain": [
       "         Date       Open      Close\n",
       "0  2021-01-04  40.340000  43.990002\n",
       "1  2021-01-05  45.099998  48.369999\n",
       "2  2021-01-06  47.049999  52.139999\n",
       "3  2021-01-07  55.990002  55.389999\n",
       "4  2021-01-08  58.000000  52.730000"
      ]
     },
     "execution_count": 120,
     "metadata": {},
     "output_type": "execute_result"
    }
   ],
   "source": [
    "upst_df.drop(columns=['High', 'Low', 'Adj Close', 'Volume'], inplace=True)\n",
    "upst_df.head()"
   ]
  },
  {
   "cell_type": "code",
   "execution_count": 121,
   "metadata": {},
   "outputs": [
    {
     "data": {
      "text/html": [
       "<div>\n",
       "<style scoped>\n",
       "    .dataframe tbody tr th:only-of-type {\n",
       "        vertical-align: middle;\n",
       "    }\n",
       "\n",
       "    .dataframe tbody tr th {\n",
       "        vertical-align: top;\n",
       "    }\n",
       "\n",
       "    .dataframe thead th {\n",
       "        text-align: right;\n",
       "    }\n",
       "</style>\n",
       "<table border=\"1\" class=\"dataframe\">\n",
       "  <thead>\n",
       "    <tr style=\"text-align: right;\">\n",
       "      <th></th>\n",
       "      <th>Date</th>\n",
       "      <th>Brazilian real   (BRL)</th>\n",
       "      <th>Canadian dollar   (CAD)</th>\n",
       "      <th>Chilean peso   (CLP)</th>\n",
       "      <th>Euro   (EUR)</th>\n",
       "      <th>Japanese yen   (JPY)</th>\n",
       "      <th>U.S. dollar   (USD)</th>\n",
       "    </tr>\n",
       "  </thead>\n",
       "  <tbody>\n",
       "    <tr>\n",
       "      <th>0</th>\n",
       "      <td>4-Jan-21</td>\n",
       "      <td>0.133714</td>\n",
       "      <td>0.541318</td>\n",
       "      <td>0.000971</td>\n",
       "      <td>0.848712</td>\n",
       "      <td>0.006696</td>\n",
       "      <td>0.690234</td>\n",
       "    </tr>\n",
       "    <tr>\n",
       "      <th>1</th>\n",
       "      <td>5-Jan-21</td>\n",
       "      <td>0.129664</td>\n",
       "      <td>0.543502</td>\n",
       "      <td>0.000982</td>\n",
       "      <td>0.847470</td>\n",
       "      <td>0.006696</td>\n",
       "      <td>0.690628</td>\n",
       "    </tr>\n",
       "    <tr>\n",
       "      <th>2</th>\n",
       "      <td>6-Jan-21</td>\n",
       "      <td>0.129632</td>\n",
       "      <td>0.543422</td>\n",
       "      <td>0.000982</td>\n",
       "      <td>0.850497</td>\n",
       "      <td>0.006706</td>\n",
       "      <td>0.689331</td>\n",
       "    </tr>\n",
       "    <tr>\n",
       "      <th>3</th>\n",
       "      <td>7-Jan-21</td>\n",
       "      <td>0.129507</td>\n",
       "      <td>0.544515</td>\n",
       "      <td>0.000994</td>\n",
       "      <td>0.849395</td>\n",
       "      <td>0.006718</td>\n",
       "      <td>0.691915</td>\n",
       "    </tr>\n",
       "    <tr>\n",
       "      <th>4</th>\n",
       "      <td>8-Jan-21</td>\n",
       "      <td>0.128912</td>\n",
       "      <td>0.544637</td>\n",
       "      <td>0.000975</td>\n",
       "      <td>0.847652</td>\n",
       "      <td>0.006664</td>\n",
       "      <td>0.691961</td>\n",
       "    </tr>\n",
       "  </tbody>\n",
       "</table>\n",
       "</div>"
      ],
      "text/plain": [
       "       Date  Brazilian real   (BRL)                       \\\n",
       "0  4-Jan-21                                     0.133714   \n",
       "1  5-Jan-21                                     0.129664   \n",
       "2  6-Jan-21                                     0.129632   \n",
       "3  7-Jan-21                                     0.129507   \n",
       "4  8-Jan-21                                     0.128912   \n",
       "\n",
       "   Canadian dollar   (CAD)                       \\\n",
       "0                                      0.541318   \n",
       "1                                      0.543502   \n",
       "2                                      0.543422   \n",
       "3                                      0.544515   \n",
       "4                                      0.544637   \n",
       "\n",
       "   Chilean peso   (CLP)                       \\\n",
       "0                                   0.000971   \n",
       "1                                   0.000982   \n",
       "2                                   0.000982   \n",
       "3                                   0.000994   \n",
       "4                                   0.000975   \n",
       "\n",
       "   Euro   (EUR)                       \\\n",
       "0                           0.848712   \n",
       "1                           0.847470   \n",
       "2                           0.850497   \n",
       "3                           0.849395   \n",
       "4                           0.847652   \n",
       "\n",
       "   Japanese yen   (JPY)                       \\\n",
       "0                                   0.006696   \n",
       "1                                   0.006696   \n",
       "2                                   0.006706   \n",
       "3                                   0.006718   \n",
       "4                                   0.006664   \n",
       "\n",
       "   U.S. dollar   (USD)                       \n",
       "0                                  0.690234  \n",
       "1                                  0.690628  \n",
       "2                                  0.689331  \n",
       "3                                  0.691915  \n",
       "4                                  0.691961  "
      ]
     },
     "execution_count": 121,
     "metadata": {},
     "output_type": "execute_result"
    }
   ],
   "source": [
    "# Read in the Exchange_Rate.csv as a DataFrame\n",
    "currency_df = pd.read_csv(\n",
    "    Path('Exchange_Rate.csv', index_col='Date', parse_dates=True, infer_datetime_format=True)\n",
    ")\n",
    "\n",
    "# Review the DataFrame\n",
    "currency_df.head()"
   ]
  },
  {
   "cell_type": "code",
   "execution_count": 132,
   "metadata": {},
   "outputs": [
    {
     "data": {
      "text/plain": [
       "<AxesSubplot:title={'center':'Daily Opening and Closing Prices for Airbnb, Inc.'}, xlabel='days', ylabel='price'>"
      ]
     },
     "execution_count": 132,
     "metadata": {},
     "output_type": "execute_result"
    },
    {
     "data": {
      "image/png": "[encoded data removed]",
      "text/plain": [
       "<Figure size 432x288 with 1 Axes>"
      ]
     },
     "metadata": {
      "needs_background": "light"
     },
     "output_type": "display_data"
    }
   ],
   "source": [
    "# Plotting the daily closing stock price of Airbnb, Inc. during last 30 days\n",
    "abnb_df.plot(ylabel=\"price\", xlabel=\"days\", title=\"Daily Opening and Closing Prices for Airbnb, Inc.\")"
   ]
  },
  {
   "cell_type": "code",
   "execution_count": 135,
   "metadata": {},
   "outputs": [
    {
     "data": {
      "text/plain": [
       "<AxesSubplot:title={'center':'Daily Opening and Closing Prices for DoorDash'}, xlabel='days', ylabel='price'>"
      ]
     },
     "execution_count": 135,
     "metadata": {},
     "output_type": "execute_result"
    },
    {
     "data": {
      "image/png": "[encoded data removed]",
      "text/plain": [
       "<Figure size 432x288 with 1 Axes>"
      ]
     },
     "metadata": {
      "needs_background": "light"
     },
     "output_type": "display_data"
    }
   ],
   "source": [
    "# Plotting the daily closing stock price of the DoorDash during the last 30 days \n",
    "dash_df.plot(xlabel=\"days\", ylabel=\"price\", title=\"Daily Opening and Closing Prices for DoorDash\")"
   ]
  },
  {
   "cell_type": "code",
   "execution_count": 137,
   "metadata": {},
   "outputs": [
    {
     "data": {
      "text/plain": [
       "<AxesSubplot:title={'center':'Daily Opening and Closing Prices for Porch Group I'}, xlabel='days', ylabel='price'>"
      ]
     },
     "execution_count": 137,
     "metadata": {},
     "output_type": "execute_result"
    },
    {
     "data": {
      "image/png": "[encoded data removed]",
      "text/plain": [
       "<Figure size 432x288 with 1 Axes>"
      ]
     },
     "metadata": {
      "needs_background": "light"
     },
     "output_type": "display_data"
    }
   ],
   "source": [
    "# Plotting the daily closing stock price of the Porch Group Inc. during the last 30 days \n",
    "prch_df.plot(ylabel=\"price\", xlabel=\"days\", title=\"Daily Opening and Closing Prices for Porch Group I\")"
   ]
  },
  {
   "cell_type": "code",
   "execution_count": 138,
   "metadata": {},
   "outputs": [
    {
     "data": {
      "text/plain": [
       "<AxesSubplot:title={'center':'Daily Opening and Closing Prices for Snowflake'}, xlabel='days', ylabel='price'>"
      ]
     },
     "execution_count": 138,
     "metadata": {},
     "output_type": "execute_result"
    },
    {
     "data": {
      "image/png": "[encoded data removed]",
      "text/plain": [
       "<Figure size 432x288 with 1 Axes>"
      ]
     },
     "metadata": {
      "needs_background": "light"
     },
     "output_type": "display_data"
    }
   ],
   "source": [
    "# Plotting the daily closing stock price of Snowflacke during the last 30 days \n",
    "snow_df.plot(ylabel=\"price\", xlabel=\"days\", title=\"Daily Opening and Closing Prices for Snowflake\")"
   ]
  },
  {
   "cell_type": "code",
   "execution_count": 139,
   "metadata": {},
   "outputs": [
    {
     "data": {
      "text/plain": [
       "<AxesSubplot:title={'center':'Daily Opening and Closing Prices for Upstart Holdings Inc'}, xlabel='days', ylabel='price'>"
      ]
     },
     "execution_count": 139,
     "metadata": {},
     "output_type": "execute_result"
    },
    {
     "data": {
      "image/png": "[encoded data removed]",
      "text/plain": [
       "<Figure size 432x288 with 1 Axes>"
      ]
     },
     "metadata": {
      "needs_background": "light"
     },
     "output_type": "display_data"
    }
   ],
   "source": [
    "# Plotting the daily closing stock price of Upstart Holdings Inc during the last 30 days \n",
    "upst_df.plot(ylabel=\"price\", xlabel=\"days\", title=\"Daily Opening and Closing Prices for Upstart Holdings Inc\")"
   ]
  },
  {
   "cell_type": "code",
   "execution_count": 177,
   "metadata": {},
   "outputs": [],
   "source": [
    "# Combine opening and closing prices for each ticker\n",
    "#combined_df = pd.concat([abnb_df, dash_df, prch_df, snow_df, upst_df], axis=\"columns\", join=\"inner\")\n",
    "\n",
    "# Sortting datetime index in ascending order \n",
    "#combined_df.sort_index()\n",
    "\n",
    "# Setting column names \n",
    "#combined_df.columns = ['ABNB', 'DASH', 'PRCH', 'SNOW', 'UPST']\n",
    "\n",
    "# Display a few rows\n",
    "#combined_df.head()"
   ]
  },
  {
   "cell_type": "code",
   "execution_count": null,
   "metadata": {},
   "outputs": [],
   "source": [
    "#using hvplot, hvplot.bar, hvplot.scatter for visualization"
   ]
  },
  {
   "cell_type": "code",
   "execution_count": 163,
   "metadata": {},
   "outputs": [
    {
     "data": {},
     "metadata": {},
     "output_type": "display_data"
    },
    {
     "data": {
      "application/vnd.holoviews_exec.v0+json": "",
      "text/html": [
       "<div id='4709'>\n",
       "\n",
       "\n",
       "\n",
       "\n",
       "\n",
       "  <div class=\"bk-root\" id=\"08b12c22-f3c8-421b-a5b3-de5fb63b4508\" data-root-id=\"4709\"></div>\n",
       "</div>\n",
       "<script type=\"application/javascript\">(function(root) {\n",
       "  function embed_document(root) {\n",
       "    var docs_json = {\"e9442cea-a66e-4d53-a4dc-1bf6c149e64b\":{\"roots\":{\"references\":[{\"attributes\":{\"margin\":[5,5,5,5],\"name\":\"HSpacer09760\",\"sizing_mode\":\"stretch_width\"},\"id\":\"4710\",\"type\":\"Spacer\"},{\"attributes\":{\"text\":\"Opening & Closing Values of Airbnb last 30 days\",\"text_color\":{\"value\":\"black\"},\"text_font_size\":{\"value\":\"12pt\"}},\"id\":\"4716\",\"type\":\"Title\"},{\"attributes\":{},\"id\":\"4748\",\"type\":\"BasicTickFormatter\"},{\"attributes\":{\"end\":224.69599569999997,\"reset_end\":224.69599569999997,\"reset_start\":130.4239993,\"start\":130.4239993,\"tags\":[[[\"value\",\"value\",null]]]},\"id\":\"4712\",\"type\":\"Range1d\"},{\"attributes\":{\"label\":{\"value\":\"Close\"},\"renderers\":[{\"id\":\"4773\"}]},\"id\":\"4785\",\"type\":\"LegendItem\"},{\"attributes\":{\"bottom_units\":\"screen\",\"fill_alpha\":0.5,\"fill_color\":\"lightgrey\",\"left_units\":\"screen\",\"level\":\"overlay\",\"line_alpha\":1.0,\"line_color\":\"black\",\"line_dash\":[4,4],\"line_width\":2,\"right_units\":\"screen\",\"top_units\":\"screen\"},\"id\":\"4737\",\"type\":\"BoxAnnotation\"},{\"attributes\":{\"margin\":[5,5,5,5],\"name\":\"HSpacer09761\",\"sizing_mode\":\"stretch_width\"},\"id\":\"4876\",\"type\":\"Spacer\"},{\"attributes\":{\"callback\":null,\"renderers\":[{\"id\":\"4755\"},{\"id\":\"4773\"}],\"tags\":[\"hv_created\"],\"tooltips\":[[\"Variable\",\"@{Variable}\"],[\"index\",\"@{index}\"],[\"value\",\"@{value}\"]]},\"id\":\"4713\",\"type\":\"HoverTool\"},{\"attributes\":{},\"id\":\"4764\",\"type\":\"UnionRenderers\"},{\"attributes\":{\"children\":[{\"id\":\"4710\"},{\"id\":\"4715\"},{\"id\":\"4876\"}],\"margin\":[0,0,0,0],\"name\":\"Row09756\",\"tags\":[\"embedded\"]},\"id\":\"4709\",\"type\":\"Row\"},{\"attributes\":{\"source\":{\"id\":\"4767\"}},\"id\":\"4774\",\"type\":\"CDSView\"},{\"attributes\":{\"data_source\":{\"id\":\"4749\"},\"glyph\":{\"id\":\"4752\"},\"hover_glyph\":null,\"muted_glyph\":{\"id\":\"4754\"},\"nonselection_glyph\":{\"id\":\"4753\"},\"selection_glyph\":null,\"view\":{\"id\":\"4756\"}},\"id\":\"4755\",\"type\":\"GlyphRenderer\"},{\"attributes\":{},\"id\":\"4750\",\"type\":\"Selection\"},{\"attributes\":{},\"id\":\"4784\",\"type\":\"UnionRenderers\"},{\"attributes\":{\"source\":{\"id\":\"4749\"}},\"id\":\"4756\",\"type\":\"CDSView\"},{\"attributes\":{\"click_policy\":\"mute\",\"items\":[{\"id\":\"4766\"},{\"id\":\"4785\"}],\"location\":[0,0],\"title\":\"Variable\"},\"id\":\"4765\",\"type\":\"Legend\"},{\"attributes\":{\"line_alpha\":0.1,\"line_color\":\"#1f77b3\",\"line_width\":2,\"x\":{\"field\":\"index\"},\"y\":{\"field\":\"value\"}},\"id\":\"4753\",\"type\":\"Line\"},{\"attributes\":{\"line_color\":\"#1f77b3\",\"line_width\":2,\"x\":{\"field\":\"index\"},\"y\":{\"field\":\"value\"}},\"id\":\"4752\",\"type\":\"Line\"},{\"attributes\":{},\"id\":\"4725\",\"type\":\"BasicTicker\"},{\"attributes\":{\"data\":{\"Variable\":[\"Open\",\"Open\",\"Open\",\"Open\",\"Open\",\"Open\",\"Open\",\"Open\",\"Open\",\"Open\",\"Open\",\"Open\",\"Open\",\"Open\",\"Open\",\"Open\",\"Open\",\"Open\",\"Open\",\"Open\",\"Open\",\"Open\",\"Open\",\"Open\",\"Open\",\"Open\",\"Open\",\"Open\",\"Open\",\"Open\"],\"index\":[0,1,2,3,4,5,6,7,8,9,10,11,12,13,14,15,16,17,18,19,20,21,22,23,24,25,26,27,28,29],\"value\":{\"__ndarray__\":\"DDz3Hq7fYkA1fXbA9UhhQAAAAAAAOGJA3xXB/9ZLYkCKyRtgZi5jQAw89x6uf2JAq7NaYI+CYkBq+uyA6xlkQDRiZp9H8WVAq7NaYI8SZ0AAAAAAAKBlQPTDCOFRAGZADDz3Hq6fZECqmEo/4UJmQHY25J+ZQWdAAAAAAACAZkAgzy7fenRnQOxsyD8zU2lAzJ2ZYLjWZ0C/RpIgXG9nQMuCiT8K52ZAv0aSIFy/ZkC371F/PWJnQAAAAAAAoGhASRCugML9aECtvyUAf+ZoQL9GkiBcr2lAAAAAAACwakCBme/gp85qQAs89x6uB2tA\",\"dtype\":\"float64\",\"order\":\"little\",\"shape\":[30]}},\"selected\":{\"id\":\"4750\"},\"selection_policy\":{\"id\":\"4764\"}},\"id\":\"4749\",\"type\":\"ColumnDataSource\"},{\"attributes\":{},\"id\":\"4722\",\"type\":\"LinearScale\"},{\"attributes\":{\"line_alpha\":0.2,\"line_color\":\"#1f77b3\",\"line_width\":2,\"x\":{\"field\":\"index\"},\"y\":{\"field\":\"value\"}},\"id\":\"4754\",\"type\":\"Line\"},{\"attributes\":{\"axis\":{\"id\":\"4724\"},\"grid_line_color\":null,\"ticker\":null},\"id\":\"4727\",\"type\":\"Grid\"},{\"attributes\":{},\"id\":\"4733\",\"type\":\"PanTool\"},{\"attributes\":{},\"id\":\"4768\",\"type\":\"Selection\"},{\"attributes\":{\"below\":[{\"id\":\"4724\"}],\"center\":[{\"id\":\"4727\"},{\"id\":\"4731\"}],\"left\":[{\"id\":\"4728\"}],\"margin\":[5,5,5,5],\"min_border_bottom\":10,\"min_border_left\":10,\"min_border_right\":10,\"min_border_top\":10,\"plot_height\":300,\"plot_width\":700,\"renderers\":[{\"id\":\"4755\"},{\"id\":\"4773\"}],\"right\":[{\"id\":\"4765\"}],\"sizing_mode\":\"fixed\",\"title\":{\"id\":\"4716\"},\"toolbar\":{\"id\":\"4738\"},\"x_range\":{\"id\":\"4711\"},\"x_scale\":{\"id\":\"4720\"},\"y_range\":{\"id\":\"4712\"},\"y_scale\":{\"id\":\"4722\"}},\"id\":\"4715\",\"subtype\":\"Figure\",\"type\":\"Plot\"},{\"attributes\":{},\"id\":\"4720\",\"type\":\"LinearScale\"},{\"attributes\":{},\"id\":\"4729\",\"type\":\"BasicTicker\"},{\"attributes\":{\"axis\":{\"id\":\"4728\"},\"dimension\":1,\"grid_line_color\":null,\"ticker\":null},\"id\":\"4731\",\"type\":\"Grid\"},{\"attributes\":{\"data_source\":{\"id\":\"4767\"},\"glyph\":{\"id\":\"4770\"},\"hover_glyph\":null,\"muted_glyph\":{\"id\":\"4772\"},\"nonselection_glyph\":{\"id\":\"4771\"},\"selection_glyph\":null,\"view\":{\"id\":\"4774\"}},\"id\":\"4773\",\"type\":\"GlyphRenderer\"},{\"attributes\":{\"axis_label\":\"\",\"bounds\":\"auto\",\"formatter\":{\"id\":\"4748\"},\"major_label_orientation\":\"horizontal\",\"ticker\":{\"id\":\"4729\"}},\"id\":\"4728\",\"type\":\"LinearAxis\"},{\"attributes\":{\"label\":{\"value\":\"Open\"},\"renderers\":[{\"id\":\"4755\"}]},\"id\":\"4766\",\"type\":\"LegendItem\"},{\"attributes\":{\"axis_label\":\"\",\"bounds\":\"auto\",\"formatter\":{\"id\":\"4746\"},\"major_label_orientation\":\"horizontal\",\"ticker\":{\"id\":\"4725\"}},\"id\":\"4724\",\"type\":\"LinearAxis\"},{\"attributes\":{},\"id\":\"4734\",\"type\":\"WheelZoomTool\"},{\"attributes\":{\"active_drag\":\"auto\",\"active_inspect\":\"auto\",\"active_multi\":null,\"active_scroll\":\"auto\",\"active_tap\":\"auto\",\"tools\":[{\"id\":\"4713\"},{\"id\":\"4732\"},{\"id\":\"4733\"},{\"id\":\"4734\"},{\"id\":\"4735\"},{\"id\":\"4736\"}]},\"id\":\"4738\",\"type\":\"Toolbar\"},{\"attributes\":{\"end\":29.0,\"reset_end\":29.0,\"reset_start\":0.0,\"tags\":[[[\"index\",\"index\",null]]]},\"id\":\"4711\",\"type\":\"Range1d\"},{\"attributes\":{},\"id\":\"4732\",\"type\":\"SaveTool\"},{\"attributes\":{\"line_alpha\":0.1,\"line_color\":\"#ff7e0e\",\"line_width\":2,\"x\":{\"field\":\"index\"},\"y\":{\"field\":\"value\"}},\"id\":\"4771\",\"type\":\"Line\"},{\"attributes\":{\"data\":{\"Variable\":[\"Close\",\"Close\",\"Close\",\"Close\",\"Close\",\"Close\",\"Close\",\"Close\",\"Close\",\"Close\",\"Close\",\"Close\",\"Close\",\"Close\",\"Close\",\"Close\",\"Close\",\"Close\",\"Close\",\"Close\",\"Close\",\"Close\",\"Close\",\"Close\",\"Close\",\"Close\",\"Close\",\"Close\",\"Close\",\"Close\"],\"index\":[0,1,2,3,4,5,6,7,8,9,10,11,12,13,14,15,16,17,18,19,20,21,22,23,24,25,26,27,28,29],\"value\":{\"__ndarray__\":\"FJM3wMxkYUB2NuSfmYliQEG5bd+j2GFAQblt36PoYkBBuW3fo7hiQCHqPgAphGJAdjbkn5kZZEAMPPcerj9lQAAAAAAAkGZAQblt36MoZUCWBRN/FLZlQKuzWmCPOmRAFJM3wMyMZkDfFcH/1rtmQDV9dsD1MGZADDz3Hq4XaEAAAAAAAChpQN8Vwf/Wa2dAIeo+ACn0ZkCWBRN/FI5mQFVMpZ9wZWZAy4KJPwo3Z0B2NuSfmXloQGr67IDraWhASRCugMINaUAh6j4AKfxoQFZntcAedWpAqphKP+Eaa0BKEK6AwpVqQN8w0SCFO2pA\",\"dtype\":\"float64\",\"order\":\"little\",\"shape\":[30]}},\"selected\":{\"id\":\"4768\"},\"selection_policy\":{\"id\":\"4784\"}},\"id\":\"4767\",\"type\":\"ColumnDataSource\"},{\"attributes\":{\"overlay\":{\"id\":\"4737\"}},\"id\":\"4735\",\"type\":\"BoxZoomTool\"},{\"attributes\":{},\"id\":\"4736\",\"type\":\"ResetTool\"},{\"attributes\":{\"line_color\":\"#ff7e0e\",\"line_width\":2,\"x\":{\"field\":\"index\"},\"y\":{\"field\":\"value\"}},\"id\":\"4770\",\"type\":\"Line\"},{\"attributes\":{},\"id\":\"4746\",\"type\":\"BasicTickFormatter\"},{\"attributes\":{\"line_alpha\":0.2,\"line_color\":\"#ff7e0e\",\"line_width\":2,\"x\":{\"field\":\"index\"},\"y\":{\"field\":\"value\"}},\"id\":\"4772\",\"type\":\"Line\"}],\"root_ids\":[\"4709\"]},\"title\":\"Bokeh Application\",\"version\":\"2.2.3\"}};\n",
       "    var render_items = [{\"docid\":\"e9442cea-a66e-4d53-a4dc-1bf6c149e64b\",\"root_ids\":[\"4709\"],\"roots\":{\"4709\":\"08b12c22-f3c8-421b-a5b3-de5fb63b4508\"}}];\n",
       "    root.Bokeh.embed.embed_items_notebook(docs_json, render_items);\n",
       "  }\n",
       "  if (root.Bokeh !== undefined && root.Bokeh.Panel !== undefined) {\n",
       "    embed_document(root);\n",
       "  } else {\n",
       "    var attempts = 0;\n",
       "    var timer = setInterval(function(root) {\n",
       "      if (root.Bokeh !== undefined && root.Bokeh.Panel !== undefined) {\n",
       "        clearInterval(timer);\n",
       "        embed_document(root);\n",
       "      } else if (document.readyState == \"complete\") {\n",
       "        attempts++;\n",
       "        if (attempts > 100) {\n",
       "          clearInterval(timer);\n",
       "          console.log(\"Bokeh: ERROR: Unable to run BokehJS code because BokehJS library is missing\");\n",
       "        }\n",
       "      }\n",
       "    }, 10, root)\n",
       "  }\n",
       "})(window);</script>"
      ],
      "text/plain": [
       ":NdOverlay   [Variable]\n",
       "   :Curve   [index]   (value)"
      ]
     },
     "execution_count": 163,
     "metadata": {
      "application/vnd.holoviews_exec.v0+json": {
       "id": "4709"
      }
     },
     "output_type": "execute_result"
    }
   ],
   "source": [
    "abnb_df.hvplot(title=\"Opening & Closing Values of Airbnb last 30 days\")"
   ]
  },
  {
   "cell_type": "code",
   "execution_count": 175,
   "metadata": {},
   "outputs": [
    {
     "data": {},
     "metadata": {},
     "output_type": "display_data"
    },
    {
     "data": {
      "application/vnd.holoviews_exec.v0+json": "",
      "text/html": [
       "<div id='5900'>\n",
       "\n",
       "\n",
       "\n",
       "\n",
       "\n",
       "  <div class=\"bk-root\" id=\"9cad4005-6b88-4d02-b38e-8b6d9af08cb5\" data-root-id=\"5900\"></div>\n",
       "</div>\n",
       "<script type=\"application/javascript\">(function(root) {\n",
       "  function embed_document(root) {\n",
       "    var docs_json = {\"decca58c-0ac8-4830-a05f-67a61a76aa5b\":{\"roots\":{\"references\":[{\"attributes\":{\"bottom_units\":\"screen\",\"fill_alpha\":0.5,\"fill_color\":\"lightgrey\",\"left_units\":\"screen\",\"level\":\"overlay\",\"line_alpha\":1.0,\"line_color\":\"black\",\"line_dash\":[4,4],\"line_width\":2,\"right_units\":\"screen\",\"top_units\":\"screen\"},\"id\":\"5926\",\"type\":\"BoxAnnotation\"},{\"attributes\":{\"data_source\":{\"id\":\"5935\"},\"glyph\":{\"id\":\"5938\"},\"hover_glyph\":null,\"muted_glyph\":{\"id\":\"5940\"},\"nonselection_glyph\":{\"id\":\"5939\"},\"selection_glyph\":null,\"view\":{\"id\":\"5942\"}},\"id\":\"5941\",\"type\":\"GlyphRenderer\"},{\"attributes\":{\"fill_alpha\":{\"value\":0.2},\"fill_color\":{\"field\":\"Variable\",\"transform\":{\"id\":\"5934\"}},\"line_alpha\":{\"value\":0.2},\"top\":{\"field\":\"value\"},\"width\":{\"value\":0.8},\"x\":{\"field\":\"xoffsets\"}},\"id\":\"5940\",\"type\":\"VBar\"},{\"attributes\":{\"factors\":[\"Open\",\"Close\"],\"palette\":[\"#1f77b3\",\"#ff7e0e\"]},\"id\":\"5934\",\"type\":\"CategoricalColorMapper\"},{\"attributes\":{\"axis_label\":\"\",\"bounds\":\"auto\",\"formatter\":{\"id\":\"5946\"},\"major_label_orientation\":\"horizontal\",\"ticker\":{\"id\":\"5918\"}},\"id\":\"5917\",\"type\":\"LinearAxis\"},{\"attributes\":{},\"id\":\"5954\",\"type\":\"UnionRenderers\"},{\"attributes\":{},\"id\":\"5922\",\"type\":\"PanTool\"},{\"attributes\":{},\"id\":\"5915\",\"type\":\"CategoricalTicker\"},{\"attributes\":{\"data\":{\"Variable\":[\"Open\",\"Open\",\"Open\",\"Open\",\"Open\",\"Open\",\"Open\",\"Open\",\"Open\",\"Open\",\"Open\",\"Open\",\"Open\",\"Open\",\"Open\",\"Open\",\"Open\",\"Open\",\"Open\",\"Open\",\"Open\",\"Open\",\"Open\",\"Open\",\"Open\",\"Open\",\"Open\",\"Open\",\"Open\",\"Open\",\"Close\",\"Close\",\"Close\",\"Close\",\"Close\",\"Close\",\"Close\",\"Close\",\"Close\",\"Close\",\"Close\",\"Close\",\"Close\",\"Close\",\"Close\",\"Close\",\"Close\",\"Close\",\"Close\",\"Close\",\"Close\",\"Close\",\"Close\",\"Close\",\"Close\",\"Close\",\"Close\",\"Close\",\"Close\",\"Close\"],\"index\":[\"0\",\"1\",\"2\",\"3\",\"4\",\"5\",\"6\",\"7\",\"8\",\"9\",\"10\",\"11\",\"12\",\"13\",\"14\",\"15\",\"16\",\"17\",\"18\",\"19\",\"20\",\"21\",\"22\",\"23\",\"24\",\"25\",\"26\",\"27\",\"28\",\"29\",\"0\",\"1\",\"2\",\"3\",\"4\",\"5\",\"6\",\"7\",\"8\",\"9\",\"10\",\"11\",\"12\",\"13\",\"14\",\"15\",\"16\",\"17\",\"18\",\"19\",\"20\",\"21\",\"22\",\"23\",\"24\",\"25\",\"26\",\"27\",\"28\",\"29\"],\"value\":{\"__ndarray__\":\"AAAAAADQYUAAAAAAAEBhQEG5bd+jqGFAAAAAAACAYUAAAAAAAABjQJYFE38UJmNAAAAAAACwZEBWZ7XAHg1oQN8Vwf/Wk2hAAAAAAADgaUCWBRN/FOZnQAAAAAAAAGlA4DDRIIXzZ0CKyRtgZsZnQKuzWmCPSmhAAAAAAADAaEAAAAAAAABpQAw89x6u32hAFJM3wMysZ0CqmEo/4VJoQIrJG2Bm/mdAVme1wB4VZ0Ah6j4AKaxmQLfvUX89smdAiskbYGbuZkDMnZlguDZmQFZntcAe1WdAAAAAAAAQakA2fXbA9aBqQOxsyD8zs2lAlgUTfxRmYUBJEK6Awg1iQPTDCOFRgGFAQblt36MYY0CqmEo/4YJjQAAAAAAA4GRADDz3Hq7/Z0AAAAAAAMBoQAw89x6u52lAFJM3wMxkZ0AAAAAAANhoQMydmWC4rmdAIM8u33rcZ0AAAAAAAABoQGr67IDr+WdAy4KJPwrHaEC371F/PSJoQHY25J+Z+WZAQblt36MoaEBVTKWfcOVnQDV9dsD10GZAq7NaYI+SZkCrs1pgj6pnQL9GkiBcp2ZASRCugMItZkAAAAAAAHhnQFZntcAe5WpA9cMI4VGoakDLgok/Cl9pQFVMpZ9whWpA\",\"dtype\":\"float64\",\"order\":\"little\",\"shape\":[60]},\"xoffsets\":[[\"0\",\"Open\"],[\"1\",\"Open\"],[\"2\",\"Open\"],[\"3\",\"Open\"],[\"4\",\"Open\"],[\"5\",\"Open\"],[\"6\",\"Open\"],[\"7\",\"Open\"],[\"8\",\"Open\"],[\"9\",\"Open\"],[\"10\",\"Open\"],[\"11\",\"Open\"],[\"12\",\"Open\"],[\"13\",\"Open\"],[\"14\",\"Open\"],[\"15\",\"Open\"],[\"16\",\"Open\"],[\"17\",\"Open\"],[\"18\",\"Open\"],[\"19\",\"Open\"],[\"20\",\"Open\"],[\"21\",\"Open\"],[\"22\",\"Open\"],[\"23\",\"Open\"],[\"24\",\"Open\"],[\"25\",\"Open\"],[\"26\",\"Open\"],[\"27\",\"Open\"],[\"28\",\"Open\"],[\"29\",\"Open\"],[\"0\",\"Close\"],[\"1\",\"Close\"],[\"2\",\"Close\"],[\"3\",\"Close\"],[\"4\",\"Close\"],[\"5\",\"Close\"],[\"6\",\"Close\"],[\"7\",\"Close\"],[\"8\",\"Close\"],[\"9\",\"Close\"],[\"10\",\"Close\"],[\"11\",\"Close\"],[\"12\",\"Close\"],[\"13\",\"Close\"],[\"14\",\"Close\"],[\"15\",\"Close\"],[\"16\",\"Close\"],[\"17\",\"Close\"],[\"18\",\"Close\"],[\"19\",\"Close\"],[\"20\",\"Close\"],[\"21\",\"Close\"],[\"22\",\"Close\"],[\"23\",\"Close\"],[\"24\",\"Close\"],[\"25\",\"Close\"],[\"26\",\"Close\"],[\"27\",\"Close\"],[\"28\",\"Close\"],[\"29\",\"Close\"]]},\"selected\":{\"id\":\"5936\"},\"selection_policy\":{\"id\":\"5954\"}},\"id\":\"5935\",\"type\":\"ColumnDataSource\"},{\"attributes\":{\"factors\":[[\"0\",\"Close\"],[\"0\",\"Open\"],[\"1\",\"Close\"],[\"1\",\"Open\"],[\"2\",\"Close\"],[\"2\",\"Open\"],[\"3\",\"Close\"],[\"3\",\"Open\"],[\"4\",\"Close\"],[\"4\",\"Open\"],[\"5\",\"Close\"],[\"5\",\"Open\"],[\"6\",\"Close\"],[\"6\",\"Open\"],[\"7\",\"Close\"],[\"7\",\"Open\"],[\"8\",\"Close\"],[\"8\",\"Open\"],[\"9\",\"Close\"],[\"9\",\"Open\"],[\"10\",\"Close\"],[\"10\",\"Open\"],[\"11\",\"Close\"],[\"11\",\"Open\"],[\"12\",\"Close\"],[\"12\",\"Open\"],[\"13\",\"Close\"],[\"13\",\"Open\"],[\"14\",\"Close\"],[\"14\",\"Open\"],[\"15\",\"Close\"],[\"15\",\"Open\"],[\"16\",\"Close\"],[\"16\",\"Open\"],[\"17\",\"Close\"],[\"17\",\"Open\"],[\"18\",\"Close\"],[\"18\",\"Open\"],[\"19\",\"Close\"],[\"19\",\"Open\"],[\"20\",\"Close\"],[\"20\",\"Open\"],[\"21\",\"Close\"],[\"21\",\"Open\"],[\"22\",\"Close\"],[\"22\",\"Open\"],[\"23\",\"Close\"],[\"23\",\"Open\"],[\"24\",\"Close\"],[\"24\",\"Open\"],[\"25\",\"Close\"],[\"25\",\"Open\"],[\"26\",\"Close\"],[\"26\",\"Open\"],[\"27\",\"Close\"],[\"27\",\"Open\"],[\"28\",\"Close\"],[\"28\",\"Open\"],[\"29\",\"Close\"],[\"29\",\"Open\"]],\"tags\":[[[\"index\",\"index\",null],[\"Variable\",\"Variable\",null]]]},\"id\":\"5902\",\"type\":\"FactorRange\"},{\"attributes\":{},\"id\":\"5918\",\"type\":\"BasicTicker\"},{\"attributes\":{\"margin\":[5,5,5,5],\"name\":\"HSpacer12486\",\"sizing_mode\":\"stretch_width\"},\"id\":\"5963\",\"type\":\"Spacer\"},{\"attributes\":{\"axis_label\":\"\",\"bounds\":\"auto\",\"formatter\":{\"id\":\"5944\"},\"major_label_orientation\":1.5707963267948966,\"ticker\":{\"id\":\"5915\"}},\"id\":\"5914\",\"type\":\"CategoricalAxis\"},{\"attributes\":{},\"id\":\"5923\",\"type\":\"WheelZoomTool\"},{\"attributes\":{\"margin\":[5,5,5,5],\"name\":\"HSpacer12485\",\"sizing_mode\":\"stretch_width\"},\"id\":\"5901\",\"type\":\"Spacer\"},{\"attributes\":{},\"id\":\"5921\",\"type\":\"SaveTool\"},{\"attributes\":{\"overlay\":{\"id\":\"5926\"}},\"id\":\"5924\",\"type\":\"BoxZoomTool\"},{\"attributes\":{},\"id\":\"5946\",\"type\":\"BasicTickFormatter\"},{\"attributes\":{\"axis\":{\"id\":\"5914\"},\"grid_line_color\":null,\"ticker\":null},\"id\":\"5916\",\"type\":\"Grid\"},{\"attributes\":{},\"id\":\"5925\",\"type\":\"ResetTool\"},{\"attributes\":{},\"id\":\"5912\",\"type\":\"LinearScale\"},{\"attributes\":{\"active_drag\":\"auto\",\"active_inspect\":\"auto\",\"active_multi\":null,\"active_scroll\":\"auto\",\"active_tap\":\"auto\",\"tools\":[{\"id\":\"5904\"},{\"id\":\"5921\"},{\"id\":\"5922\"},{\"id\":\"5923\"},{\"id\":\"5924\"},{\"id\":\"5925\"}]},\"id\":\"5927\",\"type\":\"Toolbar\"},{\"attributes\":{\"children\":[{\"id\":\"5901\"},{\"id\":\"5905\"},{\"id\":\"5963\"}],\"margin\":[0,0,0,0],\"name\":\"Row12481\",\"tags\":[\"embedded\"]},\"id\":\"5900\",\"type\":\"Row\"},{\"attributes\":{\"fill_color\":{\"field\":\"Variable\",\"transform\":{\"id\":\"5934\"}},\"top\":{\"field\":\"value\"},\"width\":{\"value\":0.8},\"x\":{\"field\":\"xoffsets\"}},\"id\":\"5938\",\"type\":\"VBar\"},{\"attributes\":{},\"id\":\"5910\",\"type\":\"CategoricalScale\"},{\"attributes\":{\"fill_alpha\":{\"value\":0.1},\"fill_color\":{\"field\":\"Variable\",\"transform\":{\"id\":\"5934\"}},\"line_alpha\":{\"value\":0.1},\"top\":{\"field\":\"value\"},\"width\":{\"value\":0.8},\"x\":{\"field\":\"xoffsets\"}},\"id\":\"5939\",\"type\":\"VBar\"},{\"attributes\":{\"text\":\"Opening & Closing Values of DoorDash last 30 days\",\"text_color\":{\"value\":\"black\"},\"text_font_size\":{\"value\":\"12pt\"}},\"id\":\"5906\",\"type\":\"Title\"},{\"attributes\":{\"axis\":{\"id\":\"5917\"},\"dimension\":1,\"grid_line_color\":null,\"ticker\":null},\"id\":\"5920\",\"type\":\"Grid\"},{\"attributes\":{},\"id\":\"5936\",\"type\":\"Selection\"},{\"attributes\":{\"below\":[{\"id\":\"5914\"}],\"center\":[{\"id\":\"5916\"},{\"id\":\"5920\"}],\"left\":[{\"id\":\"5917\"}],\"margin\":[5,5,5,5],\"min_border_bottom\":10,\"min_border_left\":10,\"min_border_right\":10,\"min_border_top\":10,\"plot_height\":300,\"plot_width\":700,\"renderers\":[{\"id\":\"5941\"}],\"sizing_mode\":\"fixed\",\"title\":{\"id\":\"5906\"},\"toolbar\":{\"id\":\"5927\"},\"x_range\":{\"id\":\"5902\"},\"x_scale\":{\"id\":\"5910\"},\"y_range\":{\"id\":\"5903\"},\"y_scale\":{\"id\":\"5912\"}},\"id\":\"5905\",\"subtype\":\"Figure\",\"type\":\"Plot\"},{\"attributes\":{},\"id\":\"5944\",\"type\":\"CategoricalTickFormatter\"},{\"attributes\":{\"callback\":null,\"renderers\":[{\"id\":\"5941\"}],\"tags\":[\"hv_created\"],\"tooltips\":[[\"index\",\"@{index}\"],[\"Variable\",\"@{Variable}\"],[\"value\",\"@{value}\"]]},\"id\":\"5904\",\"type\":\"HoverTool\"},{\"attributes\":{\"end\":222.87600440000003,\"reset_end\":222.87600440000003,\"reset_start\":0.0,\"tags\":[[[\"value\",\"value\",null]]]},\"id\":\"5903\",\"type\":\"Range1d\"},{\"attributes\":{\"source\":{\"id\":\"5935\"}},\"id\":\"5942\",\"type\":\"CDSView\"}],\"root_ids\":[\"5900\"]},\"title\":\"Bokeh Application\",\"version\":\"2.2.3\"}};\n",
       "    var render_items = [{\"docid\":\"decca58c-0ac8-4830-a05f-67a61a76aa5b\",\"root_ids\":[\"5900\"],\"roots\":{\"5900\":\"9cad4005-6b88-4d02-b38e-8b6d9af08cb5\"}}];\n",
       "    root.Bokeh.embed.embed_items_notebook(docs_json, render_items);\n",
       "  }\n",
       "  if (root.Bokeh !== undefined && root.Bokeh.Panel !== undefined) {\n",
       "    embed_document(root);\n",
       "  } else {\n",
       "    var attempts = 0;\n",
       "    var timer = setInterval(function(root) {\n",
       "      if (root.Bokeh !== undefined && root.Bokeh.Panel !== undefined) {\n",
       "        clearInterval(timer);\n",
       "        embed_document(root);\n",
       "      } else if (document.readyState == \"complete\") {\n",
       "        attempts++;\n",
       "        if (attempts > 100) {\n",
       "          clearInterval(timer);\n",
       "          console.log(\"Bokeh: ERROR: Unable to run BokehJS code because BokehJS library is missing\");\n",
       "        }\n",
       "      }\n",
       "    }, 10, root)\n",
       "  }\n",
       "})(window);</script>"
      ],
      "text/plain": [
       ":Bars   [index,Variable]   (value)"
      ]
     },
     "execution_count": 175,
     "metadata": {
      "application/vnd.holoviews_exec.v0+json": {
       "id": "5900"
      }
     },
     "output_type": "execute_result"
    }
   ],
   "source": [
    "dash_df.hvplot(kind=\"bar\", title=\"Opening & Closing Values of DoorDash last 30 days\", rot=90)"
   ]
  },
  {
   "cell_type": "code",
   "execution_count": 176,
   "metadata": {},
   "outputs": [
    {
     "data": {},
     "metadata": {},
     "output_type": "display_data"
    },
    {
     "data": {
      "application/vnd.holoviews_exec.v0+json": "",
      "text/html": [
       "<div id='6005'>\n",
       "\n",
       "\n",
       "\n",
       "\n",
       "\n",
       "  <div class=\"bk-root\" id=\"fdd35cf7-811d-436a-8b15-4df9b92001f7\" data-root-id=\"6005\"></div>\n",
       "</div>\n",
       "<script type=\"application/javascript\">(function(root) {\n",
       "  function embed_document(root) {\n",
       "    var docs_json = {\"e19ae1c4-c3fc-4de0-bd73-608c21939c3f\":{\"roots\":{\"references\":[{\"attributes\":{\"overlay\":{\"id\":\"6033\"}},\"id\":\"6031\",\"type\":\"BoxZoomTool\"},{\"attributes\":{},\"id\":\"6060\",\"type\":\"UnionRenderers\"},{\"attributes\":{\"below\":[{\"id\":\"6020\"}],\"center\":[{\"id\":\"6023\"},{\"id\":\"6027\"}],\"left\":[{\"id\":\"6024\"}],\"margin\":[5,5,5,5],\"min_border_bottom\":10,\"min_border_left\":10,\"min_border_right\":10,\"min_border_top\":10,\"plot_height\":300,\"plot_width\":700,\"renderers\":[{\"id\":\"6051\"},{\"id\":\"6069\"}],\"right\":[{\"id\":\"6061\"}],\"sizing_mode\":\"fixed\",\"title\":{\"id\":\"6012\"},\"toolbar\":{\"id\":\"6034\"},\"x_range\":{\"id\":\"6007\"},\"x_scale\":{\"id\":\"6016\"},\"y_range\":{\"id\":\"6008\"},\"y_scale\":{\"id\":\"6018\"}},\"id\":\"6011\",\"subtype\":\"Figure\",\"type\":\"Plot\"},{\"attributes\":{},\"id\":\"6032\",\"type\":\"ResetTool\"},{\"attributes\":{\"fill_color\":{\"value\":\"#1f77b3\"},\"line_color\":{\"value\":\"#1f77b3\"},\"size\":{\"units\":\"screen\",\"value\":5.477225575051661},\"x\":{\"field\":\"index\"},\"y\":{\"field\":\"value\"}},\"id\":\"6048\",\"type\":\"Scatter\"},{\"attributes\":{},\"id\":\"6080\",\"type\":\"UnionRenderers\"},{\"attributes\":{\"fill_alpha\":{\"value\":0.1},\"fill_color\":{\"value\":\"#1f77b3\"},\"line_alpha\":{\"value\":0.1},\"line_color\":{\"value\":\"#1f77b3\"},\"size\":{\"units\":\"screen\",\"value\":5.477225575051661},\"x\":{\"field\":\"index\"},\"y\":{\"field\":\"value\"}},\"id\":\"6049\",\"type\":\"Scatter\"},{\"attributes\":{},\"id\":\"6046\",\"type\":\"Selection\"},{\"attributes\":{\"click_policy\":\"mute\",\"items\":[{\"id\":\"6062\"},{\"id\":\"6081\"}],\"location\":[0,0],\"title\":\"Variable\"},\"id\":\"6061\",\"type\":\"Legend\"},{\"attributes\":{\"margin\":[5,5,5,5],\"name\":\"HSpacer12844\",\"sizing_mode\":\"stretch_width\"},\"id\":\"6006\",\"type\":\"Spacer\"},{\"attributes\":{\"data_source\":{\"id\":\"6045\"},\"glyph\":{\"id\":\"6048\"},\"hover_glyph\":null,\"muted_glyph\":{\"id\":\"6050\"},\"nonselection_glyph\":{\"id\":\"6049\"},\"selection_glyph\":null,\"view\":{\"id\":\"6052\"}},\"id\":\"6051\",\"type\":\"GlyphRenderer\"},{\"attributes\":{\"source\":{\"id\":\"6045\"}},\"id\":\"6052\",\"type\":\"CDSView\"},{\"attributes\":{},\"id\":\"6044\",\"type\":\"BasicTickFormatter\"},{\"attributes\":{\"data\":{\"Variable\":[\"Open\",\"Open\",\"Open\",\"Open\",\"Open\",\"Open\",\"Open\",\"Open\",\"Open\",\"Open\",\"Open\",\"Open\",\"Open\",\"Open\",\"Open\",\"Open\",\"Open\",\"Open\",\"Open\",\"Open\",\"Open\",\"Open\",\"Open\",\"Open\",\"Open\",\"Open\",\"Open\",\"Open\",\"Open\",\"Open\"],\"index\":[0,1,2,3,4,5,6,7,8,9,10,11,12,13,14,15,16,17,18,19,20,21,22,23,24,25,26,27,28,29],\"value\":{\"__ndarray__\":\"q7NaYI/WcUDwiuB/64lxQN8Vwf/Wf3FAVUyln3AJcUAAAAAAALBzQAAAAAAAcHJAAAAAAACgckAAAAAAAHByQAAAAAAAEHNA2/eovx4tc0AAAAAAAFxyQAAAAAAAEHJAAAAAAAAAckC7KHrgo8RxQOxsyD8zR3JAMV9egD3qcUAAAAAAAFBxQHpU/N9RUHFAAAAAAADwcEB2NuSfmTFxQEXXhR9cG3JAuyh64KNQc0AUkzfAzFxzQNv3qL8eIXNARdeFH1xLc0AAAAAAAAhzQBSTN8DMTHRAAAAAAAAUc0AAAAAAALByQOxsyD8zC3NA\",\"dtype\":\"float64\",\"order\":\"little\",\"shape\":[30]}},\"selected\":{\"id\":\"6046\"},\"selection_policy\":{\"id\":\"6060\"}},\"id\":\"6045\",\"type\":\"ColumnDataSource\"},{\"attributes\":{\"fill_alpha\":{\"value\":0.2},\"fill_color\":{\"value\":\"#1f77b3\"},\"line_alpha\":{\"value\":0.2},\"line_color\":{\"value\":\"#1f77b3\"},\"size\":{\"units\":\"screen\",\"value\":5.477225575051661},\"x\":{\"field\":\"index\"},\"y\":{\"field\":\"value\"}},\"id\":\"6050\",\"type\":\"Scatter\"},{\"attributes\":{\"fill_alpha\":{\"value\":0.1},\"fill_color\":{\"value\":\"#ff7e0e\"},\"line_alpha\":{\"value\":0.1},\"line_color\":{\"value\":\"#ff7e0e\"},\"size\":{\"units\":\"screen\",\"value\":5.477225575051661},\"x\":{\"field\":\"index\"},\"y\":{\"field\":\"value\"}},\"id\":\"6067\",\"type\":\"Scatter\"},{\"attributes\":{\"end\":330.65998559999997,\"reset_end\":330.65998559999997,\"reset_start\":260.34001440000003,\"start\":260.34001440000003,\"tags\":[[[\"value\",\"value\",null]]]},\"id\":\"6008\",\"type\":\"Range1d\"},{\"attributes\":{},\"id\":\"6042\",\"type\":\"BasicTickFormatter\"},{\"attributes\":{\"bottom_units\":\"screen\",\"fill_alpha\":0.5,\"fill_color\":\"lightgrey\",\"left_units\":\"screen\",\"level\":\"overlay\",\"line_alpha\":1.0,\"line_color\":\"black\",\"line_dash\":[4,4],\"line_width\":2,\"right_units\":\"screen\",\"top_units\":\"screen\"},\"id\":\"6033\",\"type\":\"BoxAnnotation\"},{\"attributes\":{},\"id\":\"6021\",\"type\":\"BasicTicker\"},{\"attributes\":{\"margin\":[5,5,5,5],\"name\":\"HSpacer12845\",\"sizing_mode\":\"stretch_width\"},\"id\":\"6172\",\"type\":\"Spacer\"},{\"attributes\":{\"fill_color\":{\"value\":\"#ff7e0e\"},\"line_color\":{\"value\":\"#ff7e0e\"},\"size\":{\"units\":\"screen\",\"value\":5.477225575051661},\"x\":{\"field\":\"index\"},\"y\":{\"field\":\"value\"}},\"id\":\"6066\",\"type\":\"Scatter\"},{\"attributes\":{\"axis_label\":\"\",\"bounds\":\"auto\",\"formatter\":{\"id\":\"6042\"},\"major_label_orientation\":\"horizontal\",\"ticker\":{\"id\":\"6021\"}},\"id\":\"6020\",\"type\":\"LinearAxis\"},{\"attributes\":{\"label\":{\"value\":\"Open\"},\"renderers\":[{\"id\":\"6051\"}]},\"id\":\"6062\",\"type\":\"LegendItem\"},{\"attributes\":{},\"id\":\"6016\",\"type\":\"LinearScale\"},{\"attributes\":{\"text\":\"Opening & Closing Values of Snowflake last 30 days\",\"text_color\":{\"value\":\"black\"},\"text_font_size\":{\"value\":\"12pt\"}},\"id\":\"6012\",\"type\":\"Title\"},{\"attributes\":{},\"id\":\"6064\",\"type\":\"Selection\"},{\"attributes\":{\"fill_alpha\":{\"value\":0.2},\"fill_color\":{\"value\":\"#ff7e0e\"},\"line_alpha\":{\"value\":0.2},\"line_color\":{\"value\":\"#ff7e0e\"},\"size\":{\"units\":\"screen\",\"value\":5.477225575051661},\"x\":{\"field\":\"index\"},\"y\":{\"field\":\"value\"}},\"id\":\"6068\",\"type\":\"Scatter\"},{\"attributes\":{\"end\":30.242857142857144,\"reset_end\":30.242857142857144,\"reset_start\":-1.2428571428571429,\"start\":-1.2428571428571429,\"tags\":[[[\"index\",\"index\",null]]]},\"id\":\"6007\",\"type\":\"Range1d\"},{\"attributes\":{\"source\":{\"id\":\"6063\"}},\"id\":\"6070\",\"type\":\"CDSView\"},{\"attributes\":{},\"id\":\"6029\",\"type\":\"PanTool\"},{\"attributes\":{\"children\":[{\"id\":\"6006\"},{\"id\":\"6011\"},{\"id\":\"6172\"}],\"margin\":[0,0,0,0],\"name\":\"Row12840\",\"tags\":[\"embedded\"]},\"id\":\"6005\",\"type\":\"Row\"},{\"attributes\":{\"data_source\":{\"id\":\"6063\"},\"glyph\":{\"id\":\"6066\"},\"hover_glyph\":null,\"muted_glyph\":{\"id\":\"6068\"},\"nonselection_glyph\":{\"id\":\"6067\"},\"selection_glyph\":null,\"view\":{\"id\":\"6070\"}},\"id\":\"6069\",\"type\":\"GlyphRenderer\"},{\"attributes\":{\"callback\":null,\"renderers\":[{\"id\":\"6051\"},{\"id\":\"6069\"}],\"tags\":[\"hv_created\"],\"tooltips\":[[\"Variable\",\"@{Variable}\"],[\"index\",\"@{index}\"],[\"value\",\"@{value}\"]]},\"id\":\"6009\",\"type\":\"HoverTool\"},{\"attributes\":{\"data\":{\"Variable\":[\"Close\",\"Close\",\"Close\",\"Close\",\"Close\",\"Close\",\"Close\",\"Close\",\"Close\",\"Close\",\"Close\",\"Close\",\"Close\",\"Close\",\"Close\",\"Close\",\"Close\",\"Close\",\"Close\",\"Close\",\"Close\",\"Close\",\"Close\",\"Close\",\"Close\",\"Close\",\"Close\",\"Close\",\"Close\",\"Close\"],\"index\":[0,1,2,3,4,5,6,7,8,9,10,11,12,13,14,15,16,17,18,19,20,21,22,23,24,25,26,27,28,29],\"value\":{\"__ndarray__\":\"3xXB/9ZjcUCv0XKgR71xQHpU/N9RwHBA7GzIPzMDc0B2NuSfmcFyQMuCiT8KU3JAdjbkn5lVckAUkzfAzIhyQCHqPgAp/HJAFJM3wMw0ckBF14UfXONxQBB1H4AUnnFA2/eovx7lcUAlCFdA4dpxQAAAAAAA9HFAhqsDIK6PcUDsbMg/M6NwQBB1H4AUEnFA7GzIPzMHcUAAAAAAAKBxQEXXhR9cy3JAMV9egD0Kc0DPoKF/wvlyQBSTN8DMIHNAAAAAAAAIc0C7KHrgo6RzQKuzWmCPHnNAhqsDIK6rckBlwcQfhbdyQBSTN8DMaHJA\",\"dtype\":\"float64\",\"order\":\"little\",\"shape\":[30]}},\"selected\":{\"id\":\"6064\"},\"selection_policy\":{\"id\":\"6080\"}},\"id\":\"6063\",\"type\":\"ColumnDataSource\"},{\"attributes\":{\"axis\":{\"id\":\"6020\"},\"grid_line_color\":null,\"ticker\":null},\"id\":\"6023\",\"type\":\"Grid\"},{\"attributes\":{},\"id\":\"6025\",\"type\":\"BasicTicker\"},{\"attributes\":{\"axis\":{\"id\":\"6024\"},\"dimension\":1,\"grid_line_color\":null,\"ticker\":null},\"id\":\"6027\",\"type\":\"Grid\"},{\"attributes\":{\"label\":{\"value\":\"Close\"},\"renderers\":[{\"id\":\"6069\"}]},\"id\":\"6081\",\"type\":\"LegendItem\"},{\"attributes\":{\"axis_label\":\"\",\"bounds\":\"auto\",\"formatter\":{\"id\":\"6044\"},\"major_label_orientation\":\"horizontal\",\"ticker\":{\"id\":\"6025\"}},\"id\":\"6024\",\"type\":\"LinearAxis\"},{\"attributes\":{},\"id\":\"6018\",\"type\":\"LinearScale\"},{\"attributes\":{},\"id\":\"6030\",\"type\":\"WheelZoomTool\"},{\"attributes\":{\"active_drag\":\"auto\",\"active_inspect\":\"auto\",\"active_multi\":null,\"active_scroll\":\"auto\",\"active_tap\":\"auto\",\"tools\":[{\"id\":\"6009\"},{\"id\":\"6028\"},{\"id\":\"6029\"},{\"id\":\"6030\"},{\"id\":\"6031\"},{\"id\":\"6032\"}]},\"id\":\"6034\",\"type\":\"Toolbar\"},{\"attributes\":{},\"id\":\"6028\",\"type\":\"SaveTool\"}],\"root_ids\":[\"6005\"]},\"title\":\"Bokeh Application\",\"version\":\"2.2.3\"}};\n",
       "    var render_items = [{\"docid\":\"e19ae1c4-c3fc-4de0-bd73-608c21939c3f\",\"root_ids\":[\"6005\"],\"roots\":{\"6005\":\"fdd35cf7-811d-436a-8b15-4df9b92001f7\"}}];\n",
       "    root.Bokeh.embed.embed_items_notebook(docs_json, render_items);\n",
       "  }\n",
       "  if (root.Bokeh !== undefined && root.Bokeh.Panel !== undefined) {\n",
       "    embed_document(root);\n",
       "  } else {\n",
       "    var attempts = 0;\n",
       "    var timer = setInterval(function(root) {\n",
       "      if (root.Bokeh !== undefined && root.Bokeh.Panel !== undefined) {\n",
       "        clearInterval(timer);\n",
       "        embed_document(root);\n",
       "      } else if (document.readyState == \"complete\") {\n",
       "        attempts++;\n",
       "        if (attempts > 100) {\n",
       "          clearInterval(timer);\n",
       "          console.log(\"Bokeh: ERROR: Unable to run BokehJS code because BokehJS library is missing\");\n",
       "        }\n",
       "      }\n",
       "    }, 10, root)\n",
       "  }\n",
       "})(window);</script>"
      ],
      "text/plain": [
       ":NdOverlay   [Variable]\n",
       "   :Scatter   [index]   (value)"
      ]
     },
     "execution_count": 176,
     "metadata": {
      "application/vnd.holoviews_exec.v0+json": {
       "id": "6005"
      }
     },
     "output_type": "execute_result"
    }
   ],
   "source": [
    "snow_df.hvplot.scatter(title=\"Opening & Closing Values of Snowflake last 30 days\")"
   ]
  }
 ],
 "metadata": {
  "kernelspec": {
   "display_name": "Python 3",
   "language": "python",
   "name": "python3"
  },
  "language_info": {
   "codemirror_mode": {
    "name": "ipython",
    "version": 3
   },
   "file_extension": ".py",
   "mimetype": "text/x-python",
   "name": "python",
   "nbconvert_exporter": "python",
   "pygments_lexer": "ipython3",
   "version": "3.8.5"
  }
 },
 "nbformat": 4,
 "nbformat_minor": 4
}
